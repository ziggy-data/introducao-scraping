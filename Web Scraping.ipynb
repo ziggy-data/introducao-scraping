{
 "cells": [
  {
   "cell_type": "markdown",
   "metadata": {},
   "source": [
    "# <font color=green>1. MEU PRIMEIRO SCRAPING"
   ]
  },
  {
   "cell_type": "markdown",
   "metadata": {},
   "source": [
    "# 1.1. Introdução"
   ]
  },
  {
   "cell_type": "markdown",
   "metadata": {},
   "source": [
    "## *Web Scraping* é o termo utilizado para definir a prática de coletar automaticamente informações na Internet. Isto é feito, geralmente, por meio de programas que simulam a navegação humana na Web."
   ]
  },
  {
   "cell_type": "markdown",
   "metadata": {},
   "source": [
    "# 1.2. Ambiente e bibliotecas\n",
    "### Utilizaremos em nosso treinamento o navegador Google Chrome"
   ]
  },
  {
   "cell_type": "code",
   "execution_count": 1,
   "metadata": {
    "colab": {},
    "colab_type": "code",
    "id": "e9pXIMIWByAp"
   },
   "outputs": [
    {
     "name": "stdout",
     "output_type": "stream",
     "text": [
      "BeautifulSoup -> 4.10.0\n",
      "urllib -> 3.9\n",
      "pandas -> 1.3.4\n"
     ]
    }
   ],
   "source": [
    "import bs4\n",
    "import urllib.request as urllib_request\n",
    "import pandas\n",
    "\n",
    "print(\"BeautifulSoup ->\", bs4.__version__)\n",
    "print(\"urllib ->\", urllib_request.__version__)\n",
    "print(\"pandas ->\", pandas.__version__)"
   ]
  },
  {
   "cell_type": "markdown",
   "metadata": {},
   "source": [
    "# 1.3. Meu primeiro scraping"
   ]
  },
  {
   "cell_type": "code",
   "execution_count": 2,
   "metadata": {},
   "outputs": [
    {
     "data": {
      "text/plain": [
       "'Curso de Web Scraping'"
      ]
     },
     "execution_count": 2,
     "metadata": {},
     "output_type": "execute_result"
    }
   ],
   "source": [
    "from urllib.request import urlopen\n",
    "from bs4 import BeautifulSoup\n",
    "\n",
    "url = 'https://alura-site-scraping.herokuapp.com/hello-world.php'\n",
    "\n",
    "response = urlopen(url)\n",
    "html = response.read()\n",
    "\n",
    "soup = BeautifulSoup(html, 'html.parser')\n",
    "\n",
    "soup.find('h1',{'class':'sub-header'}).get_text()"
   ]
  },
  {
   "cell_type": "markdown",
   "metadata": {},
   "source": [
    "---\n",
    "# <font color=green>2. OBTENDO E TRATANDO O CONTEÚDO DE UM HTML"
   ]
  },
  {
   "cell_type": "markdown",
   "metadata": {},
   "source": [
    "# 2.1. Entendendo a web"
   ]
  },
  {
   "cell_type": "markdown",
   "metadata": {},
   "source": [
    "<img src=\"./web/web.png\" width=\"700\">"
   ]
  },
  {
   "cell_type": "markdown",
   "metadata": {},
   "source": [
    "# 2.2. Obtendo o conteúdo HTML de um site"
   ]
  },
  {
   "cell_type": "markdown",
   "metadata": {},
   "source": [
    "# urllib.request\n",
    "## https://docs.python.org/3/library/urllib.html"
   ]
  },
  {
   "cell_type": "code",
   "execution_count": 3,
   "metadata": {
    "colab": {
     "base_uri": "https://localhost:8080/",
     "height": 54
    },
    "colab_type": "code",
    "id": "c1pKGnTpgvFU",
    "outputId": "b6b7e32d-4c3e-4f52-a8ba-0b1cbfe15ea4"
   },
   "outputs": [
    {
     "data": {
      "text/plain": [
       "b'<!DOCTYPE html>\\r\\n<html lang=\"pt-br\">\\r\\n<head>\\r\\n    <meta charset=\"utf-8\">\\r\\n    <meta name=\"viewport\" content=\"width=device-width, initial-scale=1, shrink-to-fit=no\">\\r\\n\\r\\n    <title>Alura Motors</title>\\r\\n\\r\\n\\t<style>\\r\\n\\t\\t/*Regra para a animacao*/\\r\\n\\t\\t@keyframes spin {\\r\\n\\t\\t\\t0% { transform: rotate(0deg); }\\r\\n\\t\\t\\t100% { transform: rotate(360deg); }\\r\\n\\t\\t}\\r\\n\\t\\t/*Mudando o tamanho do icone de resposta*/\\r\\n\\t\\tdiv.glyphicon {\\r\\n\\t\\t\\tcolor:#6B8E23;\\r\\n\\t\\t\\tfont-size: 38px;\\r\\n\\t\\t}\\r\\n\\t\\t/*Classe que mostra a animacao \\'spin\\'*/\\r\\n\\t\\t.loader {\\r\\n\\t\\t\\tborder: 16px solid #f3f3f3;\\r\\n\\t\\t\\tborder-radius: 50%;\\r\\n\\t\\t\\tborder-top: 16px solid #3498db;\\r\\n\\t\\t\\twidth: 80px;\\r\\n\\t\\t\\theight: 80px;\\r\\n\\t\\t\\t-webkit-animation: spin 2s linear infinite;\\r\\n\\t\\t\\tanimation: spin 2s linear infinite;\\r\\n\\t\\t}\\r\\n\\t</style>\\r\\n\\t<link rel=\"stylesheet\" href=\"https://maxcdn.bootstrapcdn.com/bootstrap/3.3.7/css/bootstrap.min.css\" integrity=\"sha384-BVYiiSIFeK1dGmJRAkycuHAHRg32OmUcww7on3RYdg4Va+PmSTsz/K68vbdEjh4u\" crossorigin=\"anonymous\">\\r\\n\\t<link rel=\"stylesheet\" href=\"css/styles.css\" media=\"all\">\\r\\n\\r\\n\\t<script src=\"https://code.jquery.com/jquery-1.12.4.js\"></script>\\r\\n\\t<script src=\"https://maxcdn.bootstrapcdn.com/bootstrap/3.3.7/js/bootstrap.min.js\" integrity=\"sha384-Tc5IQib027qvyjSMfHjOMaLkfuWVxZxUPnCJA7l2mCWNIpG9mGCD8wGNIcPD7Txa\" crossorigin=\"anonymous\"></script>\\r\\n\\t<script type=\"text/javascript\" src=\"js/index.js\"></script>\\r\\n\\t<script>\\r\\n\\t\\trequisitar(\"https://alura-scraping.herokuapp.com/produtos?_page=\"+1+\"&_limit=10\")\\r\\n\\t</script>\\r\\n\\r\\n</head>\\r\\n<body cz-shortcut-listen=\"true\">\\r\\n    <noscript>You need to enable JavaScript to run this app.</noscript>\\r\\n\\r\\n\\t<div class=\"modal fade\" data-backdrop=\"static\" id=\"loadingModal\" tabindex=\"-1\" role=\"dialog\" aria-labelledby=\"loadingModal_label\">\\r\\n\\t\\t<div class=\"modal-dialog\" role=\"document\">\\r\\n\\t\\t\\t<div class=\"modal-content\">\\r\\n\\t\\t\\t\\t<div class=\"modal-header\">\\r\\n\\t\\t\\t\\t\\t<h5 class=\"modal-title\" id=\"loadingModal_label\">\\r\\n\\t\\t\\t\\t\\t\\t<span class=\"glyphicon glyphicon-refresh\"></span>Aguarde...\\r\\n\\t\\t\\t\\t\\t</h5>\\r\\n\\t\\t\\t\\t</div>\\r\\n\\t\\t\\t\\t<div class=\"modal-body\">\\r\\n\\t\\t\\t\\t\\t<div class=\\'alert\\' role=\\'alert\\'>\\r\\n\\t\\t\\t\\t\\t\\t<center>\\r\\n\\t\\t\\t\\t\\t\\t\\t<div class=\"loader\" id=\"loader\"></div><br>\\r\\n\\t\\t\\t\\t\\t\\t\\t<h4><b id=\"loadingModal_content\"></b></h4>\\r\\n\\t\\t\\t\\t\\t\\t</center>\\r\\n\\t\\t\\t\\t\\t</div>\\r\\n\\t\\t\\t\\t</div>\\r\\n\\t\\t\\t</div>\\r\\n\\t\\t</div>\\r\\n\\t</div>\\r\\n\\r\\n    <div id=\"root\">\\r\\n\\t\\t<header>\\r\\n\\t\\t\\t<nav class=\"navbar navbar-inverse\" style=\"margin-bottom: 0;\">\\r\\n\\t\\t\\t\\t<div class=\"container\" style=\"margin-bottom: -20px;\">\\r\\n\\t\\t\\t\\t\\t<div class=\"navbar\">\\r\\n\\t\\t\\t\\t\\t\\t<a href=\"./index.php\" class=\"navbar-brand\" title=\"Alura Motors\">\\r\\n\\t\\t\\t\\t\\t\\t\\t<img src=\"img/alura-logo.svg\" class=\"d-inline-block align-top\" alt=\"Alura\">Motors\\r\\n\\t\\t\\t\\t\\t\\t</a>\\r\\n\\t\\t\\t\\t\\t\\t<ul class=\"nav navbar-nav\" style=\"margin-top: 35px;\">\\r\\n\\t\\t\\t\\t\\t\\t\\t<li><a href=\"./hello-world.php\">Hello World</a></li>\\r\\n\\t\\t\\t\\t\\t\\t\\t<li><a href=\"./index.php\">An\\xc3\\xbancios</a></li>\\r\\n\\t\\t\\t\\t\\t\\t</ul>\\r\\n\\t\\t\\t\\t\\t</div>\\r\\n\\t\\t\\t\\t</div>\\r\\n\\t\\t\\t</nav>\\r\\n\\t\\t</header>\\r\\n\\r\\n\\t\\t<div class=\"container\">\\r\\n\\t\\t\\t<h1 class=\"sub-header\">Ve\\xc3\\xadculos de Luxo Novos e Usados - Todas as Marcas</h1>\\r\\n\\t\\t\\t<div class=\"row\">\\r\\n\\t\\t\\t\\t<div class=\"col-md-12\">\\r\\n\\t\\t\\t\\t\\t<div class=\"container\" style=\"width: 100%\">\\r\\n\\t\\t\\t\\t\\t\\t<div class=\"type-select\">246 ve\\xc3\\xadculos encontrados</div>\\r\\n\\t\\t\\t\\t\\t\\t\\t<div class=\"container-pagination\" style=\"float: right\">\\r\\n\\t\\t\\t\\t\\t\\t\\t\\t<span class=\"info-pages\">P\\xc3\\xa1gina 1 de 25</span>\\r\\n\\t\\t\\t\\t\\t\\t\\t</div>\\r\\n\\t\\t\\t\\t\\t\\t</div>\\r\\n\\t\\t\\t\\t\\t\\t<div id=\"container-cards\" style=\"height: 100%\">\\r\\n\\t\\t\\t\\t\\t\\t\\t\\r\\n                <div class=\"well card\">\\r\\n                    <div class=\"col-md-3 image-card\">\\r\\n                        <img width=\"220\" height=\"155\" alt=\"Foto\" src=\"https://caelum-online-public.s3.amazonaws.com/1381-scraping/01/img-cars/lamborghini-aventador/lamborghini-aventador-2932196__340.jpg\">\\r\\n                    </div>\\r\\n                    <div class=\"col-md-6 body-card\">\\r\\n                        <p class=\"txt-name inline\">LAMBORGHINI AVENTADOR</p>\\r\\n                            <p class=\"txt-category badge badge-secondary inline\">USADO</p>\\r\\n                            \\r\\n                        <p class=\"txt-motor\">Motor 1.8 16v</p>\\r\\n                        <p class=\"txt-description\">Ano 1993 - 55.286 km</p>\\r\\n                        <ul class=\"lst-items\">\\r\\n                            <li class=\"txt-items\">\\xe2\\x96\\xba 4 X 4</li>\\r\\n                            <li class=\"txt-items\">\\xe2\\x96\\xba C\\xc3\\xa2mera de estacionamento</li>\\r\\n                            <li class=\"txt-items\">\\xe2\\x96\\xba Controle de tra\\xc3\\xa7\\xc3\\xa3o</li>\\r\\n                            <li class=\"txt-items\">\\xe2\\x96\\xba Sensor de estacionamento</li>\\r\\n                            <li class=\"txt-items\">...</li>\\r\\n                        </ul>\\r\\n                        <p class=\"txt-location\">Belo Horizonte - MG</p>\\r\\n                    </div>\\r\\n                    <div class=\"col-md-3 value-card\">\\r\\n                        <div class=\"value\">\\r\\n                            <p class=\"txt-value\">R$ 338.000</p>\\r\\n                        </div>\\r\\n                    </div>\\r\\n                </div>\\r\\n                <div class=\"well card\">\\r\\n                    <div class=\"col-md-3 image-card\">\\r\\n                        <img width=\"220\" height=\"155\" alt=\"Foto\" src=\"https://caelum-online-public.s3.amazonaws.com/1381-scraping/01/img-cars/bmw-m2/bmw-m2-2970882__340.jpg\">\\r\\n                    </div>\\r\\n                    <div class=\"col-md-6 body-card\">\\r\\n                        <p class=\"txt-name inline\">BMW M2</p>\\r\\n                            <p class=\"txt-category badge badge-secondary inline\">USADO</p>\\r\\n                            \\r\\n                        <p class=\"txt-motor\">Motor 3.0 32v</p>\\r\\n                        <p class=\"txt-description\">Ano 2018 - 83.447 km</p>\\r\\n                        <ul class=\"lst-items\">\\r\\n                            <li class=\"txt-items\">\\xe2\\x96\\xba C\\xc3\\xa2mera de estacionamento</li>\\r\\n                            <li class=\"txt-items\">\\xe2\\x96\\xba Controle de estabilidade</li>\\r\\n                            <li class=\"txt-items\">\\xe2\\x96\\xba Travas el\\xc3\\xa9tricas</li>\\r\\n                            <li class=\"txt-items\">\\xe2\\x96\\xba Freios ABS</li>\\r\\n                            <li class=\"txt-items\">...</li>\\r\\n                        </ul>\\r\\n                        <p class=\"txt-location\">Belo Horizonte - MG</p>\\r\\n                    </div>\\r\\n                    <div class=\"col-md-3 value-card\">\\r\\n                        <div class=\"value\">\\r\\n                            <p class=\"txt-value\">R$ 346.000</p>\\r\\n                        </div>\\r\\n                    </div>\\r\\n                </div>\\r\\n                <div class=\"well card\">\\r\\n                    <div class=\"col-md-3 image-card\">\\r\\n                        <img width=\"220\" height=\"155\" alt=\"Foto\" src=\"https://caelum-online-public.s3.amazonaws.com/1381-scraping/01/img-cars/alfa/alfa-1823056__340.jpg\">\\r\\n                    </div>\\r\\n                    <div class=\"col-md-6 body-card\">\\r\\n                        <p class=\"txt-name inline\">ALFA</p>\\r\\n                            <p class=\"txt-category badge badge-secondary inline\">USADO</p>\\r\\n                            \\r\\n                        <p class=\"txt-motor\">Motor 1.8 16v</p>\\r\\n                        <p class=\"txt-description\">Ano 2004 - 19.722 km</p>\\r\\n                        <ul class=\"lst-items\">\\r\\n                            <li class=\"txt-items\">\\xe2\\x96\\xba Central multim\\xc3\\xaddia</li>\\r\\n                            <li class=\"txt-items\">\\xe2\\x96\\xba Bancos de couro</li>\\r\\n                            <li class=\"txt-items\">\\xe2\\x96\\xba Rodas de liga</li>\\r\\n                            <li class=\"txt-items\">\\xe2\\x96\\xba C\\xc3\\xa2mera de estacionamento</li>\\r\\n                            <li class=\"txt-items\">...</li>\\r\\n                        </ul>\\r\\n                        <p class=\"txt-location\">Rio de Janeiro - RJ</p>\\r\\n                    </div>\\r\\n                    <div class=\"col-md-3 value-card\">\\r\\n                        <div class=\"value\">\\r\\n                            <p class=\"txt-value\">R$ 480.000</p>\\r\\n                        </div>\\r\\n                    </div>\\r\\n                </div>\\r\\n                <div class=\"well card\">\\r\\n                    <div class=\"col-md-3 image-card\">\\r\\n                        <img width=\"220\" height=\"155\" alt=\"Foto\" src=\"https://caelum-online-public.s3.amazonaws.com/1381-scraping/01/img-cars/puech/puech-4055386__340.jpg\">\\r\\n                    </div>\\r\\n                    <div class=\"col-md-6 body-card\">\\r\\n                        <p class=\"txt-name inline\">PUECH</p>\\r\\n                            <p class=\"txt-category badge badge-secondary inline\">USADO</p>\\r\\n                            \\r\\n                        <p class=\"txt-motor\">Motor Diesel V8</p>\\r\\n                        <p class=\"txt-description\">Ano 1992 - 34.335 km</p>\\r\\n                        <ul class=\"lst-items\">\\r\\n                            <li class=\"txt-items\">\\xe2\\x96\\xba Bancos de couro</li>\\r\\n                            <li class=\"txt-items\">\\xe2\\x96\\xba Freios ABS</li>\\r\\n                            <li class=\"txt-items\">\\xe2\\x96\\xba Rodas de liga</li>\\r\\n                            <li class=\"txt-items\">\\xe2\\x96\\xba C\\xc3\\xa2mbio autom\\xc3\\xa1tico</li>\\r\\n                            <li class=\"txt-items\">...</li>\\r\\n                        </ul>\\r\\n                        <p class=\"txt-location\">S\\xc3\\xa3o Paulo - SP</p>\\r\\n                    </div>\\r\\n                    <div class=\"col-md-3 value-card\">\\r\\n                        <div class=\"value\">\\r\\n                            <p class=\"txt-value\">R$ 133.000</p>\\r\\n                        </div>\\r\\n                    </div>\\r\\n                </div>\\r\\n                <div class=\"well card\">\\r\\n                    <div class=\"col-md-3 image-card\">\\r\\n                        <img width=\"220\" height=\"155\" alt=\"Foto\" src=\"https://caelum-online-public.s3.amazonaws.com/1381-scraping/01/img-cars/lamborghini-murcielago/lamborghini-murcielago-2872974__340.jpg\">\\r\\n                    </div>\\r\\n                    <div class=\"col-md-6 body-card\">\\r\\n                        <p class=\"txt-name inline\">LAMBORGHINI MURCIELAGO</p>\\r\\n                            <p class=\"txt-category badge badge-secondary inline\">USADO</p>\\r\\n                            \\r\\n                        <p class=\"txt-motor\">Motor 1.0 8v</p>\\r\\n                        <p class=\"txt-description\">Ano 1991 - 464 km</p>\\r\\n                        <ul class=\"lst-items\">\\r\\n                            <li class=\"txt-items\">\\xe2\\x96\\xba Central multim\\xc3\\xaddia</li>\\r\\n                            <li class=\"txt-items\">\\xe2\\x96\\xba Teto panor\\xc3\\xa2mico</li>\\r\\n                            <li class=\"txt-items\">\\xe2\\x96\\xba Sensor crepuscular</li>\\r\\n                            <li class=\"txt-items\">\\xe2\\x96\\xba Piloto autom\\xc3\\xa1tico</li>\\r\\n                            <li class=\"txt-items\">...</li>\\r\\n                        </ul>\\r\\n                        <p class=\"txt-location\">Belo Horizonte - MG</p>\\r\\n                    </div>\\r\\n                    <div class=\"col-md-3 value-card\">\\r\\n                        <div class=\"value\">\\r\\n                            <p class=\"txt-value\">R$ 175.000</p>\\r\\n                        </div>\\r\\n                    </div>\\r\\n                </div>\\r\\n                <div class=\"well card\">\\r\\n                    <div class=\"col-md-3 image-card\">\\r\\n                        <img width=\"220\" height=\"155\" alt=\"Foto\" src=\"https://caelum-online-public.s3.amazonaws.com/1381-scraping/01/img-cars/aston-martin/aston-martin-2977916__340.jpg\">\\r\\n                    </div>\\r\\n                    <div class=\"col-md-6 body-card\">\\r\\n                        <p class=\"txt-name inline\">ASTON MARTIN</p>\\r\\n                            <p class=\"txt-category badge badge-secondary inline\">USADO</p>\\r\\n                            <p class=\"txt-opportunity badge badge-danger inline\">OPORTUNIDADE</p>\\r\\n                        <p class=\"txt-motor\">Motor Diesel V6</p>\\r\\n                        <p class=\"txt-description\">Ano 2004 - 50.189 km</p>\\r\\n                        <ul class=\"lst-items\">\\r\\n                            <li class=\"txt-items\">\\xe2\\x96\\xba Painel digital</li>\\r\\n                            <li class=\"txt-items\">\\xe2\\x96\\xba Controle de tra\\xc3\\xa7\\xc3\\xa3o</li>\\r\\n                            <li class=\"txt-items\">\\xe2\\x96\\xba Teto panor\\xc3\\xa2mico</li>\\r\\n                            <li class=\"txt-items\">\\xe2\\x96\\xba Central multim\\xc3\\xaddia</li>\\r\\n                            <li class=\"txt-items\">...</li>\\r\\n                        </ul>\\r\\n                        <p class=\"txt-location\">Belo Horizonte - MG</p>\\r\\n                    </div>\\r\\n                    <div class=\"col-md-3 value-card\">\\r\\n                        <div class=\"value\">\\r\\n                            <p class=\"txt-value\">R$ 239.000</p>\\r\\n                        </div>\\r\\n                    </div>\\r\\n                </div>\\r\\n                <div class=\"well card\">\\r\\n                    <div class=\"col-md-3 image-card\">\\r\\n                        <img width=\"220\" height=\"155\" alt=\"Foto\" src=\"https://caelum-online-public.s3.amazonaws.com/1381-scraping/01/img-cars/tvr/tvr-2943925__340.jpg\">\\r\\n                    </div>\\r\\n                    <div class=\"col-md-6 body-card\">\\r\\n                        <p class=\"txt-name inline\">TVR</p>\\r\\n                            <p class=\"txt-category badge badge-secondary inline\">USADO</p>\\r\\n                            \\r\\n                        <p class=\"txt-motor\">Motor 4.0 Turbo</p>\\r\\n                        <p class=\"txt-description\">Ano 2014 - 17.778 km</p>\\r\\n                        <ul class=\"lst-items\">\\r\\n                            <li class=\"txt-items\">\\xe2\\x96\\xba 4 X 4</li>\\r\\n                            <li class=\"txt-items\">\\xe2\\x96\\xba Teto panor\\xc3\\xa2mico</li>\\r\\n                            <li class=\"txt-items\">\\xe2\\x96\\xba Central multim\\xc3\\xaddia</li>\\r\\n                            <li class=\"txt-items\">\\xe2\\x96\\xba Controle de estabilidade</li>\\r\\n                            <li class=\"txt-items\">...</li>\\r\\n                        </ul>\\r\\n                        <p class=\"txt-location\">Belo Horizonte - MG</p>\\r\\n                    </div>\\r\\n                    <div class=\"col-md-3 value-card\">\\r\\n                        <div class=\"value\">\\r\\n                            <p class=\"txt-value\">R$ 115.000</p>\\r\\n                        </div>\\r\\n                    </div>\\r\\n                </div>\\r\\n                <div class=\"well card\">\\r\\n                    <div class=\"col-md-3 image-card\">\\r\\n                        <img width=\"220\" height=\"155\" alt=\"Foto\" src=\"https://caelum-online-public.s3.amazonaws.com/1381-scraping/01/img-cars/excalibur/excalibur-2916730__340.jpg\">\\r\\n                    </div>\\r\\n                    <div class=\"col-md-6 body-card\">\\r\\n                        <p class=\"txt-name inline\">EXCALIBUR</p>\\r\\n                            <p class=\"txt-category badge badge-secondary inline\">USADO</p>\\r\\n                            \\r\\n                        <p class=\"txt-motor\">Motor 3.0 32v</p>\\r\\n                        <p class=\"txt-description\">Ano 2009 - 81.251 km</p>\\r\\n                        <ul class=\"lst-items\">\\r\\n                            <li class=\"txt-items\">\\xe2\\x96\\xba Painel digital</li>\\r\\n                            <li class=\"txt-items\">\\xe2\\x96\\xba C\\xc3\\xa2mbio autom\\xc3\\xa1tico</li>\\r\\n                            <li class=\"txt-items\">\\xe2\\x96\\xba Sensor de chuva</li>\\r\\n                            <li class=\"txt-items\">\\xe2\\x96\\xba Travas el\\xc3\\xa9tricas</li>\\r\\n                            <li class=\"txt-items\">...</li>\\r\\n                        </ul>\\r\\n                        <p class=\"txt-location\">Rio de Janeiro - RJ</p>\\r\\n                    </div>\\r\\n                    <div class=\"col-md-3 value-card\">\\r\\n                        <div class=\"value\">\\r\\n                            <p class=\"txt-value\">R$ 114.000</p>\\r\\n                        </div>\\r\\n                    </div>\\r\\n                </div>\\r\\n                <div class=\"well card\">\\r\\n                    <div class=\"col-md-3 image-card\">\\r\\n                        <img width=\"220\" height=\"155\" alt=\"Foto\" src=\"https://caelum-online-public.s3.amazonaws.com/1381-scraping/01/img-cars/mclaren/mclaren-2855240__340.jpg\">\\r\\n                    </div>\\r\\n                    <div class=\"col-md-6 body-card\">\\r\\n                        <p class=\"txt-name inline\">MCLAREN</p>\\r\\n                            <p class=\"txt-category badge badge-secondary inline\">NOVO</p>\\r\\n                            \\r\\n                        <p class=\"txt-motor\">Motor Diesel</p>\\r\\n                        <p class=\"txt-description\">Ano 2019 - 0 km</p>\\r\\n                        <ul class=\"lst-items\">\\r\\n                            <li class=\"txt-items\">\\xe2\\x96\\xba Central multim\\xc3\\xaddia</li>\\r\\n                            <li class=\"txt-items\">\\xe2\\x96\\xba C\\xc3\\xa2mera de estacionamento</li>\\r\\n                            <li class=\"txt-items\">\\xe2\\x96\\xba C\\xc3\\xa2mbio autom\\xc3\\xa1tico</li>\\r\\n                            <li class=\"txt-items\">\\xe2\\x96\\xba Ar condicionado</li>\\r\\n                            <li class=\"txt-items\">...</li>\\r\\n                        </ul>\\r\\n                        <p class=\"txt-location\">S\\xc3\\xa3o Paulo - SP</p>\\r\\n                    </div>\\r\\n                    <div class=\"col-md-3 value-card\">\\r\\n                        <div class=\"value\">\\r\\n                            <p class=\"txt-value\">R$ 75.000</p>\\r\\n                        </div>\\r\\n                    </div>\\r\\n                </div>\\r\\n                <div class=\"well card\">\\r\\n                    <div class=\"col-md-3 image-card\">\\r\\n                        <img width=\"220\" height=\"155\" alt=\"Foto\" src=\"https://caelum-online-public.s3.amazonaws.com/1381-scraping/01/img-cars/toyota/toyota-3245397__340.jpg\">\\r\\n                    </div>\\r\\n                    <div class=\"col-md-6 body-card\">\\r\\n                        <p class=\"txt-name inline\">TOYOTA</p>\\r\\n                            <p class=\"txt-category badge badge-secondary inline\">USADO</p>\\r\\n                            <p class=\"txt-opportunity badge badge-danger inline\">OPORTUNIDADE</p>\\r\\n                        <p class=\"txt-motor\">Motor 4.0 Turbo</p>\\r\\n                        <p class=\"txt-description\">Ano 1999 - 12.536 km</p>\\r\\n                        <ul class=\"lst-items\">\\r\\n                            <li class=\"txt-items\">\\xe2\\x96\\xba Bancos de couro</li>\\r\\n                            <li class=\"txt-items\">\\xe2\\x96\\xba Freios ABS</li>\\r\\n                            <li class=\"txt-items\">\\xe2\\x96\\xba Piloto autom\\xc3\\xa1tico</li>\\r\\n                            <li class=\"txt-items\">\\xe2\\x96\\xba Controle de estabilidade</li>\\r\\n                            <li class=\"txt-items\">...</li>\\r\\n                        </ul>\\r\\n                        <p class=\"txt-location\">S\\xc3\\xa3o Paulo - SP</p>\\r\\n                    </div>\\r\\n                    <div class=\"col-md-3 value-card\">\\r\\n                        <div class=\"value\">\\r\\n                            <p class=\"txt-value\">R$ 117.000</p>\\r\\n                        </div>\\r\\n                    </div>\\r\\n                </div>\\t\\t\\t\\t\\t\\t</div>\\r\\n\\t\\t\\t\\t\\t\\t<div class=\"type-select\">246 ve\\xc3\\xadculos encontrados</div>\\r\\n\\t\\t\\t\\t\\t\\t\\t<div class=\"container-pagination\" style=\"float: right\">\\r\\n\\t\\t\\t\\t\\t\\t\\t\\t<span class=\"info-pages\">P\\xc3\\xa1gina 1 de 25</span>\\r\\n\\t\\t\\t\\t\\t\\t\\t</div>\\r\\n\\t\\t\\t\\t\\t\\t</div>\\r\\n\\t\\t\\t\\t\\t</div>\\r\\n\\t\\t\\t\\t</div>\\r\\n\\t\\t\\t</div>\\r\\n\\t\\t</div>\\r\\n\\r\\n\\t\\t<footer>\\r\\n\\t\\t\\t<nav class=\"navbar navbar-inverse\">\\r\\n\\t\\t\\t\\t<div class=\"container\" style=\"margin-bottom: 10px;\">\\r\\n\\t\\t\\t\\t\\t<div class=\"navbar\">\\r\\n\\t\\t\\t\\t\\t\\t<a href=\"./index.php\" class=\"navbar-brand\" title=\"Alura Motors\">\\r\\n\\t\\t\\t\\t\\t\\t\\t<img src=\"img/alura-logo.svg\" class=\"d-inline-block align-top\" alt=\"Alura\">Motors\\r\\n\\t\\t\\t\\t\\t\\t</a>\\r\\n\\t\\t\\t\\t\\t\\t<p style=\"color: #fff; text-align: center; margin-top: 40px;\">Aplica\\xc3\\xa7\\xc3\\xa3o para treinamento de web scraping</p>\\r\\n\\t\\t\\t\\t\\t</div>\\r\\n\\t\\t\\t\\t</div>\\r\\n\\t\\t\\t</nav>\\r\\n\\t\\t</footer>\\r\\n\\r\\n\\t</div>\\r\\n\\r\\n</body>\\r\\n</html>\\r\\n'"
      ]
     },
     "execution_count": 3,
     "metadata": {},
     "output_type": "execute_result"
    }
   ],
   "source": [
    "from urllib.request import urlopen\n",
    "\n",
    "url = 'https://alura-site-scraping.herokuapp.com/index.php'\n",
    "response= urlopen(url)\n",
    "html = response.read()\n",
    "\n",
    "html"
   ]
  },
  {
   "cell_type": "markdown",
   "metadata": {},
   "source": [
    "## https://docs.python.org/3/library/urllib.request.html#urllib.request.Request"
   ]
  },
  {
   "cell_type": "code",
   "execution_count": 4,
   "metadata": {},
   "outputs": [
    {
     "name": "stdout",
     "output_type": "stream",
     "text": [
      "b'<!DOCTYPE html>\\r\\n<html lang=\"pt-br\">\\r\\n<head>\\r\\n    <meta charset=\"utf-8\">\\r\\n    <meta name=\"viewport\" content=\"width=device-width, initial-scale=1, shrink-to-fit=no\">\\r\\n\\r\\n    <title>Alura Motors</title>\\r\\n\\r\\n\\t<style>\\r\\n\\t\\t/*Regra para a animacao*/\\r\\n\\t\\t@keyframes spin {\\r\\n\\t\\t\\t0% { transform: rotate(0deg); }\\r\\n\\t\\t\\t100% { transform: rotate(360deg); }\\r\\n\\t\\t}\\r\\n\\t\\t/*Mudando o tamanho do icone de resposta*/\\r\\n\\t\\tdiv.glyphicon {\\r\\n\\t\\t\\tcolor:#6B8E23;\\r\\n\\t\\t\\tfont-size: 38px;\\r\\n\\t\\t}\\r\\n\\t\\t/*Classe que mostra a animacao \\'spin\\'*/\\r\\n\\t\\t.loader {\\r\\n\\t\\t\\tborder: 16px solid #f3f3f3;\\r\\n\\t\\t\\tborder-radius: 50%;\\r\\n\\t\\t\\tborder-top: 16px solid #3498db;\\r\\n\\t\\t\\twidth: 80px;\\r\\n\\t\\t\\theight: 80px;\\r\\n\\t\\t\\t-webkit-animation: spin 2s linear infinite;\\r\\n\\t\\t\\tanimation: spin 2s linear infinite;\\r\\n\\t\\t}\\r\\n\\t</style>\\r\\n\\t<link rel=\"stylesheet\" href=\"https://maxcdn.bootstrapcdn.com/bootstrap/3.3.7/css/bootstrap.min.css\" integrity=\"sha384-BVYiiSIFeK1dGmJRAkycuHAHRg32OmUcww7on3RYdg4Va+PmSTsz/K68vbdEjh4u\" crossorigin=\"anonymous\">\\r\\n\\t<link rel=\"stylesheet\" href=\"css/styles.css\" media=\"all\">\\r\\n\\r\\n\\t<script src=\"https://code.jquery.com/jquery-1.12.4.js\"></script>\\r\\n\\t<script src=\"https://maxcdn.bootstrapcdn.com/bootstrap/3.3.7/js/bootstrap.min.js\" integrity=\"sha384-Tc5IQib027qvyjSMfHjOMaLkfuWVxZxUPnCJA7l2mCWNIpG9mGCD8wGNIcPD7Txa\" crossorigin=\"anonymous\"></script>\\r\\n\\t<script type=\"text/javascript\" src=\"js/index.js\"></script>\\r\\n\\t<script>\\r\\n\\t\\trequisitar(\"https://alura-scraping.herokuapp.com/produtos?_page=\"+1+\"&_limit=10\")\\r\\n\\t</script>\\r\\n\\r\\n</head>\\r\\n<body cz-shortcut-listen=\"true\">\\r\\n    <noscript>You need to enable JavaScript to run this app.</noscript>\\r\\n\\r\\n\\t<div class=\"modal fade\" data-backdrop=\"static\" id=\"loadingModal\" tabindex=\"-1\" role=\"dialog\" aria-labelledby=\"loadingModal_label\">\\r\\n\\t\\t<div class=\"modal-dialog\" role=\"document\">\\r\\n\\t\\t\\t<div class=\"modal-content\">\\r\\n\\t\\t\\t\\t<div class=\"modal-header\">\\r\\n\\t\\t\\t\\t\\t<h5 class=\"modal-title\" id=\"loadingModal_label\">\\r\\n\\t\\t\\t\\t\\t\\t<span class=\"glyphicon glyphicon-refresh\"></span>Aguarde...\\r\\n\\t\\t\\t\\t\\t</h5>\\r\\n\\t\\t\\t\\t</div>\\r\\n\\t\\t\\t\\t<div class=\"modal-body\">\\r\\n\\t\\t\\t\\t\\t<div class=\\'alert\\' role=\\'alert\\'>\\r\\n\\t\\t\\t\\t\\t\\t<center>\\r\\n\\t\\t\\t\\t\\t\\t\\t<div class=\"loader\" id=\"loader\"></div><br>\\r\\n\\t\\t\\t\\t\\t\\t\\t<h4><b id=\"loadingModal_content\"></b></h4>\\r\\n\\t\\t\\t\\t\\t\\t</center>\\r\\n\\t\\t\\t\\t\\t</div>\\r\\n\\t\\t\\t\\t</div>\\r\\n\\t\\t\\t</div>\\r\\n\\t\\t</div>\\r\\n\\t</div>\\r\\n\\r\\n    <div id=\"root\">\\r\\n\\t\\t<header>\\r\\n\\t\\t\\t<nav class=\"navbar navbar-inverse\" style=\"margin-bottom: 0;\">\\r\\n\\t\\t\\t\\t<div class=\"container\" style=\"margin-bottom: -20px;\">\\r\\n\\t\\t\\t\\t\\t<div class=\"navbar\">\\r\\n\\t\\t\\t\\t\\t\\t<a href=\"./index.php\" class=\"navbar-brand\" title=\"Alura Motors\">\\r\\n\\t\\t\\t\\t\\t\\t\\t<img src=\"img/alura-logo.svg\" class=\"d-inline-block align-top\" alt=\"Alura\">Motors\\r\\n\\t\\t\\t\\t\\t\\t</a>\\r\\n\\t\\t\\t\\t\\t\\t<ul class=\"nav navbar-nav\" style=\"margin-top: 35px;\">\\r\\n\\t\\t\\t\\t\\t\\t\\t<li><a href=\"./hello-world.php\">Hello World</a></li>\\r\\n\\t\\t\\t\\t\\t\\t\\t<li><a href=\"./index.php\">An\\xc3\\xbancios</a></li>\\r\\n\\t\\t\\t\\t\\t\\t</ul>\\r\\n\\t\\t\\t\\t\\t</div>\\r\\n\\t\\t\\t\\t</div>\\r\\n\\t\\t\\t</nav>\\r\\n\\t\\t</header>\\r\\n\\r\\n\\t\\t<div class=\"container\">\\r\\n\\t\\t\\t<h1 class=\"sub-header\">Ve\\xc3\\xadculos de Luxo Novos e Usados - Todas as Marcas</h1>\\r\\n\\t\\t\\t<div class=\"row\">\\r\\n\\t\\t\\t\\t<div class=\"col-md-12\">\\r\\n\\t\\t\\t\\t\\t<div class=\"container\" style=\"width: 100%\">\\r\\n\\t\\t\\t\\t\\t\\t<div class=\"type-select\">246 ve\\xc3\\xadculos encontrados</div>\\r\\n\\t\\t\\t\\t\\t\\t\\t<div class=\"container-pagination\" style=\"float: right\">\\r\\n\\t\\t\\t\\t\\t\\t\\t\\t<span class=\"info-pages\">P\\xc3\\xa1gina 1 de 25</span>\\r\\n\\t\\t\\t\\t\\t\\t\\t</div>\\r\\n\\t\\t\\t\\t\\t\\t</div>\\r\\n\\t\\t\\t\\t\\t\\t<div id=\"container-cards\" style=\"height: 100%\">\\r\\n\\t\\t\\t\\t\\t\\t\\t\\r\\n                <div class=\"well card\">\\r\\n                    <div class=\"col-md-3 image-card\">\\r\\n                        <img width=\"220\" height=\"155\" alt=\"Foto\" src=\"https://caelum-online-public.s3.amazonaws.com/1381-scraping/01/img-cars/lamborghini-aventador/lamborghini-aventador-2932196__340.jpg\">\\r\\n                    </div>\\r\\n                    <div class=\"col-md-6 body-card\">\\r\\n                        <p class=\"txt-name inline\">LAMBORGHINI AVENTADOR</p>\\r\\n                            <p class=\"txt-category badge badge-secondary inline\">USADO</p>\\r\\n                            \\r\\n                        <p class=\"txt-motor\">Motor 1.8 16v</p>\\r\\n                        <p class=\"txt-description\">Ano 1993 - 55.286 km</p>\\r\\n                        <ul class=\"lst-items\">\\r\\n                            <li class=\"txt-items\">\\xe2\\x96\\xba 4 X 4</li>\\r\\n                            <li class=\"txt-items\">\\xe2\\x96\\xba C\\xc3\\xa2mera de estacionamento</li>\\r\\n                            <li class=\"txt-items\">\\xe2\\x96\\xba Controle de tra\\xc3\\xa7\\xc3\\xa3o</li>\\r\\n                            <li class=\"txt-items\">\\xe2\\x96\\xba Sensor de estacionamento</li>\\r\\n                            <li class=\"txt-items\">...</li>\\r\\n                        </ul>\\r\\n                        <p class=\"txt-location\">Belo Horizonte - MG</p>\\r\\n                    </div>\\r\\n                    <div class=\"col-md-3 value-card\">\\r\\n                        <div class=\"value\">\\r\\n                            <p class=\"txt-value\">R$ 338.000</p>\\r\\n                        </div>\\r\\n                    </div>\\r\\n                </div>\\r\\n                <div class=\"well card\">\\r\\n                    <div class=\"col-md-3 image-card\">\\r\\n                        <img width=\"220\" height=\"155\" alt=\"Foto\" src=\"https://caelum-online-public.s3.amazonaws.com/1381-scraping/01/img-cars/bmw-m2/bmw-m2-2970882__340.jpg\">\\r\\n                    </div>\\r\\n                    <div class=\"col-md-6 body-card\">\\r\\n                        <p class=\"txt-name inline\">BMW M2</p>\\r\\n                            <p class=\"txt-category badge badge-secondary inline\">USADO</p>\\r\\n                            \\r\\n                        <p class=\"txt-motor\">Motor 3.0 32v</p>\\r\\n                        <p class=\"txt-description\">Ano 2018 - 83.447 km</p>\\r\\n                        <ul class=\"lst-items\">\\r\\n                            <li class=\"txt-items\">\\xe2\\x96\\xba C\\xc3\\xa2mera de estacionamento</li>\\r\\n                            <li class=\"txt-items\">\\xe2\\x96\\xba Controle de estabilidade</li>\\r\\n                            <li class=\"txt-items\">\\xe2\\x96\\xba Travas el\\xc3\\xa9tricas</li>\\r\\n                            <li class=\"txt-items\">\\xe2\\x96\\xba Freios ABS</li>\\r\\n                            <li class=\"txt-items\">...</li>\\r\\n                        </ul>\\r\\n                        <p class=\"txt-location\">Belo Horizonte - MG</p>\\r\\n                    </div>\\r\\n                    <div class=\"col-md-3 value-card\">\\r\\n                        <div class=\"value\">\\r\\n                            <p class=\"txt-value\">R$ 346.000</p>\\r\\n                        </div>\\r\\n                    </div>\\r\\n                </div>\\r\\n                <div class=\"well card\">\\r\\n                    <div class=\"col-md-3 image-card\">\\r\\n                        <img width=\"220\" height=\"155\" alt=\"Foto\" src=\"https://caelum-online-public.s3.amazonaws.com/1381-scraping/01/img-cars/alfa/alfa-1823056__340.jpg\">\\r\\n                    </div>\\r\\n                    <div class=\"col-md-6 body-card\">\\r\\n                        <p class=\"txt-name inline\">ALFA</p>\\r\\n                            <p class=\"txt-category badge badge-secondary inline\">USADO</p>\\r\\n                            \\r\\n                        <p class=\"txt-motor\">Motor 1.8 16v</p>\\r\\n                        <p class=\"txt-description\">Ano 2004 - 19.722 km</p>\\r\\n                        <ul class=\"lst-items\">\\r\\n                            <li class=\"txt-items\">\\xe2\\x96\\xba Central multim\\xc3\\xaddia</li>\\r\\n                            <li class=\"txt-items\">\\xe2\\x96\\xba Bancos de couro</li>\\r\\n                            <li class=\"txt-items\">\\xe2\\x96\\xba Rodas de liga</li>\\r\\n                            <li class=\"txt-items\">\\xe2\\x96\\xba C\\xc3\\xa2mera de estacionamento</li>\\r\\n                            <li class=\"txt-items\">...</li>\\r\\n                        </ul>\\r\\n                        <p class=\"txt-location\">Rio de Janeiro - RJ</p>\\r\\n                    </div>\\r\\n                    <div class=\"col-md-3 value-card\">\\r\\n                        <div class=\"value\">\\r\\n                            <p class=\"txt-value\">R$ 480.000</p>\\r\\n                        </div>\\r\\n                    </div>\\r\\n                </div>\\r\\n                <div class=\"well card\">\\r\\n                    <div class=\"col-md-3 image-card\">\\r\\n                        <img width=\"220\" height=\"155\" alt=\"Foto\" src=\"https://caelum-online-public.s3.amazonaws.com/1381-scraping/01/img-cars/puech/puech-4055386__340.jpg\">\\r\\n                    </div>\\r\\n                    <div class=\"col-md-6 body-card\">\\r\\n                        <p class=\"txt-name inline\">PUECH</p>\\r\\n                            <p class=\"txt-category badge badge-secondary inline\">USADO</p>\\r\\n                            \\r\\n                        <p class=\"txt-motor\">Motor Diesel V8</p>\\r\\n                        <p class=\"txt-description\">Ano 1992 - 34.335 km</p>\\r\\n                        <ul class=\"lst-items\">\\r\\n                            <li class=\"txt-items\">\\xe2\\x96\\xba Bancos de couro</li>\\r\\n                            <li class=\"txt-items\">\\xe2\\x96\\xba Freios ABS</li>\\r\\n                            <li class=\"txt-items\">\\xe2\\x96\\xba Rodas de liga</li>\\r\\n                            <li class=\"txt-items\">\\xe2\\x96\\xba C\\xc3\\xa2mbio autom\\xc3\\xa1tico</li>\\r\\n                            <li class=\"txt-items\">...</li>\\r\\n                        </ul>\\r\\n                        <p class=\"txt-location\">S\\xc3\\xa3o Paulo - SP</p>\\r\\n                    </div>\\r\\n                    <div class=\"col-md-3 value-card\">\\r\\n                        <div class=\"value\">\\r\\n                            <p class=\"txt-value\">R$ 133.000</p>\\r\\n                        </div>\\r\\n                    </div>\\r\\n                </div>\\r\\n                <div class=\"well card\">\\r\\n                    <div class=\"col-md-3 image-card\">\\r\\n                        <img width=\"220\" height=\"155\" alt=\"Foto\" src=\"https://caelum-online-public.s3.amazonaws.com/1381-scraping/01/img-cars/lamborghini-murcielago/lamborghini-murcielago-2872974__340.jpg\">\\r\\n                    </div>\\r\\n                    <div class=\"col-md-6 body-card\">\\r\\n                        <p class=\"txt-name inline\">LAMBORGHINI MURCIELAGO</p>\\r\\n                            <p class=\"txt-category badge badge-secondary inline\">USADO</p>\\r\\n                            \\r\\n                        <p class=\"txt-motor\">Motor 1.0 8v</p>\\r\\n                        <p class=\"txt-description\">Ano 1991 - 464 km</p>\\r\\n                        <ul class=\"lst-items\">\\r\\n                            <li class=\"txt-items\">\\xe2\\x96\\xba Central multim\\xc3\\xaddia</li>\\r\\n                            <li class=\"txt-items\">\\xe2\\x96\\xba Teto panor\\xc3\\xa2mico</li>\\r\\n                            <li class=\"txt-items\">\\xe2\\x96\\xba Sensor crepuscular</li>\\r\\n                            <li class=\"txt-items\">\\xe2\\x96\\xba Piloto autom\\xc3\\xa1tico</li>\\r\\n                            <li class=\"txt-items\">...</li>\\r\\n                        </ul>\\r\\n                        <p class=\"txt-location\">Belo Horizonte - MG</p>\\r\\n                    </div>\\r\\n                    <div class=\"col-md-3 value-card\">\\r\\n                        <div class=\"value\">\\r\\n                            <p class=\"txt-value\">R$ 175.000</p>\\r\\n                        </div>\\r\\n                    </div>\\r\\n                </div>\\r\\n                <div class=\"well card\">\\r\\n                    <div class=\"col-md-3 image-card\">\\r\\n                        <img width=\"220\" height=\"155\" alt=\"Foto\" src=\"https://caelum-online-public.s3.amazonaws.com/1381-scraping/01/img-cars/aston-martin/aston-martin-2977916__340.jpg\">\\r\\n                    </div>\\r\\n                    <div class=\"col-md-6 body-card\">\\r\\n                        <p class=\"txt-name inline\">ASTON MARTIN</p>\\r\\n                            <p class=\"txt-category badge badge-secondary inline\">USADO</p>\\r\\n                            <p class=\"txt-opportunity badge badge-danger inline\">OPORTUNIDADE</p>\\r\\n                        <p class=\"txt-motor\">Motor Diesel V6</p>\\r\\n                        <p class=\"txt-description\">Ano 2004 - 50.189 km</p>\\r\\n                        <ul class=\"lst-items\">\\r\\n                            <li class=\"txt-items\">\\xe2\\x96\\xba Painel digital</li>\\r\\n                            <li class=\"txt-items\">\\xe2\\x96\\xba Controle de tra\\xc3\\xa7\\xc3\\xa3o</li>\\r\\n                            <li class=\"txt-items\">\\xe2\\x96\\xba Teto panor\\xc3\\xa2mico</li>\\r\\n                            <li class=\"txt-items\">\\xe2\\x96\\xba Central multim\\xc3\\xaddia</li>\\r\\n                            <li class=\"txt-items\">...</li>\\r\\n                        </ul>\\r\\n                        <p class=\"txt-location\">Belo Horizonte - MG</p>\\r\\n                    </div>\\r\\n                    <div class=\"col-md-3 value-card\">\\r\\n                        <div class=\"value\">\\r\\n                            <p class=\"txt-value\">R$ 239.000</p>\\r\\n                        </div>\\r\\n                    </div>\\r\\n                </div>\\r\\n                <div class=\"well card\">\\r\\n                    <div class=\"col-md-3 image-card\">\\r\\n                        <img width=\"220\" height=\"155\" alt=\"Foto\" src=\"https://caelum-online-public.s3.amazonaws.com/1381-scraping/01/img-cars/tvr/tvr-2943925__340.jpg\">\\r\\n                    </div>\\r\\n                    <div class=\"col-md-6 body-card\">\\r\\n                        <p class=\"txt-name inline\">TVR</p>\\r\\n                            <p class=\"txt-category badge badge-secondary inline\">USADO</p>\\r\\n                            \\r\\n                        <p class=\"txt-motor\">Motor 4.0 Turbo</p>\\r\\n                        <p class=\"txt-description\">Ano 2014 - 17.778 km</p>\\r\\n                        <ul class=\"lst-items\">\\r\\n                            <li class=\"txt-items\">\\xe2\\x96\\xba 4 X 4</li>\\r\\n                            <li class=\"txt-items\">\\xe2\\x96\\xba Teto panor\\xc3\\xa2mico</li>\\r\\n                            <li class=\"txt-items\">\\xe2\\x96\\xba Central multim\\xc3\\xaddia</li>\\r\\n                            <li class=\"txt-items\">\\xe2\\x96\\xba Controle de estabilidade</li>\\r\\n                            <li class=\"txt-items\">...</li>\\r\\n                        </ul>\\r\\n                        <p class=\"txt-location\">Belo Horizonte - MG</p>\\r\\n                    </div>\\r\\n                    <div class=\"col-md-3 value-card\">\\r\\n                        <div class=\"value\">\\r\\n                            <p class=\"txt-value\">R$ 115.000</p>\\r\\n                        </div>\\r\\n                    </div>\\r\\n                </div>\\r\\n                <div class=\"well card\">\\r\\n                    <div class=\"col-md-3 image-card\">\\r\\n                        <img width=\"220\" height=\"155\" alt=\"Foto\" src=\"https://caelum-online-public.s3.amazonaws.com/1381-scraping/01/img-cars/excalibur/excalibur-2916730__340.jpg\">\\r\\n                    </div>\\r\\n                    <div class=\"col-md-6 body-card\">\\r\\n                        <p class=\"txt-name inline\">EXCALIBUR</p>\\r\\n                            <p class=\"txt-category badge badge-secondary inline\">USADO</p>\\r\\n                            \\r\\n                        <p class=\"txt-motor\">Motor 3.0 32v</p>\\r\\n                        <p class=\"txt-description\">Ano 2009 - 81.251 km</p>\\r\\n                        <ul class=\"lst-items\">\\r\\n                            <li class=\"txt-items\">\\xe2\\x96\\xba Painel digital</li>\\r\\n                            <li class=\"txt-items\">\\xe2\\x96\\xba C\\xc3\\xa2mbio autom\\xc3\\xa1tico</li>\\r\\n                            <li class=\"txt-items\">\\xe2\\x96\\xba Sensor de chuva</li>\\r\\n                            <li class=\"txt-items\">\\xe2\\x96\\xba Travas el\\xc3\\xa9tricas</li>\\r\\n                            <li class=\"txt-items\">...</li>\\r\\n                        </ul>\\r\\n                        <p class=\"txt-location\">Rio de Janeiro - RJ</p>\\r\\n                    </div>\\r\\n                    <div class=\"col-md-3 value-card\">\\r\\n                        <div class=\"value\">\\r\\n                            <p class=\"txt-value\">R$ 114.000</p>\\r\\n                        </div>\\r\\n                    </div>\\r\\n                </div>\\r\\n                <div class=\"well card\">\\r\\n                    <div class=\"col-md-3 image-card\">\\r\\n                        <img width=\"220\" height=\"155\" alt=\"Foto\" src=\"https://caelum-online-public.s3.amazonaws.com/1381-scraping/01/img-cars/mclaren/mclaren-2855240__340.jpg\">\\r\\n                    </div>\\r\\n                    <div class=\"col-md-6 body-card\">\\r\\n                        <p class=\"txt-name inline\">MCLAREN</p>\\r\\n                            <p class=\"txt-category badge badge-secondary inline\">NOVO</p>\\r\\n                            \\r\\n                        <p class=\"txt-motor\">Motor Diesel</p>\\r\\n                        <p class=\"txt-description\">Ano 2019 - 0 km</p>\\r\\n                        <ul class=\"lst-items\">\\r\\n                            <li class=\"txt-items\">\\xe2\\x96\\xba Central multim\\xc3\\xaddia</li>\\r\\n                            <li class=\"txt-items\">\\xe2\\x96\\xba C\\xc3\\xa2mera de estacionamento</li>\\r\\n                            <li class=\"txt-items\">\\xe2\\x96\\xba C\\xc3\\xa2mbio autom\\xc3\\xa1tico</li>\\r\\n                            <li class=\"txt-items\">\\xe2\\x96\\xba Ar condicionado</li>\\r\\n                            <li class=\"txt-items\">...</li>\\r\\n                        </ul>\\r\\n                        <p class=\"txt-location\">S\\xc3\\xa3o Paulo - SP</p>\\r\\n                    </div>\\r\\n                    <div class=\"col-md-3 value-card\">\\r\\n                        <div class=\"value\">\\r\\n                            <p class=\"txt-value\">R$ 75.000</p>\\r\\n                        </div>\\r\\n                    </div>\\r\\n                </div>\\r\\n                <div class=\"well card\">\\r\\n                    <div class=\"col-md-3 image-card\">\\r\\n                        <img width=\"220\" height=\"155\" alt=\"Foto\" src=\"https://caelum-online-public.s3.amazonaws.com/1381-scraping/01/img-cars/toyota/toyota-3245397__340.jpg\">\\r\\n                    </div>\\r\\n                    <div class=\"col-md-6 body-card\">\\r\\n                        <p class=\"txt-name inline\">TOYOTA</p>\\r\\n                            <p class=\"txt-category badge badge-secondary inline\">USADO</p>\\r\\n                            <p class=\"txt-opportunity badge badge-danger inline\">OPORTUNIDADE</p>\\r\\n                        <p class=\"txt-motor\">Motor 4.0 Turbo</p>\\r\\n                        <p class=\"txt-description\">Ano 1999 - 12.536 km</p>\\r\\n                        <ul class=\"lst-items\">\\r\\n                            <li class=\"txt-items\">\\xe2\\x96\\xba Bancos de couro</li>\\r\\n                            <li class=\"txt-items\">\\xe2\\x96\\xba Freios ABS</li>\\r\\n                            <li class=\"txt-items\">\\xe2\\x96\\xba Piloto autom\\xc3\\xa1tico</li>\\r\\n                            <li class=\"txt-items\">\\xe2\\x96\\xba Controle de estabilidade</li>\\r\\n                            <li class=\"txt-items\">...</li>\\r\\n                        </ul>\\r\\n                        <p class=\"txt-location\">S\\xc3\\xa3o Paulo - SP</p>\\r\\n                    </div>\\r\\n                    <div class=\"col-md-3 value-card\">\\r\\n                        <div class=\"value\">\\r\\n                            <p class=\"txt-value\">R$ 117.000</p>\\r\\n                        </div>\\r\\n                    </div>\\r\\n                </div>\\t\\t\\t\\t\\t\\t</div>\\r\\n\\t\\t\\t\\t\\t\\t<div class=\"type-select\">246 ve\\xc3\\xadculos encontrados</div>\\r\\n\\t\\t\\t\\t\\t\\t\\t<div class=\"container-pagination\" style=\"float: right\">\\r\\n\\t\\t\\t\\t\\t\\t\\t\\t<span class=\"info-pages\">P\\xc3\\xa1gina 1 de 25</span>\\r\\n\\t\\t\\t\\t\\t\\t\\t</div>\\r\\n\\t\\t\\t\\t\\t\\t</div>\\r\\n\\t\\t\\t\\t\\t</div>\\r\\n\\t\\t\\t\\t</div>\\r\\n\\t\\t\\t</div>\\r\\n\\t\\t</div>\\r\\n\\r\\n\\t\\t<footer>\\r\\n\\t\\t\\t<nav class=\"navbar navbar-inverse\">\\r\\n\\t\\t\\t\\t<div class=\"container\" style=\"margin-bottom: 10px;\">\\r\\n\\t\\t\\t\\t\\t<div class=\"navbar\">\\r\\n\\t\\t\\t\\t\\t\\t<a href=\"./index.php\" class=\"navbar-brand\" title=\"Alura Motors\">\\r\\n\\t\\t\\t\\t\\t\\t\\t<img src=\"img/alura-logo.svg\" class=\"d-inline-block align-top\" alt=\"Alura\">Motors\\r\\n\\t\\t\\t\\t\\t\\t</a>\\r\\n\\t\\t\\t\\t\\t\\t<p style=\"color: #fff; text-align: center; margin-top: 40px;\">Aplica\\xc3\\xa7\\xc3\\xa3o para treinamento de web scraping</p>\\r\\n\\t\\t\\t\\t\\t</div>\\r\\n\\t\\t\\t\\t</div>\\r\\n\\t\\t\\t</nav>\\r\\n\\t\\t</footer>\\r\\n\\r\\n\\t</div>\\r\\n\\r\\n</body>\\r\\n</html>\\r\\n'\n"
     ]
    }
   ],
   "source": [
    "from urllib.request import Request, urlopen\n",
    "from urllib.error import URLError, HTTPError\n",
    "\n",
    "alura = 'https://www.alura.com.br/'\n",
    "headers = {'user-agent': 'Mozilla/5.0 (Windows NT 10.0; Win64; x64) AppleWebKit/537.36 (KHTML, like Gecko) Chrome/97.0.4692.71 Safari/537.36'}\n",
    "\n",
    "requisicao = Request(url,headers = headers)\n",
    "\n",
    "try:\n",
    "    response = urlopen(requisicao)\n",
    "    print(response.read())\n",
    "except HTTPError as e:\n",
    "    print(e.status(), e.reason())\n",
    "except URLError as e:\n",
    "    print(e.reason())    "
   ]
  },
  {
   "cell_type": "markdown",
   "metadata": {},
   "source": [
    "# 2.3. Tratamento de string"
   ]
  },
  {
   "cell_type": "code",
   "execution_count": 5,
   "metadata": {},
   "outputs": [
    {
     "data": {
      "text/plain": [
       "b'<!DOCTYPE html>\\r\\n<html lang=\"pt-br\">\\r\\n<head>\\r\\n    <meta charset=\"utf-8\">\\r\\n    <meta name=\"viewport\" content=\"width=device-width, initial-scale=1, shrink-to-fit=no\">\\r\\n\\r\\n    <title>Alura Motors</title>\\r\\n\\r\\n\\t<style>\\r\\n\\t\\t/*Regra para a animacao*/\\r\\n\\t\\t@keyframes spin {\\r\\n\\t\\t\\t0% { transform: rotate(0deg); }\\r\\n\\t\\t\\t100% { transform: rotate(360deg); }\\r\\n\\t\\t}\\r\\n\\t\\t/*Mudando o tamanho do icone de resposta*/\\r\\n\\t\\tdiv.glyphicon {\\r\\n\\t\\t\\tcolor:#6B8E23;\\r\\n\\t\\t\\tfont-size: 38px;\\r\\n\\t\\t}\\r\\n\\t\\t/*Classe que mostra a animacao \\'spin\\'*/\\r\\n\\t\\t.loader {\\r\\n\\t\\t\\tborder: 16px solid #f3f3f3;\\r\\n\\t\\t\\tborder-radius: 50%;\\r\\n\\t\\t\\tborder-top: 16px solid #3498db;\\r\\n\\t\\t\\twidth: 80px;\\r\\n\\t\\t\\theight: 80px;\\r\\n\\t\\t\\t-webkit-animation: spin 2s linear infinite;\\r\\n\\t\\t\\tanimation: spin 2s linear infinite;\\r\\n\\t\\t}\\r\\n\\t</style>\\r\\n\\t<link rel=\"stylesheet\" href=\"https://maxcdn.bootstrapcdn.com/bootstrap/3.3.7/css/bootstrap.min.css\" integrity=\"sha384-BVYiiSIFeK1dGmJRAkycuHAHRg32OmUcww7on3RYdg4Va+PmSTsz/K68vbdEjh4u\" crossorigin=\"anonymous\">\\r\\n\\t<link rel=\"stylesheet\" href=\"css/styles.css\" media=\"all\">\\r\\n\\r\\n\\t<script src=\"https://code.jquery.com/jquery-1.12.4.js\"></script>\\r\\n\\t<script src=\"https://maxcdn.bootstrapcdn.com/bootstrap/3.3.7/js/bootstrap.min.js\" integrity=\"sha384-Tc5IQib027qvyjSMfHjOMaLkfuWVxZxUPnCJA7l2mCWNIpG9mGCD8wGNIcPD7Txa\" crossorigin=\"anonymous\"></script>\\r\\n\\t<script type=\"text/javascript\" src=\"js/index.js\"></script>\\r\\n\\t<script>\\r\\n\\t\\trequisitar(\"https://alura-scraping.herokuapp.com/produtos?_page=\"+1+\"&_limit=10\")\\r\\n\\t</script>\\r\\n\\r\\n</head>\\r\\n<body cz-shortcut-listen=\"true\">\\r\\n    <noscript>You need to enable JavaScript to run this app.</noscript>\\r\\n\\r\\n\\t<div class=\"modal fade\" data-backdrop=\"static\" id=\"loadingModal\" tabindex=\"-1\" role=\"dialog\" aria-labelledby=\"loadingModal_label\">\\r\\n\\t\\t<div class=\"modal-dialog\" role=\"document\">\\r\\n\\t\\t\\t<div class=\"modal-content\">\\r\\n\\t\\t\\t\\t<div class=\"modal-header\">\\r\\n\\t\\t\\t\\t\\t<h5 class=\"modal-title\" id=\"loadingModal_label\">\\r\\n\\t\\t\\t\\t\\t\\t<span class=\"glyphicon glyphicon-refresh\"></span>Aguarde...\\r\\n\\t\\t\\t\\t\\t</h5>\\r\\n\\t\\t\\t\\t</div>\\r\\n\\t\\t\\t\\t<div class=\"modal-body\">\\r\\n\\t\\t\\t\\t\\t<div class=\\'alert\\' role=\\'alert\\'>\\r\\n\\t\\t\\t\\t\\t\\t<center>\\r\\n\\t\\t\\t\\t\\t\\t\\t<div class=\"loader\" id=\"loader\"></div><br>\\r\\n\\t\\t\\t\\t\\t\\t\\t<h4><b id=\"loadingModal_content\"></b></h4>\\r\\n\\t\\t\\t\\t\\t\\t</center>\\r\\n\\t\\t\\t\\t\\t</div>\\r\\n\\t\\t\\t\\t</div>\\r\\n\\t\\t\\t</div>\\r\\n\\t\\t</div>\\r\\n\\t</div>\\r\\n\\r\\n    <div id=\"root\">\\r\\n\\t\\t<header>\\r\\n\\t\\t\\t<nav class=\"navbar navbar-inverse\" style=\"margin-bottom: 0;\">\\r\\n\\t\\t\\t\\t<div class=\"container\" style=\"margin-bottom: -20px;\">\\r\\n\\t\\t\\t\\t\\t<div class=\"navbar\">\\r\\n\\t\\t\\t\\t\\t\\t<a href=\"./index.php\" class=\"navbar-brand\" title=\"Alura Motors\">\\r\\n\\t\\t\\t\\t\\t\\t\\t<img src=\"img/alura-logo.svg\" class=\"d-inline-block align-top\" alt=\"Alura\">Motors\\r\\n\\t\\t\\t\\t\\t\\t</a>\\r\\n\\t\\t\\t\\t\\t\\t<ul class=\"nav navbar-nav\" style=\"margin-top: 35px;\">\\r\\n\\t\\t\\t\\t\\t\\t\\t<li><a href=\"./hello-world.php\">Hello World</a></li>\\r\\n\\t\\t\\t\\t\\t\\t\\t<li><a href=\"./index.php\">An\\xc3\\xbancios</a></li>\\r\\n\\t\\t\\t\\t\\t\\t</ul>\\r\\n\\t\\t\\t\\t\\t</div>\\r\\n\\t\\t\\t\\t</div>\\r\\n\\t\\t\\t</nav>\\r\\n\\t\\t</header>\\r\\n\\r\\n\\t\\t<div class=\"container\">\\r\\n\\t\\t\\t<h1 class=\"sub-header\">Ve\\xc3\\xadculos de Luxo Novos e Usados - Todas as Marcas</h1>\\r\\n\\t\\t\\t<div class=\"row\">\\r\\n\\t\\t\\t\\t<div class=\"col-md-12\">\\r\\n\\t\\t\\t\\t\\t<div class=\"container\" style=\"width: 100%\">\\r\\n\\t\\t\\t\\t\\t\\t<div class=\"type-select\">246 ve\\xc3\\xadculos encontrados</div>\\r\\n\\t\\t\\t\\t\\t\\t\\t<div class=\"container-pagination\" style=\"float: right\">\\r\\n\\t\\t\\t\\t\\t\\t\\t\\t<span class=\"info-pages\">P\\xc3\\xa1gina 1 de 25</span>\\r\\n\\t\\t\\t\\t\\t\\t\\t</div>\\r\\n\\t\\t\\t\\t\\t\\t</div>\\r\\n\\t\\t\\t\\t\\t\\t<div id=\"container-cards\" style=\"height: 100%\">\\r\\n\\t\\t\\t\\t\\t\\t\\t\\r\\n                <div class=\"well card\">\\r\\n                    <div class=\"col-md-3 image-card\">\\r\\n                        <img width=\"220\" height=\"155\" alt=\"Foto\" src=\"https://caelum-online-public.s3.amazonaws.com/1381-scraping/01/img-cars/lamborghini-aventador/lamborghini-aventador-2932196__340.jpg\">\\r\\n                    </div>\\r\\n                    <div class=\"col-md-6 body-card\">\\r\\n                        <p class=\"txt-name inline\">LAMBORGHINI AVENTADOR</p>\\r\\n                            <p class=\"txt-category badge badge-secondary inline\">USADO</p>\\r\\n                            \\r\\n                        <p class=\"txt-motor\">Motor 1.8 16v</p>\\r\\n                        <p class=\"txt-description\">Ano 1993 - 55.286 km</p>\\r\\n                        <ul class=\"lst-items\">\\r\\n                            <li class=\"txt-items\">\\xe2\\x96\\xba 4 X 4</li>\\r\\n                            <li class=\"txt-items\">\\xe2\\x96\\xba C\\xc3\\xa2mera de estacionamento</li>\\r\\n                            <li class=\"txt-items\">\\xe2\\x96\\xba Controle de tra\\xc3\\xa7\\xc3\\xa3o</li>\\r\\n                            <li class=\"txt-items\">\\xe2\\x96\\xba Sensor de estacionamento</li>\\r\\n                            <li class=\"txt-items\">...</li>\\r\\n                        </ul>\\r\\n                        <p class=\"txt-location\">Belo Horizonte - MG</p>\\r\\n                    </div>\\r\\n                    <div class=\"col-md-3 value-card\">\\r\\n                        <div class=\"value\">\\r\\n                            <p class=\"txt-value\">R$ 338.000</p>\\r\\n                        </div>\\r\\n                    </div>\\r\\n                </div>\\r\\n                <div class=\"well card\">\\r\\n                    <div class=\"col-md-3 image-card\">\\r\\n                        <img width=\"220\" height=\"155\" alt=\"Foto\" src=\"https://caelum-online-public.s3.amazonaws.com/1381-scraping/01/img-cars/bmw-m2/bmw-m2-2970882__340.jpg\">\\r\\n                    </div>\\r\\n                    <div class=\"col-md-6 body-card\">\\r\\n                        <p class=\"txt-name inline\">BMW M2</p>\\r\\n                            <p class=\"txt-category badge badge-secondary inline\">USADO</p>\\r\\n                            \\r\\n                        <p class=\"txt-motor\">Motor 3.0 32v</p>\\r\\n                        <p class=\"txt-description\">Ano 2018 - 83.447 km</p>\\r\\n                        <ul class=\"lst-items\">\\r\\n                            <li class=\"txt-items\">\\xe2\\x96\\xba C\\xc3\\xa2mera de estacionamento</li>\\r\\n                            <li class=\"txt-items\">\\xe2\\x96\\xba Controle de estabilidade</li>\\r\\n                            <li class=\"txt-items\">\\xe2\\x96\\xba Travas el\\xc3\\xa9tricas</li>\\r\\n                            <li class=\"txt-items\">\\xe2\\x96\\xba Freios ABS</li>\\r\\n                            <li class=\"txt-items\">...</li>\\r\\n                        </ul>\\r\\n                        <p class=\"txt-location\">Belo Horizonte - MG</p>\\r\\n                    </div>\\r\\n                    <div class=\"col-md-3 value-card\">\\r\\n                        <div class=\"value\">\\r\\n                            <p class=\"txt-value\">R$ 346.000</p>\\r\\n                        </div>\\r\\n                    </div>\\r\\n                </div>\\r\\n                <div class=\"well card\">\\r\\n                    <div class=\"col-md-3 image-card\">\\r\\n                        <img width=\"220\" height=\"155\" alt=\"Foto\" src=\"https://caelum-online-public.s3.amazonaws.com/1381-scraping/01/img-cars/alfa/alfa-1823056__340.jpg\">\\r\\n                    </div>\\r\\n                    <div class=\"col-md-6 body-card\">\\r\\n                        <p class=\"txt-name inline\">ALFA</p>\\r\\n                            <p class=\"txt-category badge badge-secondary inline\">USADO</p>\\r\\n                            \\r\\n                        <p class=\"txt-motor\">Motor 1.8 16v</p>\\r\\n                        <p class=\"txt-description\">Ano 2004 - 19.722 km</p>\\r\\n                        <ul class=\"lst-items\">\\r\\n                            <li class=\"txt-items\">\\xe2\\x96\\xba Central multim\\xc3\\xaddia</li>\\r\\n                            <li class=\"txt-items\">\\xe2\\x96\\xba Bancos de couro</li>\\r\\n                            <li class=\"txt-items\">\\xe2\\x96\\xba Rodas de liga</li>\\r\\n                            <li class=\"txt-items\">\\xe2\\x96\\xba C\\xc3\\xa2mera de estacionamento</li>\\r\\n                            <li class=\"txt-items\">...</li>\\r\\n                        </ul>\\r\\n                        <p class=\"txt-location\">Rio de Janeiro - RJ</p>\\r\\n                    </div>\\r\\n                    <div class=\"col-md-3 value-card\">\\r\\n                        <div class=\"value\">\\r\\n                            <p class=\"txt-value\">R$ 480.000</p>\\r\\n                        </div>\\r\\n                    </div>\\r\\n                </div>\\r\\n                <div class=\"well card\">\\r\\n                    <div class=\"col-md-3 image-card\">\\r\\n                        <img width=\"220\" height=\"155\" alt=\"Foto\" src=\"https://caelum-online-public.s3.amazonaws.com/1381-scraping/01/img-cars/puech/puech-4055386__340.jpg\">\\r\\n                    </div>\\r\\n                    <div class=\"col-md-6 body-card\">\\r\\n                        <p class=\"txt-name inline\">PUECH</p>\\r\\n                            <p class=\"txt-category badge badge-secondary inline\">USADO</p>\\r\\n                            \\r\\n                        <p class=\"txt-motor\">Motor Diesel V8</p>\\r\\n                        <p class=\"txt-description\">Ano 1992 - 34.335 km</p>\\r\\n                        <ul class=\"lst-items\">\\r\\n                            <li class=\"txt-items\">\\xe2\\x96\\xba Bancos de couro</li>\\r\\n                            <li class=\"txt-items\">\\xe2\\x96\\xba Freios ABS</li>\\r\\n                            <li class=\"txt-items\">\\xe2\\x96\\xba Rodas de liga</li>\\r\\n                            <li class=\"txt-items\">\\xe2\\x96\\xba C\\xc3\\xa2mbio autom\\xc3\\xa1tico</li>\\r\\n                            <li class=\"txt-items\">...</li>\\r\\n                        </ul>\\r\\n                        <p class=\"txt-location\">S\\xc3\\xa3o Paulo - SP</p>\\r\\n                    </div>\\r\\n                    <div class=\"col-md-3 value-card\">\\r\\n                        <div class=\"value\">\\r\\n                            <p class=\"txt-value\">R$ 133.000</p>\\r\\n                        </div>\\r\\n                    </div>\\r\\n                </div>\\r\\n                <div class=\"well card\">\\r\\n                    <div class=\"col-md-3 image-card\">\\r\\n                        <img width=\"220\" height=\"155\" alt=\"Foto\" src=\"https://caelum-online-public.s3.amazonaws.com/1381-scraping/01/img-cars/lamborghini-murcielago/lamborghini-murcielago-2872974__340.jpg\">\\r\\n                    </div>\\r\\n                    <div class=\"col-md-6 body-card\">\\r\\n                        <p class=\"txt-name inline\">LAMBORGHINI MURCIELAGO</p>\\r\\n                            <p class=\"txt-category badge badge-secondary inline\">USADO</p>\\r\\n                            \\r\\n                        <p class=\"txt-motor\">Motor 1.0 8v</p>\\r\\n                        <p class=\"txt-description\">Ano 1991 - 464 km</p>\\r\\n                        <ul class=\"lst-items\">\\r\\n                            <li class=\"txt-items\">\\xe2\\x96\\xba Central multim\\xc3\\xaddia</li>\\r\\n                            <li class=\"txt-items\">\\xe2\\x96\\xba Teto panor\\xc3\\xa2mico</li>\\r\\n                            <li class=\"txt-items\">\\xe2\\x96\\xba Sensor crepuscular</li>\\r\\n                            <li class=\"txt-items\">\\xe2\\x96\\xba Piloto autom\\xc3\\xa1tico</li>\\r\\n                            <li class=\"txt-items\">...</li>\\r\\n                        </ul>\\r\\n                        <p class=\"txt-location\">Belo Horizonte - MG</p>\\r\\n                    </div>\\r\\n                    <div class=\"col-md-3 value-card\">\\r\\n                        <div class=\"value\">\\r\\n                            <p class=\"txt-value\">R$ 175.000</p>\\r\\n                        </div>\\r\\n                    </div>\\r\\n                </div>\\r\\n                <div class=\"well card\">\\r\\n                    <div class=\"col-md-3 image-card\">\\r\\n                        <img width=\"220\" height=\"155\" alt=\"Foto\" src=\"https://caelum-online-public.s3.amazonaws.com/1381-scraping/01/img-cars/aston-martin/aston-martin-2977916__340.jpg\">\\r\\n                    </div>\\r\\n                    <div class=\"col-md-6 body-card\">\\r\\n                        <p class=\"txt-name inline\">ASTON MARTIN</p>\\r\\n                            <p class=\"txt-category badge badge-secondary inline\">USADO</p>\\r\\n                            <p class=\"txt-opportunity badge badge-danger inline\">OPORTUNIDADE</p>\\r\\n                        <p class=\"txt-motor\">Motor Diesel V6</p>\\r\\n                        <p class=\"txt-description\">Ano 2004 - 50.189 km</p>\\r\\n                        <ul class=\"lst-items\">\\r\\n                            <li class=\"txt-items\">\\xe2\\x96\\xba Painel digital</li>\\r\\n                            <li class=\"txt-items\">\\xe2\\x96\\xba Controle de tra\\xc3\\xa7\\xc3\\xa3o</li>\\r\\n                            <li class=\"txt-items\">\\xe2\\x96\\xba Teto panor\\xc3\\xa2mico</li>\\r\\n                            <li class=\"txt-items\">\\xe2\\x96\\xba Central multim\\xc3\\xaddia</li>\\r\\n                            <li class=\"txt-items\">...</li>\\r\\n                        </ul>\\r\\n                        <p class=\"txt-location\">Belo Horizonte - MG</p>\\r\\n                    </div>\\r\\n                    <div class=\"col-md-3 value-card\">\\r\\n                        <div class=\"value\">\\r\\n                            <p class=\"txt-value\">R$ 239.000</p>\\r\\n                        </div>\\r\\n                    </div>\\r\\n                </div>\\r\\n                <div class=\"well card\">\\r\\n                    <div class=\"col-md-3 image-card\">\\r\\n                        <img width=\"220\" height=\"155\" alt=\"Foto\" src=\"https://caelum-online-public.s3.amazonaws.com/1381-scraping/01/img-cars/tvr/tvr-2943925__340.jpg\">\\r\\n                    </div>\\r\\n                    <div class=\"col-md-6 body-card\">\\r\\n                        <p class=\"txt-name inline\">TVR</p>\\r\\n                            <p class=\"txt-category badge badge-secondary inline\">USADO</p>\\r\\n                            \\r\\n                        <p class=\"txt-motor\">Motor 4.0 Turbo</p>\\r\\n                        <p class=\"txt-description\">Ano 2014 - 17.778 km</p>\\r\\n                        <ul class=\"lst-items\">\\r\\n                            <li class=\"txt-items\">\\xe2\\x96\\xba 4 X 4</li>\\r\\n                            <li class=\"txt-items\">\\xe2\\x96\\xba Teto panor\\xc3\\xa2mico</li>\\r\\n                            <li class=\"txt-items\">\\xe2\\x96\\xba Central multim\\xc3\\xaddia</li>\\r\\n                            <li class=\"txt-items\">\\xe2\\x96\\xba Controle de estabilidade</li>\\r\\n                            <li class=\"txt-items\">...</li>\\r\\n                        </ul>\\r\\n                        <p class=\"txt-location\">Belo Horizonte - MG</p>\\r\\n                    </div>\\r\\n                    <div class=\"col-md-3 value-card\">\\r\\n                        <div class=\"value\">\\r\\n                            <p class=\"txt-value\">R$ 115.000</p>\\r\\n                        </div>\\r\\n                    </div>\\r\\n                </div>\\r\\n                <div class=\"well card\">\\r\\n                    <div class=\"col-md-3 image-card\">\\r\\n                        <img width=\"220\" height=\"155\" alt=\"Foto\" src=\"https://caelum-online-public.s3.amazonaws.com/1381-scraping/01/img-cars/excalibur/excalibur-2916730__340.jpg\">\\r\\n                    </div>\\r\\n                    <div class=\"col-md-6 body-card\">\\r\\n                        <p class=\"txt-name inline\">EXCALIBUR</p>\\r\\n                            <p class=\"txt-category badge badge-secondary inline\">USADO</p>\\r\\n                            \\r\\n                        <p class=\"txt-motor\">Motor 3.0 32v</p>\\r\\n                        <p class=\"txt-description\">Ano 2009 - 81.251 km</p>\\r\\n                        <ul class=\"lst-items\">\\r\\n                            <li class=\"txt-items\">\\xe2\\x96\\xba Painel digital</li>\\r\\n                            <li class=\"txt-items\">\\xe2\\x96\\xba C\\xc3\\xa2mbio autom\\xc3\\xa1tico</li>\\r\\n                            <li class=\"txt-items\">\\xe2\\x96\\xba Sensor de chuva</li>\\r\\n                            <li class=\"txt-items\">\\xe2\\x96\\xba Travas el\\xc3\\xa9tricas</li>\\r\\n                            <li class=\"txt-items\">...</li>\\r\\n                        </ul>\\r\\n                        <p class=\"txt-location\">Rio de Janeiro - RJ</p>\\r\\n                    </div>\\r\\n                    <div class=\"col-md-3 value-card\">\\r\\n                        <div class=\"value\">\\r\\n                            <p class=\"txt-value\">R$ 114.000</p>\\r\\n                        </div>\\r\\n                    </div>\\r\\n                </div>\\r\\n                <div class=\"well card\">\\r\\n                    <div class=\"col-md-3 image-card\">\\r\\n                        <img width=\"220\" height=\"155\" alt=\"Foto\" src=\"https://caelum-online-public.s3.amazonaws.com/1381-scraping/01/img-cars/mclaren/mclaren-2855240__340.jpg\">\\r\\n                    </div>\\r\\n                    <div class=\"col-md-6 body-card\">\\r\\n                        <p class=\"txt-name inline\">MCLAREN</p>\\r\\n                            <p class=\"txt-category badge badge-secondary inline\">NOVO</p>\\r\\n                            \\r\\n                        <p class=\"txt-motor\">Motor Diesel</p>\\r\\n                        <p class=\"txt-description\">Ano 2019 - 0 km</p>\\r\\n                        <ul class=\"lst-items\">\\r\\n                            <li class=\"txt-items\">\\xe2\\x96\\xba Central multim\\xc3\\xaddia</li>\\r\\n                            <li class=\"txt-items\">\\xe2\\x96\\xba C\\xc3\\xa2mera de estacionamento</li>\\r\\n                            <li class=\"txt-items\">\\xe2\\x96\\xba C\\xc3\\xa2mbio autom\\xc3\\xa1tico</li>\\r\\n                            <li class=\"txt-items\">\\xe2\\x96\\xba Ar condicionado</li>\\r\\n                            <li class=\"txt-items\">...</li>\\r\\n                        </ul>\\r\\n                        <p class=\"txt-location\">S\\xc3\\xa3o Paulo - SP</p>\\r\\n                    </div>\\r\\n                    <div class=\"col-md-3 value-card\">\\r\\n                        <div class=\"value\">\\r\\n                            <p class=\"txt-value\">R$ 75.000</p>\\r\\n                        </div>\\r\\n                    </div>\\r\\n                </div>\\r\\n                <div class=\"well card\">\\r\\n                    <div class=\"col-md-3 image-card\">\\r\\n                        <img width=\"220\" height=\"155\" alt=\"Foto\" src=\"https://caelum-online-public.s3.amazonaws.com/1381-scraping/01/img-cars/toyota/toyota-3245397__340.jpg\">\\r\\n                    </div>\\r\\n                    <div class=\"col-md-6 body-card\">\\r\\n                        <p class=\"txt-name inline\">TOYOTA</p>\\r\\n                            <p class=\"txt-category badge badge-secondary inline\">USADO</p>\\r\\n                            <p class=\"txt-opportunity badge badge-danger inline\">OPORTUNIDADE</p>\\r\\n                        <p class=\"txt-motor\">Motor 4.0 Turbo</p>\\r\\n                        <p class=\"txt-description\">Ano 1999 - 12.536 km</p>\\r\\n                        <ul class=\"lst-items\">\\r\\n                            <li class=\"txt-items\">\\xe2\\x96\\xba Bancos de couro</li>\\r\\n                            <li class=\"txt-items\">\\xe2\\x96\\xba Freios ABS</li>\\r\\n                            <li class=\"txt-items\">\\xe2\\x96\\xba Piloto autom\\xc3\\xa1tico</li>\\r\\n                            <li class=\"txt-items\">\\xe2\\x96\\xba Controle de estabilidade</li>\\r\\n                            <li class=\"txt-items\">...</li>\\r\\n                        </ul>\\r\\n                        <p class=\"txt-location\">S\\xc3\\xa3o Paulo - SP</p>\\r\\n                    </div>\\r\\n                    <div class=\"col-md-3 value-card\">\\r\\n                        <div class=\"value\">\\r\\n                            <p class=\"txt-value\">R$ 117.000</p>\\r\\n                        </div>\\r\\n                    </div>\\r\\n                </div>\\t\\t\\t\\t\\t\\t</div>\\r\\n\\t\\t\\t\\t\\t\\t<div class=\"type-select\">246 ve\\xc3\\xadculos encontrados</div>\\r\\n\\t\\t\\t\\t\\t\\t\\t<div class=\"container-pagination\" style=\"float: right\">\\r\\n\\t\\t\\t\\t\\t\\t\\t\\t<span class=\"info-pages\">P\\xc3\\xa1gina 1 de 25</span>\\r\\n\\t\\t\\t\\t\\t\\t\\t</div>\\r\\n\\t\\t\\t\\t\\t\\t</div>\\r\\n\\t\\t\\t\\t\\t</div>\\r\\n\\t\\t\\t\\t</div>\\r\\n\\t\\t\\t</div>\\r\\n\\t\\t</div>\\r\\n\\r\\n\\t\\t<footer>\\r\\n\\t\\t\\t<nav class=\"navbar navbar-inverse\">\\r\\n\\t\\t\\t\\t<div class=\"container\" style=\"margin-bottom: 10px;\">\\r\\n\\t\\t\\t\\t\\t<div class=\"navbar\">\\r\\n\\t\\t\\t\\t\\t\\t<a href=\"./index.php\" class=\"navbar-brand\" title=\"Alura Motors\">\\r\\n\\t\\t\\t\\t\\t\\t\\t<img src=\"img/alura-logo.svg\" class=\"d-inline-block align-top\" alt=\"Alura\">Motors\\r\\n\\t\\t\\t\\t\\t\\t</a>\\r\\n\\t\\t\\t\\t\\t\\t<p style=\"color: #fff; text-align: center; margin-top: 40px;\">Aplica\\xc3\\xa7\\xc3\\xa3o para treinamento de web scraping</p>\\r\\n\\t\\t\\t\\t\\t</div>\\r\\n\\t\\t\\t\\t</div>\\r\\n\\t\\t\\t</nav>\\r\\n\\t\\t</footer>\\r\\n\\r\\n\\t</div>\\r\\n\\r\\n</body>\\r\\n</html>\\r\\n'"
      ]
     },
     "execution_count": 5,
     "metadata": {},
     "output_type": "execute_result"
    }
   ],
   "source": [
    "from urllib.request import urlopen\n",
    "\n",
    "url = 'https://alura-site-scraping.herokuapp.com/index.php'\n",
    "\n",
    "response = urlopen(url)\n",
    "html = response.read()\n",
    "html"
   ]
  },
  {
   "cell_type": "markdown",
   "metadata": {},
   "source": [
    "### Convertando o tipo bytes para string"
   ]
  },
  {
   "cell_type": "code",
   "execution_count": 6,
   "metadata": {},
   "outputs": [
    {
     "data": {
      "text/plain": [
       "bytes"
      ]
     },
     "execution_count": 6,
     "metadata": {},
     "output_type": "execute_result"
    }
   ],
   "source": [
    "type(html)"
   ]
  },
  {
   "cell_type": "code",
   "execution_count": 7,
   "metadata": {},
   "outputs": [],
   "source": [
    "html = html.decode('utf-8')"
   ]
  },
  {
   "cell_type": "code",
   "execution_count": 8,
   "metadata": {},
   "outputs": [
    {
     "data": {
      "text/plain": [
       "str"
      ]
     },
     "execution_count": 8,
     "metadata": {},
     "output_type": "execute_result"
    }
   ],
   "source": [
    "type(html)"
   ]
  },
  {
   "cell_type": "code",
   "execution_count": 9,
   "metadata": {},
   "outputs": [
    {
     "data": {
      "text/plain": [
       "'<!DOCTYPE html>\\r\\n<html lang=\"pt-br\">\\r\\n<head>\\r\\n    <meta charset=\"utf-8\">\\r\\n    <meta name=\"viewport\" content=\"width=device-width, initial-scale=1, shrink-to-fit=no\">\\r\\n\\r\\n    <title>Alura Motors</title>\\r\\n\\r\\n\\t<style>\\r\\n\\t\\t/*Regra para a animacao*/\\r\\n\\t\\t@keyframes spin {\\r\\n\\t\\t\\t0% { transform: rotate(0deg); }\\r\\n\\t\\t\\t100% { transform: rotate(360deg); }\\r\\n\\t\\t}\\r\\n\\t\\t/*Mudando o tamanho do icone de resposta*/\\r\\n\\t\\tdiv.glyphicon {\\r\\n\\t\\t\\tcolor:#6B8E23;\\r\\n\\t\\t\\tfont-size: 38px;\\r\\n\\t\\t}\\r\\n\\t\\t/*Classe que mostra a animacao \\'spin\\'*/\\r\\n\\t\\t.loader {\\r\\n\\t\\t\\tborder: 16px solid #f3f3f3;\\r\\n\\t\\t\\tborder-radius: 50%;\\r\\n\\t\\t\\tborder-top: 16px solid #3498db;\\r\\n\\t\\t\\twidth: 80px;\\r\\n\\t\\t\\theight: 80px;\\r\\n\\t\\t\\t-webkit-animation: spin 2s linear infinite;\\r\\n\\t\\t\\tanimation: spin 2s linear infinite;\\r\\n\\t\\t}\\r\\n\\t</style>\\r\\n\\t<link rel=\"stylesheet\" href=\"https://maxcdn.bootstrapcdn.com/bootstrap/3.3.7/css/bootstrap.min.css\" integrity=\"sha384-BVYiiSIFeK1dGmJRAkycuHAHRg32OmUcww7on3RYdg4Va+PmSTsz/K68vbdEjh4u\" crossorigin=\"anonymous\">\\r\\n\\t<link rel=\"stylesheet\" href=\"css/styles.css\" media=\"all\">\\r\\n\\r\\n\\t<script src=\"https://code.jquery.com/jquery-1.12.4.js\"></script>\\r\\n\\t<script src=\"https://maxcdn.bootstrapcdn.com/bootstrap/3.3.7/js/bootstrap.min.js\" integrity=\"sha384-Tc5IQib027qvyjSMfHjOMaLkfuWVxZxUPnCJA7l2mCWNIpG9mGCD8wGNIcPD7Txa\" crossorigin=\"anonymous\"></script>\\r\\n\\t<script type=\"text/javascript\" src=\"js/index.js\"></script>\\r\\n\\t<script>\\r\\n\\t\\trequisitar(\"https://alura-scraping.herokuapp.com/produtos?_page=\"+1+\"&_limit=10\")\\r\\n\\t</script>\\r\\n\\r\\n</head>\\r\\n<body cz-shortcut-listen=\"true\">\\r\\n    <noscript>You need to enable JavaScript to run this app.</noscript>\\r\\n\\r\\n\\t<div class=\"modal fade\" data-backdrop=\"static\" id=\"loadingModal\" tabindex=\"-1\" role=\"dialog\" aria-labelledby=\"loadingModal_label\">\\r\\n\\t\\t<div class=\"modal-dialog\" role=\"document\">\\r\\n\\t\\t\\t<div class=\"modal-content\">\\r\\n\\t\\t\\t\\t<div class=\"modal-header\">\\r\\n\\t\\t\\t\\t\\t<h5 class=\"modal-title\" id=\"loadingModal_label\">\\r\\n\\t\\t\\t\\t\\t\\t<span class=\"glyphicon glyphicon-refresh\"></span>Aguarde...\\r\\n\\t\\t\\t\\t\\t</h5>\\r\\n\\t\\t\\t\\t</div>\\r\\n\\t\\t\\t\\t<div class=\"modal-body\">\\r\\n\\t\\t\\t\\t\\t<div class=\\'alert\\' role=\\'alert\\'>\\r\\n\\t\\t\\t\\t\\t\\t<center>\\r\\n\\t\\t\\t\\t\\t\\t\\t<div class=\"loader\" id=\"loader\"></div><br>\\r\\n\\t\\t\\t\\t\\t\\t\\t<h4><b id=\"loadingModal_content\"></b></h4>\\r\\n\\t\\t\\t\\t\\t\\t</center>\\r\\n\\t\\t\\t\\t\\t</div>\\r\\n\\t\\t\\t\\t</div>\\r\\n\\t\\t\\t</div>\\r\\n\\t\\t</div>\\r\\n\\t</div>\\r\\n\\r\\n    <div id=\"root\">\\r\\n\\t\\t<header>\\r\\n\\t\\t\\t<nav class=\"navbar navbar-inverse\" style=\"margin-bottom: 0;\">\\r\\n\\t\\t\\t\\t<div class=\"container\" style=\"margin-bottom: -20px;\">\\r\\n\\t\\t\\t\\t\\t<div class=\"navbar\">\\r\\n\\t\\t\\t\\t\\t\\t<a href=\"./index.php\" class=\"navbar-brand\" title=\"Alura Motors\">\\r\\n\\t\\t\\t\\t\\t\\t\\t<img src=\"img/alura-logo.svg\" class=\"d-inline-block align-top\" alt=\"Alura\">Motors\\r\\n\\t\\t\\t\\t\\t\\t</a>\\r\\n\\t\\t\\t\\t\\t\\t<ul class=\"nav navbar-nav\" style=\"margin-top: 35px;\">\\r\\n\\t\\t\\t\\t\\t\\t\\t<li><a href=\"./hello-world.php\">Hello World</a></li>\\r\\n\\t\\t\\t\\t\\t\\t\\t<li><a href=\"./index.php\">Anúncios</a></li>\\r\\n\\t\\t\\t\\t\\t\\t</ul>\\r\\n\\t\\t\\t\\t\\t</div>\\r\\n\\t\\t\\t\\t</div>\\r\\n\\t\\t\\t</nav>\\r\\n\\t\\t</header>\\r\\n\\r\\n\\t\\t<div class=\"container\">\\r\\n\\t\\t\\t<h1 class=\"sub-header\">Veículos de Luxo Novos e Usados - Todas as Marcas</h1>\\r\\n\\t\\t\\t<div class=\"row\">\\r\\n\\t\\t\\t\\t<div class=\"col-md-12\">\\r\\n\\t\\t\\t\\t\\t<div class=\"container\" style=\"width: 100%\">\\r\\n\\t\\t\\t\\t\\t\\t<div class=\"type-select\">246 veículos encontrados</div>\\r\\n\\t\\t\\t\\t\\t\\t\\t<div class=\"container-pagination\" style=\"float: right\">\\r\\n\\t\\t\\t\\t\\t\\t\\t\\t<span class=\"info-pages\">Página 1 de 25</span>\\r\\n\\t\\t\\t\\t\\t\\t\\t</div>\\r\\n\\t\\t\\t\\t\\t\\t</div>\\r\\n\\t\\t\\t\\t\\t\\t<div id=\"container-cards\" style=\"height: 100%\">\\r\\n\\t\\t\\t\\t\\t\\t\\t\\r\\n                <div class=\"well card\">\\r\\n                    <div class=\"col-md-3 image-card\">\\r\\n                        <img width=\"220\" height=\"155\" alt=\"Foto\" src=\"https://caelum-online-public.s3.amazonaws.com/1381-scraping/01/img-cars/lamborghini-aventador/lamborghini-aventador-2932196__340.jpg\">\\r\\n                    </div>\\r\\n                    <div class=\"col-md-6 body-card\">\\r\\n                        <p class=\"txt-name inline\">LAMBORGHINI AVENTADOR</p>\\r\\n                            <p class=\"txt-category badge badge-secondary inline\">USADO</p>\\r\\n                            \\r\\n                        <p class=\"txt-motor\">Motor 1.8 16v</p>\\r\\n                        <p class=\"txt-description\">Ano 1993 - 55.286 km</p>\\r\\n                        <ul class=\"lst-items\">\\r\\n                            <li class=\"txt-items\">► 4 X 4</li>\\r\\n                            <li class=\"txt-items\">► Câmera de estacionamento</li>\\r\\n                            <li class=\"txt-items\">► Controle de tração</li>\\r\\n                            <li class=\"txt-items\">► Sensor de estacionamento</li>\\r\\n                            <li class=\"txt-items\">...</li>\\r\\n                        </ul>\\r\\n                        <p class=\"txt-location\">Belo Horizonte - MG</p>\\r\\n                    </div>\\r\\n                    <div class=\"col-md-3 value-card\">\\r\\n                        <div class=\"value\">\\r\\n                            <p class=\"txt-value\">R$ 338.000</p>\\r\\n                        </div>\\r\\n                    </div>\\r\\n                </div>\\r\\n                <div class=\"well card\">\\r\\n                    <div class=\"col-md-3 image-card\">\\r\\n                        <img width=\"220\" height=\"155\" alt=\"Foto\" src=\"https://caelum-online-public.s3.amazonaws.com/1381-scraping/01/img-cars/bmw-m2/bmw-m2-2970882__340.jpg\">\\r\\n                    </div>\\r\\n                    <div class=\"col-md-6 body-card\">\\r\\n                        <p class=\"txt-name inline\">BMW M2</p>\\r\\n                            <p class=\"txt-category badge badge-secondary inline\">USADO</p>\\r\\n                            \\r\\n                        <p class=\"txt-motor\">Motor 3.0 32v</p>\\r\\n                        <p class=\"txt-description\">Ano 2018 - 83.447 km</p>\\r\\n                        <ul class=\"lst-items\">\\r\\n                            <li class=\"txt-items\">► Câmera de estacionamento</li>\\r\\n                            <li class=\"txt-items\">► Controle de estabilidade</li>\\r\\n                            <li class=\"txt-items\">► Travas elétricas</li>\\r\\n                            <li class=\"txt-items\">► Freios ABS</li>\\r\\n                            <li class=\"txt-items\">...</li>\\r\\n                        </ul>\\r\\n                        <p class=\"txt-location\">Belo Horizonte - MG</p>\\r\\n                    </div>\\r\\n                    <div class=\"col-md-3 value-card\">\\r\\n                        <div class=\"value\">\\r\\n                            <p class=\"txt-value\">R$ 346.000</p>\\r\\n                        </div>\\r\\n                    </div>\\r\\n                </div>\\r\\n                <div class=\"well card\">\\r\\n                    <div class=\"col-md-3 image-card\">\\r\\n                        <img width=\"220\" height=\"155\" alt=\"Foto\" src=\"https://caelum-online-public.s3.amazonaws.com/1381-scraping/01/img-cars/alfa/alfa-1823056__340.jpg\">\\r\\n                    </div>\\r\\n                    <div class=\"col-md-6 body-card\">\\r\\n                        <p class=\"txt-name inline\">ALFA</p>\\r\\n                            <p class=\"txt-category badge badge-secondary inline\">USADO</p>\\r\\n                            \\r\\n                        <p class=\"txt-motor\">Motor 1.8 16v</p>\\r\\n                        <p class=\"txt-description\">Ano 2004 - 19.722 km</p>\\r\\n                        <ul class=\"lst-items\">\\r\\n                            <li class=\"txt-items\">► Central multimídia</li>\\r\\n                            <li class=\"txt-items\">► Bancos de couro</li>\\r\\n                            <li class=\"txt-items\">► Rodas de liga</li>\\r\\n                            <li class=\"txt-items\">► Câmera de estacionamento</li>\\r\\n                            <li class=\"txt-items\">...</li>\\r\\n                        </ul>\\r\\n                        <p class=\"txt-location\">Rio de Janeiro - RJ</p>\\r\\n                    </div>\\r\\n                    <div class=\"col-md-3 value-card\">\\r\\n                        <div class=\"value\">\\r\\n                            <p class=\"txt-value\">R$ 480.000</p>\\r\\n                        </div>\\r\\n                    </div>\\r\\n                </div>\\r\\n                <div class=\"well card\">\\r\\n                    <div class=\"col-md-3 image-card\">\\r\\n                        <img width=\"220\" height=\"155\" alt=\"Foto\" src=\"https://caelum-online-public.s3.amazonaws.com/1381-scraping/01/img-cars/puech/puech-4055386__340.jpg\">\\r\\n                    </div>\\r\\n                    <div class=\"col-md-6 body-card\">\\r\\n                        <p class=\"txt-name inline\">PUECH</p>\\r\\n                            <p class=\"txt-category badge badge-secondary inline\">USADO</p>\\r\\n                            \\r\\n                        <p class=\"txt-motor\">Motor Diesel V8</p>\\r\\n                        <p class=\"txt-description\">Ano 1992 - 34.335 km</p>\\r\\n                        <ul class=\"lst-items\">\\r\\n                            <li class=\"txt-items\">► Bancos de couro</li>\\r\\n                            <li class=\"txt-items\">► Freios ABS</li>\\r\\n                            <li class=\"txt-items\">► Rodas de liga</li>\\r\\n                            <li class=\"txt-items\">► Câmbio automático</li>\\r\\n                            <li class=\"txt-items\">...</li>\\r\\n                        </ul>\\r\\n                        <p class=\"txt-location\">São Paulo - SP</p>\\r\\n                    </div>\\r\\n                    <div class=\"col-md-3 value-card\">\\r\\n                        <div class=\"value\">\\r\\n                            <p class=\"txt-value\">R$ 133.000</p>\\r\\n                        </div>\\r\\n                    </div>\\r\\n                </div>\\r\\n                <div class=\"well card\">\\r\\n                    <div class=\"col-md-3 image-card\">\\r\\n                        <img width=\"220\" height=\"155\" alt=\"Foto\" src=\"https://caelum-online-public.s3.amazonaws.com/1381-scraping/01/img-cars/lamborghini-murcielago/lamborghini-murcielago-2872974__340.jpg\">\\r\\n                    </div>\\r\\n                    <div class=\"col-md-6 body-card\">\\r\\n                        <p class=\"txt-name inline\">LAMBORGHINI MURCIELAGO</p>\\r\\n                            <p class=\"txt-category badge badge-secondary inline\">USADO</p>\\r\\n                            \\r\\n                        <p class=\"txt-motor\">Motor 1.0 8v</p>\\r\\n                        <p class=\"txt-description\">Ano 1991 - 464 km</p>\\r\\n                        <ul class=\"lst-items\">\\r\\n                            <li class=\"txt-items\">► Central multimídia</li>\\r\\n                            <li class=\"txt-items\">► Teto panorâmico</li>\\r\\n                            <li class=\"txt-items\">► Sensor crepuscular</li>\\r\\n                            <li class=\"txt-items\">► Piloto automático</li>\\r\\n                            <li class=\"txt-items\">...</li>\\r\\n                        </ul>\\r\\n                        <p class=\"txt-location\">Belo Horizonte - MG</p>\\r\\n                    </div>\\r\\n                    <div class=\"col-md-3 value-card\">\\r\\n                        <div class=\"value\">\\r\\n                            <p class=\"txt-value\">R$ 175.000</p>\\r\\n                        </div>\\r\\n                    </div>\\r\\n                </div>\\r\\n                <div class=\"well card\">\\r\\n                    <div class=\"col-md-3 image-card\">\\r\\n                        <img width=\"220\" height=\"155\" alt=\"Foto\" src=\"https://caelum-online-public.s3.amazonaws.com/1381-scraping/01/img-cars/aston-martin/aston-martin-2977916__340.jpg\">\\r\\n                    </div>\\r\\n                    <div class=\"col-md-6 body-card\">\\r\\n                        <p class=\"txt-name inline\">ASTON MARTIN</p>\\r\\n                            <p class=\"txt-category badge badge-secondary inline\">USADO</p>\\r\\n                            <p class=\"txt-opportunity badge badge-danger inline\">OPORTUNIDADE</p>\\r\\n                        <p class=\"txt-motor\">Motor Diesel V6</p>\\r\\n                        <p class=\"txt-description\">Ano 2004 - 50.189 km</p>\\r\\n                        <ul class=\"lst-items\">\\r\\n                            <li class=\"txt-items\">► Painel digital</li>\\r\\n                            <li class=\"txt-items\">► Controle de tração</li>\\r\\n                            <li class=\"txt-items\">► Teto panorâmico</li>\\r\\n                            <li class=\"txt-items\">► Central multimídia</li>\\r\\n                            <li class=\"txt-items\">...</li>\\r\\n                        </ul>\\r\\n                        <p class=\"txt-location\">Belo Horizonte - MG</p>\\r\\n                    </div>\\r\\n                    <div class=\"col-md-3 value-card\">\\r\\n                        <div class=\"value\">\\r\\n                            <p class=\"txt-value\">R$ 239.000</p>\\r\\n                        </div>\\r\\n                    </div>\\r\\n                </div>\\r\\n                <div class=\"well card\">\\r\\n                    <div class=\"col-md-3 image-card\">\\r\\n                        <img width=\"220\" height=\"155\" alt=\"Foto\" src=\"https://caelum-online-public.s3.amazonaws.com/1381-scraping/01/img-cars/tvr/tvr-2943925__340.jpg\">\\r\\n                    </div>\\r\\n                    <div class=\"col-md-6 body-card\">\\r\\n                        <p class=\"txt-name inline\">TVR</p>\\r\\n                            <p class=\"txt-category badge badge-secondary inline\">USADO</p>\\r\\n                            \\r\\n                        <p class=\"txt-motor\">Motor 4.0 Turbo</p>\\r\\n                        <p class=\"txt-description\">Ano 2014 - 17.778 km</p>\\r\\n                        <ul class=\"lst-items\">\\r\\n                            <li class=\"txt-items\">► 4 X 4</li>\\r\\n                            <li class=\"txt-items\">► Teto panorâmico</li>\\r\\n                            <li class=\"txt-items\">► Central multimídia</li>\\r\\n                            <li class=\"txt-items\">► Controle de estabilidade</li>\\r\\n                            <li class=\"txt-items\">...</li>\\r\\n                        </ul>\\r\\n                        <p class=\"txt-location\">Belo Horizonte - MG</p>\\r\\n                    </div>\\r\\n                    <div class=\"col-md-3 value-card\">\\r\\n                        <div class=\"value\">\\r\\n                            <p class=\"txt-value\">R$ 115.000</p>\\r\\n                        </div>\\r\\n                    </div>\\r\\n                </div>\\r\\n                <div class=\"well card\">\\r\\n                    <div class=\"col-md-3 image-card\">\\r\\n                        <img width=\"220\" height=\"155\" alt=\"Foto\" src=\"https://caelum-online-public.s3.amazonaws.com/1381-scraping/01/img-cars/excalibur/excalibur-2916730__340.jpg\">\\r\\n                    </div>\\r\\n                    <div class=\"col-md-6 body-card\">\\r\\n                        <p class=\"txt-name inline\">EXCALIBUR</p>\\r\\n                            <p class=\"txt-category badge badge-secondary inline\">USADO</p>\\r\\n                            \\r\\n                        <p class=\"txt-motor\">Motor 3.0 32v</p>\\r\\n                        <p class=\"txt-description\">Ano 2009 - 81.251 km</p>\\r\\n                        <ul class=\"lst-items\">\\r\\n                            <li class=\"txt-items\">► Painel digital</li>\\r\\n                            <li class=\"txt-items\">► Câmbio automático</li>\\r\\n                            <li class=\"txt-items\">► Sensor de chuva</li>\\r\\n                            <li class=\"txt-items\">► Travas elétricas</li>\\r\\n                            <li class=\"txt-items\">...</li>\\r\\n                        </ul>\\r\\n                        <p class=\"txt-location\">Rio de Janeiro - RJ</p>\\r\\n                    </div>\\r\\n                    <div class=\"col-md-3 value-card\">\\r\\n                        <div class=\"value\">\\r\\n                            <p class=\"txt-value\">R$ 114.000</p>\\r\\n                        </div>\\r\\n                    </div>\\r\\n                </div>\\r\\n                <div class=\"well card\">\\r\\n                    <div class=\"col-md-3 image-card\">\\r\\n                        <img width=\"220\" height=\"155\" alt=\"Foto\" src=\"https://caelum-online-public.s3.amazonaws.com/1381-scraping/01/img-cars/mclaren/mclaren-2855240__340.jpg\">\\r\\n                    </div>\\r\\n                    <div class=\"col-md-6 body-card\">\\r\\n                        <p class=\"txt-name inline\">MCLAREN</p>\\r\\n                            <p class=\"txt-category badge badge-secondary inline\">NOVO</p>\\r\\n                            \\r\\n                        <p class=\"txt-motor\">Motor Diesel</p>\\r\\n                        <p class=\"txt-description\">Ano 2019 - 0 km</p>\\r\\n                        <ul class=\"lst-items\">\\r\\n                            <li class=\"txt-items\">► Central multimídia</li>\\r\\n                            <li class=\"txt-items\">► Câmera de estacionamento</li>\\r\\n                            <li class=\"txt-items\">► Câmbio automático</li>\\r\\n                            <li class=\"txt-items\">► Ar condicionado</li>\\r\\n                            <li class=\"txt-items\">...</li>\\r\\n                        </ul>\\r\\n                        <p class=\"txt-location\">São Paulo - SP</p>\\r\\n                    </div>\\r\\n                    <div class=\"col-md-3 value-card\">\\r\\n                        <div class=\"value\">\\r\\n                            <p class=\"txt-value\">R$ 75.000</p>\\r\\n                        </div>\\r\\n                    </div>\\r\\n                </div>\\r\\n                <div class=\"well card\">\\r\\n                    <div class=\"col-md-3 image-card\">\\r\\n                        <img width=\"220\" height=\"155\" alt=\"Foto\" src=\"https://caelum-online-public.s3.amazonaws.com/1381-scraping/01/img-cars/toyota/toyota-3245397__340.jpg\">\\r\\n                    </div>\\r\\n                    <div class=\"col-md-6 body-card\">\\r\\n                        <p class=\"txt-name inline\">TOYOTA</p>\\r\\n                            <p class=\"txt-category badge badge-secondary inline\">USADO</p>\\r\\n                            <p class=\"txt-opportunity badge badge-danger inline\">OPORTUNIDADE</p>\\r\\n                        <p class=\"txt-motor\">Motor 4.0 Turbo</p>\\r\\n                        <p class=\"txt-description\">Ano 1999 - 12.536 km</p>\\r\\n                        <ul class=\"lst-items\">\\r\\n                            <li class=\"txt-items\">► Bancos de couro</li>\\r\\n                            <li class=\"txt-items\">► Freios ABS</li>\\r\\n                            <li class=\"txt-items\">► Piloto automático</li>\\r\\n                            <li class=\"txt-items\">► Controle de estabilidade</li>\\r\\n                            <li class=\"txt-items\">...</li>\\r\\n                        </ul>\\r\\n                        <p class=\"txt-location\">São Paulo - SP</p>\\r\\n                    </div>\\r\\n                    <div class=\"col-md-3 value-card\">\\r\\n                        <div class=\"value\">\\r\\n                            <p class=\"txt-value\">R$ 117.000</p>\\r\\n                        </div>\\r\\n                    </div>\\r\\n                </div>\\t\\t\\t\\t\\t\\t</div>\\r\\n\\t\\t\\t\\t\\t\\t<div class=\"type-select\">246 veículos encontrados</div>\\r\\n\\t\\t\\t\\t\\t\\t\\t<div class=\"container-pagination\" style=\"float: right\">\\r\\n\\t\\t\\t\\t\\t\\t\\t\\t<span class=\"info-pages\">Página 1 de 25</span>\\r\\n\\t\\t\\t\\t\\t\\t\\t</div>\\r\\n\\t\\t\\t\\t\\t\\t</div>\\r\\n\\t\\t\\t\\t\\t</div>\\r\\n\\t\\t\\t\\t</div>\\r\\n\\t\\t\\t</div>\\r\\n\\t\\t</div>\\r\\n\\r\\n\\t\\t<footer>\\r\\n\\t\\t\\t<nav class=\"navbar navbar-inverse\">\\r\\n\\t\\t\\t\\t<div class=\"container\" style=\"margin-bottom: 10px;\">\\r\\n\\t\\t\\t\\t\\t<div class=\"navbar\">\\r\\n\\t\\t\\t\\t\\t\\t<a href=\"./index.php\" class=\"navbar-brand\" title=\"Alura Motors\">\\r\\n\\t\\t\\t\\t\\t\\t\\t<img src=\"img/alura-logo.svg\" class=\"d-inline-block align-top\" alt=\"Alura\">Motors\\r\\n\\t\\t\\t\\t\\t\\t</a>\\r\\n\\t\\t\\t\\t\\t\\t<p style=\"color: #fff; text-align: center; margin-top: 40px;\">Aplicação para treinamento de web scraping</p>\\r\\n\\t\\t\\t\\t\\t</div>\\r\\n\\t\\t\\t\\t</div>\\r\\n\\t\\t\\t</nav>\\r\\n\\t\\t</footer>\\r\\n\\r\\n\\t</div>\\r\\n\\r\\n</body>\\r\\n</html>\\r\\n'"
      ]
     },
     "execution_count": 9,
     "metadata": {},
     "output_type": "execute_result"
    }
   ],
   "source": [
    "html"
   ]
  },
  {
   "cell_type": "markdown",
   "metadata": {},
   "source": [
    "### Eliminando os caracteres de tabulação, quebra de linha etc."
   ]
  },
  {
   "cell_type": "code",
   "execution_count": 10,
   "metadata": {},
   "outputs": [
    {
     "data": {
      "text/plain": [
       "['<!DOCTYPE',\n",
       " 'html>',\n",
       " '<html',\n",
       " 'lang=\"pt-br\">',\n",
       " '<head>',\n",
       " '<meta',\n",
       " 'charset=\"utf-8\">',\n",
       " '<meta',\n",
       " 'name=\"viewport\"',\n",
       " 'content=\"width=device-width,',\n",
       " 'initial-scale=1,',\n",
       " 'shrink-to-fit=no\">',\n",
       " '<title>Alura',\n",
       " 'Motors</title>',\n",
       " '<style>',\n",
       " '/*Regra',\n",
       " 'para',\n",
       " 'a',\n",
       " 'animacao*/',\n",
       " '@keyframes',\n",
       " 'spin',\n",
       " '{',\n",
       " '0%',\n",
       " '{',\n",
       " 'transform:',\n",
       " 'rotate(0deg);',\n",
       " '}',\n",
       " '100%',\n",
       " '{',\n",
       " 'transform:',\n",
       " 'rotate(360deg);',\n",
       " '}',\n",
       " '}',\n",
       " '/*Mudando',\n",
       " 'o',\n",
       " 'tamanho',\n",
       " 'do',\n",
       " 'icone',\n",
       " 'de',\n",
       " 'resposta*/',\n",
       " 'div.glyphicon',\n",
       " '{',\n",
       " 'color:#6B8E23;',\n",
       " 'font-size:',\n",
       " '38px;',\n",
       " '}',\n",
       " '/*Classe',\n",
       " 'que',\n",
       " 'mostra',\n",
       " 'a',\n",
       " 'animacao',\n",
       " \"'spin'*/\",\n",
       " '.loader',\n",
       " '{',\n",
       " 'border:',\n",
       " '16px',\n",
       " 'solid',\n",
       " '#f3f3f3;',\n",
       " 'border-radius:',\n",
       " '50%;',\n",
       " 'border-top:',\n",
       " '16px',\n",
       " 'solid',\n",
       " '#3498db;',\n",
       " 'width:',\n",
       " '80px;',\n",
       " 'height:',\n",
       " '80px;',\n",
       " '-webkit-animation:',\n",
       " 'spin',\n",
       " '2s',\n",
       " 'linear',\n",
       " 'infinite;',\n",
       " 'animation:',\n",
       " 'spin',\n",
       " '2s',\n",
       " 'linear',\n",
       " 'infinite;',\n",
       " '}',\n",
       " '</style>',\n",
       " '<link',\n",
       " 'rel=\"stylesheet\"',\n",
       " 'href=\"https://maxcdn.bootstrapcdn.com/bootstrap/3.3.7/css/bootstrap.min.css\"',\n",
       " 'integrity=\"sha384-BVYiiSIFeK1dGmJRAkycuHAHRg32OmUcww7on3RYdg4Va+PmSTsz/K68vbdEjh4u\"',\n",
       " 'crossorigin=\"anonymous\">',\n",
       " '<link',\n",
       " 'rel=\"stylesheet\"',\n",
       " 'href=\"css/styles.css\"',\n",
       " 'media=\"all\">',\n",
       " '<script',\n",
       " 'src=\"https://code.jquery.com/jquery-1.12.4.js\"></script>',\n",
       " '<script',\n",
       " 'src=\"https://maxcdn.bootstrapcdn.com/bootstrap/3.3.7/js/bootstrap.min.js\"',\n",
       " 'integrity=\"sha384-Tc5IQib027qvyjSMfHjOMaLkfuWVxZxUPnCJA7l2mCWNIpG9mGCD8wGNIcPD7Txa\"',\n",
       " 'crossorigin=\"anonymous\"></script>',\n",
       " '<script',\n",
       " 'type=\"text/javascript\"',\n",
       " 'src=\"js/index.js\"></script>',\n",
       " '<script>',\n",
       " 'requisitar(\"https://alura-scraping.herokuapp.com/produtos?_page=\"+1+\"&_limit=10\")',\n",
       " '</script>',\n",
       " '</head>',\n",
       " '<body',\n",
       " 'cz-shortcut-listen=\"true\">',\n",
       " '<noscript>You',\n",
       " 'need',\n",
       " 'to',\n",
       " 'enable',\n",
       " 'JavaScript',\n",
       " 'to',\n",
       " 'run',\n",
       " 'this',\n",
       " 'app.</noscript>',\n",
       " '<div',\n",
       " 'class=\"modal',\n",
       " 'fade\"',\n",
       " 'data-backdrop=\"static\"',\n",
       " 'id=\"loadingModal\"',\n",
       " 'tabindex=\"-1\"',\n",
       " 'role=\"dialog\"',\n",
       " 'aria-labelledby=\"loadingModal_label\">',\n",
       " '<div',\n",
       " 'class=\"modal-dialog\"',\n",
       " 'role=\"document\">',\n",
       " '<div',\n",
       " 'class=\"modal-content\">',\n",
       " '<div',\n",
       " 'class=\"modal-header\">',\n",
       " '<h5',\n",
       " 'class=\"modal-title\"',\n",
       " 'id=\"loadingModal_label\">',\n",
       " '<span',\n",
       " 'class=\"glyphicon',\n",
       " 'glyphicon-refresh\"></span>Aguarde...',\n",
       " '</h5>',\n",
       " '</div>',\n",
       " '<div',\n",
       " 'class=\"modal-body\">',\n",
       " '<div',\n",
       " \"class='alert'\",\n",
       " \"role='alert'>\",\n",
       " '<center>',\n",
       " '<div',\n",
       " 'class=\"loader\"',\n",
       " 'id=\"loader\"></div><br>',\n",
       " '<h4><b',\n",
       " 'id=\"loadingModal_content\"></b></h4>',\n",
       " '</center>',\n",
       " '</div>',\n",
       " '</div>',\n",
       " '</div>',\n",
       " '</div>',\n",
       " '</div>',\n",
       " '<div',\n",
       " 'id=\"root\">',\n",
       " '<header>',\n",
       " '<nav',\n",
       " 'class=\"navbar',\n",
       " 'navbar-inverse\"',\n",
       " 'style=\"margin-bottom:',\n",
       " '0;\">',\n",
       " '<div',\n",
       " 'class=\"container\"',\n",
       " 'style=\"margin-bottom:',\n",
       " '-20px;\">',\n",
       " '<div',\n",
       " 'class=\"navbar\">',\n",
       " '<a',\n",
       " 'href=\"./index.php\"',\n",
       " 'class=\"navbar-brand\"',\n",
       " 'title=\"Alura',\n",
       " 'Motors\">',\n",
       " '<img',\n",
       " 'src=\"img/alura-logo.svg\"',\n",
       " 'class=\"d-inline-block',\n",
       " 'align-top\"',\n",
       " 'alt=\"Alura\">Motors',\n",
       " '</a>',\n",
       " '<ul',\n",
       " 'class=\"nav',\n",
       " 'navbar-nav\"',\n",
       " 'style=\"margin-top:',\n",
       " '35px;\">',\n",
       " '<li><a',\n",
       " 'href=\"./hello-world.php\">Hello',\n",
       " 'World</a></li>',\n",
       " '<li><a',\n",
       " 'href=\"./index.php\">Anúncios</a></li>',\n",
       " '</ul>',\n",
       " '</div>',\n",
       " '</div>',\n",
       " '</nav>',\n",
       " '</header>',\n",
       " '<div',\n",
       " 'class=\"container\">',\n",
       " '<h1',\n",
       " 'class=\"sub-header\">Veículos',\n",
       " 'de',\n",
       " 'Luxo',\n",
       " 'Novos',\n",
       " 'e',\n",
       " 'Usados',\n",
       " '-',\n",
       " 'Todas',\n",
       " 'as',\n",
       " 'Marcas</h1>',\n",
       " '<div',\n",
       " 'class=\"row\">',\n",
       " '<div',\n",
       " 'class=\"col-md-12\">',\n",
       " '<div',\n",
       " 'class=\"container\"',\n",
       " 'style=\"width:',\n",
       " '100%\">',\n",
       " '<div',\n",
       " 'class=\"type-select\">246',\n",
       " 'veículos',\n",
       " 'encontrados</div>',\n",
       " '<div',\n",
       " 'class=\"container-pagination\"',\n",
       " 'style=\"float:',\n",
       " 'right\">',\n",
       " '<span',\n",
       " 'class=\"info-pages\">Página',\n",
       " '1',\n",
       " 'de',\n",
       " '25</span>',\n",
       " '</div>',\n",
       " '</div>',\n",
       " '<div',\n",
       " 'id=\"container-cards\"',\n",
       " 'style=\"height:',\n",
       " '100%\">',\n",
       " '<div',\n",
       " 'class=\"well',\n",
       " 'card\">',\n",
       " '<div',\n",
       " 'class=\"col-md-3',\n",
       " 'image-card\">',\n",
       " '<img',\n",
       " 'width=\"220\"',\n",
       " 'height=\"155\"',\n",
       " 'alt=\"Foto\"',\n",
       " 'src=\"https://caelum-online-public.s3.amazonaws.com/1381-scraping/01/img-cars/lamborghini-aventador/lamborghini-aventador-2932196__340.jpg\">',\n",
       " '</div>',\n",
       " '<div',\n",
       " 'class=\"col-md-6',\n",
       " 'body-card\">',\n",
       " '<p',\n",
       " 'class=\"txt-name',\n",
       " 'inline\">LAMBORGHINI',\n",
       " 'AVENTADOR</p>',\n",
       " '<p',\n",
       " 'class=\"txt-category',\n",
       " 'badge',\n",
       " 'badge-secondary',\n",
       " 'inline\">USADO</p>',\n",
       " '<p',\n",
       " 'class=\"txt-motor\">Motor',\n",
       " '1.8',\n",
       " '16v</p>',\n",
       " '<p',\n",
       " 'class=\"txt-description\">Ano',\n",
       " '1993',\n",
       " '-',\n",
       " '55.286',\n",
       " 'km</p>',\n",
       " '<ul',\n",
       " 'class=\"lst-items\">',\n",
       " '<li',\n",
       " 'class=\"txt-items\">►',\n",
       " '4',\n",
       " 'X',\n",
       " '4</li>',\n",
       " '<li',\n",
       " 'class=\"txt-items\">►',\n",
       " 'Câmera',\n",
       " 'de',\n",
       " 'estacionamento</li>',\n",
       " '<li',\n",
       " 'class=\"txt-items\">►',\n",
       " 'Controle',\n",
       " 'de',\n",
       " 'tração</li>',\n",
       " '<li',\n",
       " 'class=\"txt-items\">►',\n",
       " 'Sensor',\n",
       " 'de',\n",
       " 'estacionamento</li>',\n",
       " '<li',\n",
       " 'class=\"txt-items\">...</li>',\n",
       " '</ul>',\n",
       " '<p',\n",
       " 'class=\"txt-location\">Belo',\n",
       " 'Horizonte',\n",
       " '-',\n",
       " 'MG</p>',\n",
       " '</div>',\n",
       " '<div',\n",
       " 'class=\"col-md-3',\n",
       " 'value-card\">',\n",
       " '<div',\n",
       " 'class=\"value\">',\n",
       " '<p',\n",
       " 'class=\"txt-value\">R$',\n",
       " '338.000</p>',\n",
       " '</div>',\n",
       " '</div>',\n",
       " '</div>',\n",
       " '<div',\n",
       " 'class=\"well',\n",
       " 'card\">',\n",
       " '<div',\n",
       " 'class=\"col-md-3',\n",
       " 'image-card\">',\n",
       " '<img',\n",
       " 'width=\"220\"',\n",
       " 'height=\"155\"',\n",
       " 'alt=\"Foto\"',\n",
       " 'src=\"https://caelum-online-public.s3.amazonaws.com/1381-scraping/01/img-cars/bmw-m2/bmw-m2-2970882__340.jpg\">',\n",
       " '</div>',\n",
       " '<div',\n",
       " 'class=\"col-md-6',\n",
       " 'body-card\">',\n",
       " '<p',\n",
       " 'class=\"txt-name',\n",
       " 'inline\">BMW',\n",
       " 'M2</p>',\n",
       " '<p',\n",
       " 'class=\"txt-category',\n",
       " 'badge',\n",
       " 'badge-secondary',\n",
       " 'inline\">USADO</p>',\n",
       " '<p',\n",
       " 'class=\"txt-motor\">Motor',\n",
       " '3.0',\n",
       " '32v</p>',\n",
       " '<p',\n",
       " 'class=\"txt-description\">Ano',\n",
       " '2018',\n",
       " '-',\n",
       " '83.447',\n",
       " 'km</p>',\n",
       " '<ul',\n",
       " 'class=\"lst-items\">',\n",
       " '<li',\n",
       " 'class=\"txt-items\">►',\n",
       " 'Câmera',\n",
       " 'de',\n",
       " 'estacionamento</li>',\n",
       " '<li',\n",
       " 'class=\"txt-items\">►',\n",
       " 'Controle',\n",
       " 'de',\n",
       " 'estabilidade</li>',\n",
       " '<li',\n",
       " 'class=\"txt-items\">►',\n",
       " 'Travas',\n",
       " 'elétricas</li>',\n",
       " '<li',\n",
       " 'class=\"txt-items\">►',\n",
       " 'Freios',\n",
       " 'ABS</li>',\n",
       " '<li',\n",
       " 'class=\"txt-items\">...</li>',\n",
       " '</ul>',\n",
       " '<p',\n",
       " 'class=\"txt-location\">Belo',\n",
       " 'Horizonte',\n",
       " '-',\n",
       " 'MG</p>',\n",
       " '</div>',\n",
       " '<div',\n",
       " 'class=\"col-md-3',\n",
       " 'value-card\">',\n",
       " '<div',\n",
       " 'class=\"value\">',\n",
       " '<p',\n",
       " 'class=\"txt-value\">R$',\n",
       " '346.000</p>',\n",
       " '</div>',\n",
       " '</div>',\n",
       " '</div>',\n",
       " '<div',\n",
       " 'class=\"well',\n",
       " 'card\">',\n",
       " '<div',\n",
       " 'class=\"col-md-3',\n",
       " 'image-card\">',\n",
       " '<img',\n",
       " 'width=\"220\"',\n",
       " 'height=\"155\"',\n",
       " 'alt=\"Foto\"',\n",
       " 'src=\"https://caelum-online-public.s3.amazonaws.com/1381-scraping/01/img-cars/alfa/alfa-1823056__340.jpg\">',\n",
       " '</div>',\n",
       " '<div',\n",
       " 'class=\"col-md-6',\n",
       " 'body-card\">',\n",
       " '<p',\n",
       " 'class=\"txt-name',\n",
       " 'inline\">ALFA</p>',\n",
       " '<p',\n",
       " 'class=\"txt-category',\n",
       " 'badge',\n",
       " 'badge-secondary',\n",
       " 'inline\">USADO</p>',\n",
       " '<p',\n",
       " 'class=\"txt-motor\">Motor',\n",
       " '1.8',\n",
       " '16v</p>',\n",
       " '<p',\n",
       " 'class=\"txt-description\">Ano',\n",
       " '2004',\n",
       " '-',\n",
       " '19.722',\n",
       " 'km</p>',\n",
       " '<ul',\n",
       " 'class=\"lst-items\">',\n",
       " '<li',\n",
       " 'class=\"txt-items\">►',\n",
       " 'Central',\n",
       " 'multimídia</li>',\n",
       " '<li',\n",
       " 'class=\"txt-items\">►',\n",
       " 'Bancos',\n",
       " 'de',\n",
       " 'couro</li>',\n",
       " '<li',\n",
       " 'class=\"txt-items\">►',\n",
       " 'Rodas',\n",
       " 'de',\n",
       " 'liga</li>',\n",
       " '<li',\n",
       " 'class=\"txt-items\">►',\n",
       " 'Câmera',\n",
       " 'de',\n",
       " 'estacionamento</li>',\n",
       " '<li',\n",
       " 'class=\"txt-items\">...</li>',\n",
       " '</ul>',\n",
       " '<p',\n",
       " 'class=\"txt-location\">Rio',\n",
       " 'de',\n",
       " 'Janeiro',\n",
       " '-',\n",
       " 'RJ</p>',\n",
       " '</div>',\n",
       " '<div',\n",
       " 'class=\"col-md-3',\n",
       " 'value-card\">',\n",
       " '<div',\n",
       " 'class=\"value\">',\n",
       " '<p',\n",
       " 'class=\"txt-value\">R$',\n",
       " '480.000</p>',\n",
       " '</div>',\n",
       " '</div>',\n",
       " '</div>',\n",
       " '<div',\n",
       " 'class=\"well',\n",
       " 'card\">',\n",
       " '<div',\n",
       " 'class=\"col-md-3',\n",
       " 'image-card\">',\n",
       " '<img',\n",
       " 'width=\"220\"',\n",
       " 'height=\"155\"',\n",
       " 'alt=\"Foto\"',\n",
       " 'src=\"https://caelum-online-public.s3.amazonaws.com/1381-scraping/01/img-cars/puech/puech-4055386__340.jpg\">',\n",
       " '</div>',\n",
       " '<div',\n",
       " 'class=\"col-md-6',\n",
       " 'body-card\">',\n",
       " '<p',\n",
       " 'class=\"txt-name',\n",
       " 'inline\">PUECH</p>',\n",
       " '<p',\n",
       " 'class=\"txt-category',\n",
       " 'badge',\n",
       " 'badge-secondary',\n",
       " 'inline\">USADO</p>',\n",
       " '<p',\n",
       " 'class=\"txt-motor\">Motor',\n",
       " 'Diesel',\n",
       " 'V8</p>',\n",
       " '<p',\n",
       " 'class=\"txt-description\">Ano',\n",
       " '1992',\n",
       " '-',\n",
       " '34.335',\n",
       " 'km</p>',\n",
       " '<ul',\n",
       " 'class=\"lst-items\">',\n",
       " '<li',\n",
       " 'class=\"txt-items\">►',\n",
       " 'Bancos',\n",
       " 'de',\n",
       " 'couro</li>',\n",
       " '<li',\n",
       " 'class=\"txt-items\">►',\n",
       " 'Freios',\n",
       " 'ABS</li>',\n",
       " '<li',\n",
       " 'class=\"txt-items\">►',\n",
       " 'Rodas',\n",
       " 'de',\n",
       " 'liga</li>',\n",
       " '<li',\n",
       " 'class=\"txt-items\">►',\n",
       " 'Câmbio',\n",
       " 'automático</li>',\n",
       " '<li',\n",
       " 'class=\"txt-items\">...</li>',\n",
       " '</ul>',\n",
       " '<p',\n",
       " 'class=\"txt-location\">São',\n",
       " 'Paulo',\n",
       " '-',\n",
       " 'SP</p>',\n",
       " '</div>',\n",
       " '<div',\n",
       " 'class=\"col-md-3',\n",
       " 'value-card\">',\n",
       " '<div',\n",
       " 'class=\"value\">',\n",
       " '<p',\n",
       " 'class=\"txt-value\">R$',\n",
       " '133.000</p>',\n",
       " '</div>',\n",
       " '</div>',\n",
       " '</div>',\n",
       " '<div',\n",
       " 'class=\"well',\n",
       " 'card\">',\n",
       " '<div',\n",
       " 'class=\"col-md-3',\n",
       " 'image-card\">',\n",
       " '<img',\n",
       " 'width=\"220\"',\n",
       " 'height=\"155\"',\n",
       " 'alt=\"Foto\"',\n",
       " 'src=\"https://caelum-online-public.s3.amazonaws.com/1381-scraping/01/img-cars/lamborghini-murcielago/lamborghini-murcielago-2872974__340.jpg\">',\n",
       " '</div>',\n",
       " '<div',\n",
       " 'class=\"col-md-6',\n",
       " 'body-card\">',\n",
       " '<p',\n",
       " 'class=\"txt-name',\n",
       " 'inline\">LAMBORGHINI',\n",
       " 'MURCIELAGO</p>',\n",
       " '<p',\n",
       " 'class=\"txt-category',\n",
       " 'badge',\n",
       " 'badge-secondary',\n",
       " 'inline\">USADO</p>',\n",
       " '<p',\n",
       " 'class=\"txt-motor\">Motor',\n",
       " '1.0',\n",
       " '8v</p>',\n",
       " '<p',\n",
       " 'class=\"txt-description\">Ano',\n",
       " '1991',\n",
       " '-',\n",
       " '464',\n",
       " 'km</p>',\n",
       " '<ul',\n",
       " 'class=\"lst-items\">',\n",
       " '<li',\n",
       " 'class=\"txt-items\">►',\n",
       " 'Central',\n",
       " 'multimídia</li>',\n",
       " '<li',\n",
       " 'class=\"txt-items\">►',\n",
       " 'Teto',\n",
       " 'panorâmico</li>',\n",
       " '<li',\n",
       " 'class=\"txt-items\">►',\n",
       " 'Sensor',\n",
       " 'crepuscular</li>',\n",
       " '<li',\n",
       " 'class=\"txt-items\">►',\n",
       " 'Piloto',\n",
       " 'automático</li>',\n",
       " '<li',\n",
       " 'class=\"txt-items\">...</li>',\n",
       " '</ul>',\n",
       " '<p',\n",
       " 'class=\"txt-location\">Belo',\n",
       " 'Horizonte',\n",
       " '-',\n",
       " 'MG</p>',\n",
       " '</div>',\n",
       " '<div',\n",
       " 'class=\"col-md-3',\n",
       " 'value-card\">',\n",
       " '<div',\n",
       " 'class=\"value\">',\n",
       " '<p',\n",
       " 'class=\"txt-value\">R$',\n",
       " '175.000</p>',\n",
       " '</div>',\n",
       " '</div>',\n",
       " '</div>',\n",
       " '<div',\n",
       " 'class=\"well',\n",
       " 'card\">',\n",
       " '<div',\n",
       " 'class=\"col-md-3',\n",
       " 'image-card\">',\n",
       " '<img',\n",
       " 'width=\"220\"',\n",
       " 'height=\"155\"',\n",
       " 'alt=\"Foto\"',\n",
       " 'src=\"https://caelum-online-public.s3.amazonaws.com/1381-scraping/01/img-cars/aston-martin/aston-martin-2977916__340.jpg\">',\n",
       " '</div>',\n",
       " '<div',\n",
       " 'class=\"col-md-6',\n",
       " 'body-card\">',\n",
       " '<p',\n",
       " 'class=\"txt-name',\n",
       " 'inline\">ASTON',\n",
       " 'MARTIN</p>',\n",
       " '<p',\n",
       " 'class=\"txt-category',\n",
       " 'badge',\n",
       " 'badge-secondary',\n",
       " 'inline\">USADO</p>',\n",
       " '<p',\n",
       " 'class=\"txt-opportunity',\n",
       " 'badge',\n",
       " 'badge-danger',\n",
       " 'inline\">OPORTUNIDADE</p>',\n",
       " '<p',\n",
       " 'class=\"txt-motor\">Motor',\n",
       " 'Diesel',\n",
       " 'V6</p>',\n",
       " '<p',\n",
       " 'class=\"txt-description\">Ano',\n",
       " '2004',\n",
       " '-',\n",
       " '50.189',\n",
       " 'km</p>',\n",
       " '<ul',\n",
       " 'class=\"lst-items\">',\n",
       " '<li',\n",
       " 'class=\"txt-items\">►',\n",
       " 'Painel',\n",
       " 'digital</li>',\n",
       " '<li',\n",
       " 'class=\"txt-items\">►',\n",
       " 'Controle',\n",
       " 'de',\n",
       " 'tração</li>',\n",
       " '<li',\n",
       " 'class=\"txt-items\">►',\n",
       " 'Teto',\n",
       " 'panorâmico</li>',\n",
       " '<li',\n",
       " 'class=\"txt-items\">►',\n",
       " 'Central',\n",
       " 'multimídia</li>',\n",
       " '<li',\n",
       " 'class=\"txt-items\">...</li>',\n",
       " '</ul>',\n",
       " '<p',\n",
       " 'class=\"txt-location\">Belo',\n",
       " 'Horizonte',\n",
       " '-',\n",
       " 'MG</p>',\n",
       " '</div>',\n",
       " '<div',\n",
       " 'class=\"col-md-3',\n",
       " 'value-card\">',\n",
       " '<div',\n",
       " 'class=\"value\">',\n",
       " '<p',\n",
       " 'class=\"txt-value\">R$',\n",
       " '239.000</p>',\n",
       " '</div>',\n",
       " '</div>',\n",
       " '</div>',\n",
       " '<div',\n",
       " 'class=\"well',\n",
       " 'card\">',\n",
       " '<div',\n",
       " 'class=\"col-md-3',\n",
       " 'image-card\">',\n",
       " '<img',\n",
       " 'width=\"220\"',\n",
       " 'height=\"155\"',\n",
       " 'alt=\"Foto\"',\n",
       " 'src=\"https://caelum-online-public.s3.amazonaws.com/1381-scraping/01/img-cars/tvr/tvr-2943925__340.jpg\">',\n",
       " '</div>',\n",
       " '<div',\n",
       " 'class=\"col-md-6',\n",
       " 'body-card\">',\n",
       " '<p',\n",
       " 'class=\"txt-name',\n",
       " 'inline\">TVR</p>',\n",
       " '<p',\n",
       " 'class=\"txt-category',\n",
       " 'badge',\n",
       " 'badge-secondary',\n",
       " 'inline\">USADO</p>',\n",
       " '<p',\n",
       " 'class=\"txt-motor\">Motor',\n",
       " '4.0',\n",
       " 'Turbo</p>',\n",
       " '<p',\n",
       " 'class=\"txt-description\">Ano',\n",
       " '2014',\n",
       " '-',\n",
       " '17.778',\n",
       " 'km</p>',\n",
       " '<ul',\n",
       " 'class=\"lst-items\">',\n",
       " '<li',\n",
       " 'class=\"txt-items\">►',\n",
       " '4',\n",
       " 'X',\n",
       " '4</li>',\n",
       " '<li',\n",
       " 'class=\"txt-items\">►',\n",
       " 'Teto',\n",
       " 'panorâmico</li>',\n",
       " '<li',\n",
       " 'class=\"txt-items\">►',\n",
       " 'Central',\n",
       " 'multimídia</li>',\n",
       " '<li',\n",
       " 'class=\"txt-items\">►',\n",
       " 'Controle',\n",
       " 'de',\n",
       " 'estabilidade</li>',\n",
       " '<li',\n",
       " 'class=\"txt-items\">...</li>',\n",
       " '</ul>',\n",
       " '<p',\n",
       " 'class=\"txt-location\">Belo',\n",
       " 'Horizonte',\n",
       " '-',\n",
       " 'MG</p>',\n",
       " '</div>',\n",
       " '<div',\n",
       " 'class=\"col-md-3',\n",
       " 'value-card\">',\n",
       " '<div',\n",
       " 'class=\"value\">',\n",
       " '<p',\n",
       " 'class=\"txt-value\">R$',\n",
       " '115.000</p>',\n",
       " '</div>',\n",
       " '</div>',\n",
       " '</div>',\n",
       " '<div',\n",
       " 'class=\"well',\n",
       " 'card\">',\n",
       " '<div',\n",
       " 'class=\"col-md-3',\n",
       " 'image-card\">',\n",
       " '<img',\n",
       " 'width=\"220\"',\n",
       " 'height=\"155\"',\n",
       " 'alt=\"Foto\"',\n",
       " 'src=\"https://caelum-online-public.s3.amazonaws.com/1381-scraping/01/img-cars/excalibur/excalibur-2916730__340.jpg\">',\n",
       " '</div>',\n",
       " '<div',\n",
       " 'class=\"col-md-6',\n",
       " 'body-card\">',\n",
       " '<p',\n",
       " 'class=\"txt-name',\n",
       " 'inline\">EXCALIBUR</p>',\n",
       " '<p',\n",
       " 'class=\"txt-category',\n",
       " 'badge',\n",
       " 'badge-secondary',\n",
       " 'inline\">USADO</p>',\n",
       " '<p',\n",
       " 'class=\"txt-motor\">Motor',\n",
       " '3.0',\n",
       " '32v</p>',\n",
       " '<p',\n",
       " 'class=\"txt-description\">Ano',\n",
       " '2009',\n",
       " '-',\n",
       " '81.251',\n",
       " 'km</p>',\n",
       " '<ul',\n",
       " 'class=\"lst-items\">',\n",
       " '<li',\n",
       " 'class=\"txt-items\">►',\n",
       " 'Painel',\n",
       " 'digital</li>',\n",
       " '<li',\n",
       " 'class=\"txt-items\">►',\n",
       " 'Câmbio',\n",
       " 'automático</li>',\n",
       " '<li',\n",
       " 'class=\"txt-items\">►',\n",
       " 'Sensor',\n",
       " 'de',\n",
       " 'chuva</li>',\n",
       " '<li',\n",
       " 'class=\"txt-items\">►',\n",
       " 'Travas',\n",
       " 'elétricas</li>',\n",
       " '<li',\n",
       " 'class=\"txt-items\">...</li>',\n",
       " '</ul>',\n",
       " '<p',\n",
       " 'class=\"txt-location\">Rio',\n",
       " 'de',\n",
       " 'Janeiro',\n",
       " '-',\n",
       " 'RJ</p>',\n",
       " '</div>',\n",
       " '<div',\n",
       " 'class=\"col-md-3',\n",
       " 'value-card\">',\n",
       " '<div',\n",
       " 'class=\"value\">',\n",
       " '<p',\n",
       " 'class=\"txt-value\">R$',\n",
       " '114.000</p>',\n",
       " '</div>',\n",
       " '</div>',\n",
       " '</div>',\n",
       " '<div',\n",
       " 'class=\"well',\n",
       " 'card\">',\n",
       " '<div',\n",
       " 'class=\"col-md-3',\n",
       " 'image-card\">',\n",
       " '<img',\n",
       " 'width=\"220\"',\n",
       " 'height=\"155\"',\n",
       " 'alt=\"Foto\"',\n",
       " 'src=\"https://caelum-online-public.s3.amazonaws.com/1381-scraping/01/img-cars/mclaren/mclaren-2855240__340.jpg\">',\n",
       " '</div>',\n",
       " '<div',\n",
       " 'class=\"col-md-6',\n",
       " 'body-card\">',\n",
       " '<p',\n",
       " 'class=\"txt-name',\n",
       " 'inline\">MCLAREN</p>',\n",
       " '<p',\n",
       " 'class=\"txt-category',\n",
       " 'badge',\n",
       " 'badge-secondary',\n",
       " 'inline\">NOVO</p>',\n",
       " '<p',\n",
       " 'class=\"txt-motor\">Motor',\n",
       " 'Diesel</p>',\n",
       " '<p',\n",
       " 'class=\"txt-description\">Ano',\n",
       " '2019',\n",
       " '-',\n",
       " '0',\n",
       " 'km</p>',\n",
       " '<ul',\n",
       " 'class=\"lst-items\">',\n",
       " '<li',\n",
       " 'class=\"txt-items\">►',\n",
       " 'Central',\n",
       " 'multimídia</li>',\n",
       " '<li',\n",
       " 'class=\"txt-items\">►',\n",
       " 'Câmera',\n",
       " 'de',\n",
       " 'estacionamento</li>',\n",
       " '<li',\n",
       " 'class=\"txt-items\">►',\n",
       " 'Câmbio',\n",
       " 'automático</li>',\n",
       " '<li',\n",
       " 'class=\"txt-items\">►',\n",
       " 'Ar',\n",
       " 'condicionado</li>',\n",
       " '<li',\n",
       " 'class=\"txt-items\">...</li>',\n",
       " '</ul>',\n",
       " '<p',\n",
       " 'class=\"txt-location\">São',\n",
       " 'Paulo',\n",
       " '-',\n",
       " 'SP</p>',\n",
       " '</div>',\n",
       " '<div',\n",
       " 'class=\"col-md-3',\n",
       " 'value-card\">',\n",
       " '<div',\n",
       " 'class=\"value\">',\n",
       " '<p',\n",
       " 'class=\"txt-value\">R$',\n",
       " '75.000</p>',\n",
       " '</div>',\n",
       " '</div>',\n",
       " '</div>',\n",
       " '<div',\n",
       " 'class=\"well',\n",
       " 'card\">',\n",
       " '<div',\n",
       " 'class=\"col-md-3',\n",
       " 'image-card\">',\n",
       " '<img',\n",
       " 'width=\"220\"',\n",
       " 'height=\"155\"',\n",
       " 'alt=\"Foto\"',\n",
       " 'src=\"https://caelum-online-public.s3.amazonaws.com/1381-scraping/01/img-cars/toyota/toyota-3245397__340.jpg\">',\n",
       " '</div>',\n",
       " '<div',\n",
       " 'class=\"col-md-6',\n",
       " 'body-card\">',\n",
       " '<p',\n",
       " 'class=\"txt-name',\n",
       " 'inline\">TOYOTA</p>',\n",
       " '<p',\n",
       " 'class=\"txt-category',\n",
       " 'badge',\n",
       " 'badge-secondary',\n",
       " 'inline\">USADO</p>',\n",
       " '<p',\n",
       " 'class=\"txt-opportunity',\n",
       " 'badge',\n",
       " 'badge-danger',\n",
       " 'inline\">OPORTUNIDADE</p>',\n",
       " '<p',\n",
       " 'class=\"txt-motor\">Motor',\n",
       " '4.0',\n",
       " 'Turbo</p>',\n",
       " '<p',\n",
       " 'class=\"txt-description\">Ano',\n",
       " '1999',\n",
       " '-',\n",
       " '12.536',\n",
       " 'km</p>',\n",
       " '<ul',\n",
       " 'class=\"lst-items\">',\n",
       " '<li',\n",
       " 'class=\"txt-items\">►',\n",
       " 'Bancos',\n",
       " 'de',\n",
       " 'couro</li>',\n",
       " '<li',\n",
       " 'class=\"txt-items\">►',\n",
       " 'Freios',\n",
       " 'ABS</li>',\n",
       " '<li',\n",
       " 'class=\"txt-items\">►',\n",
       " 'Piloto',\n",
       " 'automático</li>',\n",
       " '<li',\n",
       " 'class=\"txt-items\">►',\n",
       " 'Controle',\n",
       " 'de',\n",
       " 'estabilidade</li>',\n",
       " '<li',\n",
       " 'class=\"txt-items\">...</li>',\n",
       " '</ul>',\n",
       " '<p',\n",
       " 'class=\"txt-location\">São',\n",
       " 'Paulo',\n",
       " '-',\n",
       " 'SP</p>',\n",
       " '</div>',\n",
       " '<div',\n",
       " 'class=\"col-md-3',\n",
       " 'value-card\">',\n",
       " '<div',\n",
       " 'class=\"value\">',\n",
       " '<p',\n",
       " 'class=\"txt-value\">R$',\n",
       " '117.000</p>',\n",
       " '</div>',\n",
       " '</div>',\n",
       " '</div>',\n",
       " '</div>',\n",
       " '<div',\n",
       " 'class=\"type-select\">246',\n",
       " 'veículos',\n",
       " 'encontrados</div>',\n",
       " '<div',\n",
       " 'class=\"container-pagination\"',\n",
       " 'style=\"float:',\n",
       " 'right\">',\n",
       " '<span',\n",
       " 'class=\"info-pages\">Página',\n",
       " '1',\n",
       " 'de',\n",
       " '25</span>',\n",
       " '</div>',\n",
       " '</div>',\n",
       " '</div>',\n",
       " '</div>',\n",
       " '</div>',\n",
       " '</div>',\n",
       " '<footer>',\n",
       " '<nav',\n",
       " 'class=\"navbar',\n",
       " 'navbar-inverse\">',\n",
       " ...]"
      ]
     },
     "execution_count": 10,
     "metadata": {},
     "output_type": "execute_result"
    }
   ],
   "source": [
    "html.split()\n"
   ]
  },
  {
   "cell_type": "code",
   "execution_count": 11,
   "metadata": {
    "scrolled": true
   },
   "outputs": [
    {
     "data": {
      "text/plain": [
       "'<!DOCTYPE html> <html lang=\"pt-br\"> <head> <meta charset=\"utf-8\"> <meta name=\"viewport\" content=\"width=device-width, initial-scale=1, shrink-to-fit=no\"> <title>Alura Motors</title> <style> /*Regra para a animacao*/ @keyframes spin { 0% { transform: rotate(0deg); } 100% { transform: rotate(360deg); } } /*Mudando o tamanho do icone de resposta*/ div.glyphicon { color:#6B8E23; font-size: 38px; } /*Classe que mostra a animacao \\'spin\\'*/ .loader { border: 16px solid #f3f3f3; border-radius: 50%; border-top: 16px solid #3498db; width: 80px; height: 80px; -webkit-animation: spin 2s linear infinite; animation: spin 2s linear infinite; } </style> <link rel=\"stylesheet\" href=\"https://maxcdn.bootstrapcdn.com/bootstrap/3.3.7/css/bootstrap.min.css\" integrity=\"sha384-BVYiiSIFeK1dGmJRAkycuHAHRg32OmUcww7on3RYdg4Va+PmSTsz/K68vbdEjh4u\" crossorigin=\"anonymous\"> <link rel=\"stylesheet\" href=\"css/styles.css\" media=\"all\"> <script src=\"https://code.jquery.com/jquery-1.12.4.js\"></script> <script src=\"https://maxcdn.bootstrapcdn.com/bootstrap/3.3.7/js/bootstrap.min.js\" integrity=\"sha384-Tc5IQib027qvyjSMfHjOMaLkfuWVxZxUPnCJA7l2mCWNIpG9mGCD8wGNIcPD7Txa\" crossorigin=\"anonymous\"></script> <script type=\"text/javascript\" src=\"js/index.js\"></script> <script> requisitar(\"https://alura-scraping.herokuapp.com/produtos?_page=\"+1+\"&_limit=10\") </script> </head> <body cz-shortcut-listen=\"true\"> <noscript>You need to enable JavaScript to run this app.</noscript> <div class=\"modal fade\" data-backdrop=\"static\" id=\"loadingModal\" tabindex=\"-1\" role=\"dialog\" aria-labelledby=\"loadingModal_label\"> <div class=\"modal-dialog\" role=\"document\"> <div class=\"modal-content\"> <div class=\"modal-header\"> <h5 class=\"modal-title\" id=\"loadingModal_label\"> <span class=\"glyphicon glyphicon-refresh\"></span>Aguarde... </h5> </div> <div class=\"modal-body\"> <div class=\\'alert\\' role=\\'alert\\'> <center> <div class=\"loader\" id=\"loader\"></div><br> <h4><b id=\"loadingModal_content\"></b></h4> </center> </div> </div> </div> </div> </div> <div id=\"root\"> <header> <nav class=\"navbar navbar-inverse\" style=\"margin-bottom: 0;\"> <div class=\"container\" style=\"margin-bottom: -20px;\"> <div class=\"navbar\"> <a href=\"./index.php\" class=\"navbar-brand\" title=\"Alura Motors\"> <img src=\"img/alura-logo.svg\" class=\"d-inline-block align-top\" alt=\"Alura\">Motors </a> <ul class=\"nav navbar-nav\" style=\"margin-top: 35px;\"> <li><a href=\"./hello-world.php\">Hello World</a></li> <li><a href=\"./index.php\">Anúncios</a></li> </ul> </div> </div> </nav> </header> <div class=\"container\"> <h1 class=\"sub-header\">Veículos de Luxo Novos e Usados - Todas as Marcas</h1> <div class=\"row\"> <div class=\"col-md-12\"> <div class=\"container\" style=\"width: 100%\"> <div class=\"type-select\">246 veículos encontrados</div> <div class=\"container-pagination\" style=\"float: right\"> <span class=\"info-pages\">Página 1 de 25</span> </div> </div> <div id=\"container-cards\" style=\"height: 100%\"> <div class=\"well card\"> <div class=\"col-md-3 image-card\"> <img width=\"220\" height=\"155\" alt=\"Foto\" src=\"https://caelum-online-public.s3.amazonaws.com/1381-scraping/01/img-cars/lamborghini-aventador/lamborghini-aventador-2932196__340.jpg\"> </div> <div class=\"col-md-6 body-card\"> <p class=\"txt-name inline\">LAMBORGHINI AVENTADOR</p> <p class=\"txt-category badge badge-secondary inline\">USADO</p> <p class=\"txt-motor\">Motor 1.8 16v</p> <p class=\"txt-description\">Ano 1993 - 55.286 km</p> <ul class=\"lst-items\"> <li class=\"txt-items\">► 4 X 4</li> <li class=\"txt-items\">► Câmera de estacionamento</li> <li class=\"txt-items\">► Controle de tração</li> <li class=\"txt-items\">► Sensor de estacionamento</li> <li class=\"txt-items\">...</li> </ul> <p class=\"txt-location\">Belo Horizonte - MG</p> </div> <div class=\"col-md-3 value-card\"> <div class=\"value\"> <p class=\"txt-value\">R$ 338.000</p> </div> </div> </div> <div class=\"well card\"> <div class=\"col-md-3 image-card\"> <img width=\"220\" height=\"155\" alt=\"Foto\" src=\"https://caelum-online-public.s3.amazonaws.com/1381-scraping/01/img-cars/bmw-m2/bmw-m2-2970882__340.jpg\"> </div> <div class=\"col-md-6 body-card\"> <p class=\"txt-name inline\">BMW M2</p> <p class=\"txt-category badge badge-secondary inline\">USADO</p> <p class=\"txt-motor\">Motor 3.0 32v</p> <p class=\"txt-description\">Ano 2018 - 83.447 km</p> <ul class=\"lst-items\"> <li class=\"txt-items\">► Câmera de estacionamento</li> <li class=\"txt-items\">► Controle de estabilidade</li> <li class=\"txt-items\">► Travas elétricas</li> <li class=\"txt-items\">► Freios ABS</li> <li class=\"txt-items\">...</li> </ul> <p class=\"txt-location\">Belo Horizonte - MG</p> </div> <div class=\"col-md-3 value-card\"> <div class=\"value\"> <p class=\"txt-value\">R$ 346.000</p> </div> </div> </div> <div class=\"well card\"> <div class=\"col-md-3 image-card\"> <img width=\"220\" height=\"155\" alt=\"Foto\" src=\"https://caelum-online-public.s3.amazonaws.com/1381-scraping/01/img-cars/alfa/alfa-1823056__340.jpg\"> </div> <div class=\"col-md-6 body-card\"> <p class=\"txt-name inline\">ALFA</p> <p class=\"txt-category badge badge-secondary inline\">USADO</p> <p class=\"txt-motor\">Motor 1.8 16v</p> <p class=\"txt-description\">Ano 2004 - 19.722 km</p> <ul class=\"lst-items\"> <li class=\"txt-items\">► Central multimídia</li> <li class=\"txt-items\">► Bancos de couro</li> <li class=\"txt-items\">► Rodas de liga</li> <li class=\"txt-items\">► Câmera de estacionamento</li> <li class=\"txt-items\">...</li> </ul> <p class=\"txt-location\">Rio de Janeiro - RJ</p> </div> <div class=\"col-md-3 value-card\"> <div class=\"value\"> <p class=\"txt-value\">R$ 480.000</p> </div> </div> </div> <div class=\"well card\"> <div class=\"col-md-3 image-card\"> <img width=\"220\" height=\"155\" alt=\"Foto\" src=\"https://caelum-online-public.s3.amazonaws.com/1381-scraping/01/img-cars/puech/puech-4055386__340.jpg\"> </div> <div class=\"col-md-6 body-card\"> <p class=\"txt-name inline\">PUECH</p> <p class=\"txt-category badge badge-secondary inline\">USADO</p> <p class=\"txt-motor\">Motor Diesel V8</p> <p class=\"txt-description\">Ano 1992 - 34.335 km</p> <ul class=\"lst-items\"> <li class=\"txt-items\">► Bancos de couro</li> <li class=\"txt-items\">► Freios ABS</li> <li class=\"txt-items\">► Rodas de liga</li> <li class=\"txt-items\">► Câmbio automático</li> <li class=\"txt-items\">...</li> </ul> <p class=\"txt-location\">São Paulo - SP</p> </div> <div class=\"col-md-3 value-card\"> <div class=\"value\"> <p class=\"txt-value\">R$ 133.000</p> </div> </div> </div> <div class=\"well card\"> <div class=\"col-md-3 image-card\"> <img width=\"220\" height=\"155\" alt=\"Foto\" src=\"https://caelum-online-public.s3.amazonaws.com/1381-scraping/01/img-cars/lamborghini-murcielago/lamborghini-murcielago-2872974__340.jpg\"> </div> <div class=\"col-md-6 body-card\"> <p class=\"txt-name inline\">LAMBORGHINI MURCIELAGO</p> <p class=\"txt-category badge badge-secondary inline\">USADO</p> <p class=\"txt-motor\">Motor 1.0 8v</p> <p class=\"txt-description\">Ano 1991 - 464 km</p> <ul class=\"lst-items\"> <li class=\"txt-items\">► Central multimídia</li> <li class=\"txt-items\">► Teto panorâmico</li> <li class=\"txt-items\">► Sensor crepuscular</li> <li class=\"txt-items\">► Piloto automático</li> <li class=\"txt-items\">...</li> </ul> <p class=\"txt-location\">Belo Horizonte - MG</p> </div> <div class=\"col-md-3 value-card\"> <div class=\"value\"> <p class=\"txt-value\">R$ 175.000</p> </div> </div> </div> <div class=\"well card\"> <div class=\"col-md-3 image-card\"> <img width=\"220\" height=\"155\" alt=\"Foto\" src=\"https://caelum-online-public.s3.amazonaws.com/1381-scraping/01/img-cars/aston-martin/aston-martin-2977916__340.jpg\"> </div> <div class=\"col-md-6 body-card\"> <p class=\"txt-name inline\">ASTON MARTIN</p> <p class=\"txt-category badge badge-secondary inline\">USADO</p> <p class=\"txt-opportunity badge badge-danger inline\">OPORTUNIDADE</p> <p class=\"txt-motor\">Motor Diesel V6</p> <p class=\"txt-description\">Ano 2004 - 50.189 km</p> <ul class=\"lst-items\"> <li class=\"txt-items\">► Painel digital</li> <li class=\"txt-items\">► Controle de tração</li> <li class=\"txt-items\">► Teto panorâmico</li> <li class=\"txt-items\">► Central multimídia</li> <li class=\"txt-items\">...</li> </ul> <p class=\"txt-location\">Belo Horizonte - MG</p> </div> <div class=\"col-md-3 value-card\"> <div class=\"value\"> <p class=\"txt-value\">R$ 239.000</p> </div> </div> </div> <div class=\"well card\"> <div class=\"col-md-3 image-card\"> <img width=\"220\" height=\"155\" alt=\"Foto\" src=\"https://caelum-online-public.s3.amazonaws.com/1381-scraping/01/img-cars/tvr/tvr-2943925__340.jpg\"> </div> <div class=\"col-md-6 body-card\"> <p class=\"txt-name inline\">TVR</p> <p class=\"txt-category badge badge-secondary inline\">USADO</p> <p class=\"txt-motor\">Motor 4.0 Turbo</p> <p class=\"txt-description\">Ano 2014 - 17.778 km</p> <ul class=\"lst-items\"> <li class=\"txt-items\">► 4 X 4</li> <li class=\"txt-items\">► Teto panorâmico</li> <li class=\"txt-items\">► Central multimídia</li> <li class=\"txt-items\">► Controle de estabilidade</li> <li class=\"txt-items\">...</li> </ul> <p class=\"txt-location\">Belo Horizonte - MG</p> </div> <div class=\"col-md-3 value-card\"> <div class=\"value\"> <p class=\"txt-value\">R$ 115.000</p> </div> </div> </div> <div class=\"well card\"> <div class=\"col-md-3 image-card\"> <img width=\"220\" height=\"155\" alt=\"Foto\" src=\"https://caelum-online-public.s3.amazonaws.com/1381-scraping/01/img-cars/excalibur/excalibur-2916730__340.jpg\"> </div> <div class=\"col-md-6 body-card\"> <p class=\"txt-name inline\">EXCALIBUR</p> <p class=\"txt-category badge badge-secondary inline\">USADO</p> <p class=\"txt-motor\">Motor 3.0 32v</p> <p class=\"txt-description\">Ano 2009 - 81.251 km</p> <ul class=\"lst-items\"> <li class=\"txt-items\">► Painel digital</li> <li class=\"txt-items\">► Câmbio automático</li> <li class=\"txt-items\">► Sensor de chuva</li> <li class=\"txt-items\">► Travas elétricas</li> <li class=\"txt-items\">...</li> </ul> <p class=\"txt-location\">Rio de Janeiro - RJ</p> </div> <div class=\"col-md-3 value-card\"> <div class=\"value\"> <p class=\"txt-value\">R$ 114.000</p> </div> </div> </div> <div class=\"well card\"> <div class=\"col-md-3 image-card\"> <img width=\"220\" height=\"155\" alt=\"Foto\" src=\"https://caelum-online-public.s3.amazonaws.com/1381-scraping/01/img-cars/mclaren/mclaren-2855240__340.jpg\"> </div> <div class=\"col-md-6 body-card\"> <p class=\"txt-name inline\">MCLAREN</p> <p class=\"txt-category badge badge-secondary inline\">NOVO</p> <p class=\"txt-motor\">Motor Diesel</p> <p class=\"txt-description\">Ano 2019 - 0 km</p> <ul class=\"lst-items\"> <li class=\"txt-items\">► Central multimídia</li> <li class=\"txt-items\">► Câmera de estacionamento</li> <li class=\"txt-items\">► Câmbio automático</li> <li class=\"txt-items\">► Ar condicionado</li> <li class=\"txt-items\">...</li> </ul> <p class=\"txt-location\">São Paulo - SP</p> </div> <div class=\"col-md-3 value-card\"> <div class=\"value\"> <p class=\"txt-value\">R$ 75.000</p> </div> </div> </div> <div class=\"well card\"> <div class=\"col-md-3 image-card\"> <img width=\"220\" height=\"155\" alt=\"Foto\" src=\"https://caelum-online-public.s3.amazonaws.com/1381-scraping/01/img-cars/toyota/toyota-3245397__340.jpg\"> </div> <div class=\"col-md-6 body-card\"> <p class=\"txt-name inline\">TOYOTA</p> <p class=\"txt-category badge badge-secondary inline\">USADO</p> <p class=\"txt-opportunity badge badge-danger inline\">OPORTUNIDADE</p> <p class=\"txt-motor\">Motor 4.0 Turbo</p> <p class=\"txt-description\">Ano 1999 - 12.536 km</p> <ul class=\"lst-items\"> <li class=\"txt-items\">► Bancos de couro</li> <li class=\"txt-items\">► Freios ABS</li> <li class=\"txt-items\">► Piloto automático</li> <li class=\"txt-items\">► Controle de estabilidade</li> <li class=\"txt-items\">...</li> </ul> <p class=\"txt-location\">São Paulo - SP</p> </div> <div class=\"col-md-3 value-card\"> <div class=\"value\"> <p class=\"txt-value\">R$ 117.000</p> </div> </div> </div> </div> <div class=\"type-select\">246 veículos encontrados</div> <div class=\"container-pagination\" style=\"float: right\"> <span class=\"info-pages\">Página 1 de 25</span> </div> </div> </div> </div> </div> </div> <footer> <nav class=\"navbar navbar-inverse\"> <div class=\"container\" style=\"margin-bottom: 10px;\"> <div class=\"navbar\"> <a href=\"./index.php\" class=\"navbar-brand\" title=\"Alura Motors\"> <img src=\"img/alura-logo.svg\" class=\"d-inline-block align-top\" alt=\"Alura\">Motors </a> <p style=\"color: #fff; text-align: center; margin-top: 40px;\">Aplicação para treinamento de web scraping</p> </div> </div> </nav> </footer> </div> </body> </html>'"
      ]
     },
     "execution_count": 11,
     "metadata": {},
     "output_type": "execute_result"
    }
   ],
   "source": [
    "\" \".join(html.split())"
   ]
  },
  {
   "cell_type": "markdown",
   "metadata": {},
   "source": [
    "### Eliminando os espaços em branco entre as TAGS"
   ]
  },
  {
   "cell_type": "code",
   "execution_count": 12,
   "metadata": {
    "scrolled": true
   },
   "outputs": [
    {
     "data": {
      "text/plain": [
       "'<!DOCTYPE html><html lang=\"pt-br\"><head><meta charset=\"utf-8\"><meta name=\"viewport\" content=\"width=device-width, initial-scale=1, shrink-to-fit=no\"><title>Alura Motors</title><style> /*Regra para a animacao*/ @keyframes spin { 0% { transform: rotate(0deg); } 100% { transform: rotate(360deg); } } /*Mudando o tamanho do icone de resposta*/ div.glyphicon { color:#6B8E23; font-size: 38px; } /*Classe que mostra a animacao \\'spin\\'*/ .loader { border: 16px solid #f3f3f3; border-radius: 50%; border-top: 16px solid #3498db; width: 80px; height: 80px; -webkit-animation: spin 2s linear infinite; animation: spin 2s linear infinite; } </style><link rel=\"stylesheet\" href=\"https://maxcdn.bootstrapcdn.com/bootstrap/3.3.7/css/bootstrap.min.css\" integrity=\"sha384-BVYiiSIFeK1dGmJRAkycuHAHRg32OmUcww7on3RYdg4Va+PmSTsz/K68vbdEjh4u\" crossorigin=\"anonymous\"><link rel=\"stylesheet\" href=\"css/styles.css\" media=\"all\"><script src=\"https://code.jquery.com/jquery-1.12.4.js\"></script><script src=\"https://maxcdn.bootstrapcdn.com/bootstrap/3.3.7/js/bootstrap.min.js\" integrity=\"sha384-Tc5IQib027qvyjSMfHjOMaLkfuWVxZxUPnCJA7l2mCWNIpG9mGCD8wGNIcPD7Txa\" crossorigin=\"anonymous\"></script><script type=\"text/javascript\" src=\"js/index.js\"></script><script> requisitar(\"https://alura-scraping.herokuapp.com/produtos?_page=\"+1+\"&_limit=10\") </script></head><body cz-shortcut-listen=\"true\"><noscript>You need to enable JavaScript to run this app.</noscript><div class=\"modal fade\" data-backdrop=\"static\" id=\"loadingModal\" tabindex=\"-1\" role=\"dialog\" aria-labelledby=\"loadingModal_label\"><div class=\"modal-dialog\" role=\"document\"><div class=\"modal-content\"><div class=\"modal-header\"><h5 class=\"modal-title\" id=\"loadingModal_label\"><span class=\"glyphicon glyphicon-refresh\"></span>Aguarde... </h5></div><div class=\"modal-body\"><div class=\\'alert\\' role=\\'alert\\'><center><div class=\"loader\" id=\"loader\"></div><br><h4><b id=\"loadingModal_content\"></b></h4></center></div></div></div></div></div><div id=\"root\"><header><nav class=\"navbar navbar-inverse\" style=\"margin-bottom: 0;\"><div class=\"container\" style=\"margin-bottom: -20px;\"><div class=\"navbar\"><a href=\"./index.php\" class=\"navbar-brand\" title=\"Alura Motors\"><img src=\"img/alura-logo.svg\" class=\"d-inline-block align-top\" alt=\"Alura\">Motors </a><ul class=\"nav navbar-nav\" style=\"margin-top: 35px;\"><li><a href=\"./hello-world.php\">Hello World</a></li><li><a href=\"./index.php\">Anúncios</a></li></ul></div></div></nav></header><div class=\"container\"><h1 class=\"sub-header\">Veículos de Luxo Novos e Usados - Todas as Marcas</h1><div class=\"row\"><div class=\"col-md-12\"><div class=\"container\" style=\"width: 100%\"><div class=\"type-select\">246 veículos encontrados</div><div class=\"container-pagination\" style=\"float: right\"><span class=\"info-pages\">Página 1 de 25</span></div></div><div id=\"container-cards\" style=\"height: 100%\"><div class=\"well card\"><div class=\"col-md-3 image-card\"><img width=\"220\" height=\"155\" alt=\"Foto\" src=\"https://caelum-online-public.s3.amazonaws.com/1381-scraping/01/img-cars/lamborghini-aventador/lamborghini-aventador-2932196__340.jpg\"></div><div class=\"col-md-6 body-card\"><p class=\"txt-name inline\">LAMBORGHINI AVENTADOR</p><p class=\"txt-category badge badge-secondary inline\">USADO</p><p class=\"txt-motor\">Motor 1.8 16v</p><p class=\"txt-description\">Ano 1993 - 55.286 km</p><ul class=\"lst-items\"><li class=\"txt-items\">► 4 X 4</li><li class=\"txt-items\">► Câmera de estacionamento</li><li class=\"txt-items\">► Controle de tração</li><li class=\"txt-items\">► Sensor de estacionamento</li><li class=\"txt-items\">...</li></ul><p class=\"txt-location\">Belo Horizonte - MG</p></div><div class=\"col-md-3 value-card\"><div class=\"value\"><p class=\"txt-value\">R$ 338.000</p></div></div></div><div class=\"well card\"><div class=\"col-md-3 image-card\"><img width=\"220\" height=\"155\" alt=\"Foto\" src=\"https://caelum-online-public.s3.amazonaws.com/1381-scraping/01/img-cars/bmw-m2/bmw-m2-2970882__340.jpg\"></div><div class=\"col-md-6 body-card\"><p class=\"txt-name inline\">BMW M2</p><p class=\"txt-category badge badge-secondary inline\">USADO</p><p class=\"txt-motor\">Motor 3.0 32v</p><p class=\"txt-description\">Ano 2018 - 83.447 km</p><ul class=\"lst-items\"><li class=\"txt-items\">► Câmera de estacionamento</li><li class=\"txt-items\">► Controle de estabilidade</li><li class=\"txt-items\">► Travas elétricas</li><li class=\"txt-items\">► Freios ABS</li><li class=\"txt-items\">...</li></ul><p class=\"txt-location\">Belo Horizonte - MG</p></div><div class=\"col-md-3 value-card\"><div class=\"value\"><p class=\"txt-value\">R$ 346.000</p></div></div></div><div class=\"well card\"><div class=\"col-md-3 image-card\"><img width=\"220\" height=\"155\" alt=\"Foto\" src=\"https://caelum-online-public.s3.amazonaws.com/1381-scraping/01/img-cars/alfa/alfa-1823056__340.jpg\"></div><div class=\"col-md-6 body-card\"><p class=\"txt-name inline\">ALFA</p><p class=\"txt-category badge badge-secondary inline\">USADO</p><p class=\"txt-motor\">Motor 1.8 16v</p><p class=\"txt-description\">Ano 2004 - 19.722 km</p><ul class=\"lst-items\"><li class=\"txt-items\">► Central multimídia</li><li class=\"txt-items\">► Bancos de couro</li><li class=\"txt-items\">► Rodas de liga</li><li class=\"txt-items\">► Câmera de estacionamento</li><li class=\"txt-items\">...</li></ul><p class=\"txt-location\">Rio de Janeiro - RJ</p></div><div class=\"col-md-3 value-card\"><div class=\"value\"><p class=\"txt-value\">R$ 480.000</p></div></div></div><div class=\"well card\"><div class=\"col-md-3 image-card\"><img width=\"220\" height=\"155\" alt=\"Foto\" src=\"https://caelum-online-public.s3.amazonaws.com/1381-scraping/01/img-cars/puech/puech-4055386__340.jpg\"></div><div class=\"col-md-6 body-card\"><p class=\"txt-name inline\">PUECH</p><p class=\"txt-category badge badge-secondary inline\">USADO</p><p class=\"txt-motor\">Motor Diesel V8</p><p class=\"txt-description\">Ano 1992 - 34.335 km</p><ul class=\"lst-items\"><li class=\"txt-items\">► Bancos de couro</li><li class=\"txt-items\">► Freios ABS</li><li class=\"txt-items\">► Rodas de liga</li><li class=\"txt-items\">► Câmbio automático</li><li class=\"txt-items\">...</li></ul><p class=\"txt-location\">São Paulo - SP</p></div><div class=\"col-md-3 value-card\"><div class=\"value\"><p class=\"txt-value\">R$ 133.000</p></div></div></div><div class=\"well card\"><div class=\"col-md-3 image-card\"><img width=\"220\" height=\"155\" alt=\"Foto\" src=\"https://caelum-online-public.s3.amazonaws.com/1381-scraping/01/img-cars/lamborghini-murcielago/lamborghini-murcielago-2872974__340.jpg\"></div><div class=\"col-md-6 body-card\"><p class=\"txt-name inline\">LAMBORGHINI MURCIELAGO</p><p class=\"txt-category badge badge-secondary inline\">USADO</p><p class=\"txt-motor\">Motor 1.0 8v</p><p class=\"txt-description\">Ano 1991 - 464 km</p><ul class=\"lst-items\"><li class=\"txt-items\">► Central multimídia</li><li class=\"txt-items\">► Teto panorâmico</li><li class=\"txt-items\">► Sensor crepuscular</li><li class=\"txt-items\">► Piloto automático</li><li class=\"txt-items\">...</li></ul><p class=\"txt-location\">Belo Horizonte - MG</p></div><div class=\"col-md-3 value-card\"><div class=\"value\"><p class=\"txt-value\">R$ 175.000</p></div></div></div><div class=\"well card\"><div class=\"col-md-3 image-card\"><img width=\"220\" height=\"155\" alt=\"Foto\" src=\"https://caelum-online-public.s3.amazonaws.com/1381-scraping/01/img-cars/aston-martin/aston-martin-2977916__340.jpg\"></div><div class=\"col-md-6 body-card\"><p class=\"txt-name inline\">ASTON MARTIN</p><p class=\"txt-category badge badge-secondary inline\">USADO</p><p class=\"txt-opportunity badge badge-danger inline\">OPORTUNIDADE</p><p class=\"txt-motor\">Motor Diesel V6</p><p class=\"txt-description\">Ano 2004 - 50.189 km</p><ul class=\"lst-items\"><li class=\"txt-items\">► Painel digital</li><li class=\"txt-items\">► Controle de tração</li><li class=\"txt-items\">► Teto panorâmico</li><li class=\"txt-items\">► Central multimídia</li><li class=\"txt-items\">...</li></ul><p class=\"txt-location\">Belo Horizonte - MG</p></div><div class=\"col-md-3 value-card\"><div class=\"value\"><p class=\"txt-value\">R$ 239.000</p></div></div></div><div class=\"well card\"><div class=\"col-md-3 image-card\"><img width=\"220\" height=\"155\" alt=\"Foto\" src=\"https://caelum-online-public.s3.amazonaws.com/1381-scraping/01/img-cars/tvr/tvr-2943925__340.jpg\"></div><div class=\"col-md-6 body-card\"><p class=\"txt-name inline\">TVR</p><p class=\"txt-category badge badge-secondary inline\">USADO</p><p class=\"txt-motor\">Motor 4.0 Turbo</p><p class=\"txt-description\">Ano 2014 - 17.778 km</p><ul class=\"lst-items\"><li class=\"txt-items\">► 4 X 4</li><li class=\"txt-items\">► Teto panorâmico</li><li class=\"txt-items\">► Central multimídia</li><li class=\"txt-items\">► Controle de estabilidade</li><li class=\"txt-items\">...</li></ul><p class=\"txt-location\">Belo Horizonte - MG</p></div><div class=\"col-md-3 value-card\"><div class=\"value\"><p class=\"txt-value\">R$ 115.000</p></div></div></div><div class=\"well card\"><div class=\"col-md-3 image-card\"><img width=\"220\" height=\"155\" alt=\"Foto\" src=\"https://caelum-online-public.s3.amazonaws.com/1381-scraping/01/img-cars/excalibur/excalibur-2916730__340.jpg\"></div><div class=\"col-md-6 body-card\"><p class=\"txt-name inline\">EXCALIBUR</p><p class=\"txt-category badge badge-secondary inline\">USADO</p><p class=\"txt-motor\">Motor 3.0 32v</p><p class=\"txt-description\">Ano 2009 - 81.251 km</p><ul class=\"lst-items\"><li class=\"txt-items\">► Painel digital</li><li class=\"txt-items\">► Câmbio automático</li><li class=\"txt-items\">► Sensor de chuva</li><li class=\"txt-items\">► Travas elétricas</li><li class=\"txt-items\">...</li></ul><p class=\"txt-location\">Rio de Janeiro - RJ</p></div><div class=\"col-md-3 value-card\"><div class=\"value\"><p class=\"txt-value\">R$ 114.000</p></div></div></div><div class=\"well card\"><div class=\"col-md-3 image-card\"><img width=\"220\" height=\"155\" alt=\"Foto\" src=\"https://caelum-online-public.s3.amazonaws.com/1381-scraping/01/img-cars/mclaren/mclaren-2855240__340.jpg\"></div><div class=\"col-md-6 body-card\"><p class=\"txt-name inline\">MCLAREN</p><p class=\"txt-category badge badge-secondary inline\">NOVO</p><p class=\"txt-motor\">Motor Diesel</p><p class=\"txt-description\">Ano 2019 - 0 km</p><ul class=\"lst-items\"><li class=\"txt-items\">► Central multimídia</li><li class=\"txt-items\">► Câmera de estacionamento</li><li class=\"txt-items\">► Câmbio automático</li><li class=\"txt-items\">► Ar condicionado</li><li class=\"txt-items\">...</li></ul><p class=\"txt-location\">São Paulo - SP</p></div><div class=\"col-md-3 value-card\"><div class=\"value\"><p class=\"txt-value\">R$ 75.000</p></div></div></div><div class=\"well card\"><div class=\"col-md-3 image-card\"><img width=\"220\" height=\"155\" alt=\"Foto\" src=\"https://caelum-online-public.s3.amazonaws.com/1381-scraping/01/img-cars/toyota/toyota-3245397__340.jpg\"></div><div class=\"col-md-6 body-card\"><p class=\"txt-name inline\">TOYOTA</p><p class=\"txt-category badge badge-secondary inline\">USADO</p><p class=\"txt-opportunity badge badge-danger inline\">OPORTUNIDADE</p><p class=\"txt-motor\">Motor 4.0 Turbo</p><p class=\"txt-description\">Ano 1999 - 12.536 km</p><ul class=\"lst-items\"><li class=\"txt-items\">► Bancos de couro</li><li class=\"txt-items\">► Freios ABS</li><li class=\"txt-items\">► Piloto automático</li><li class=\"txt-items\">► Controle de estabilidade</li><li class=\"txt-items\">...</li></ul><p class=\"txt-location\">São Paulo - SP</p></div><div class=\"col-md-3 value-card\"><div class=\"value\"><p class=\"txt-value\">R$ 117.000</p></div></div></div></div><div class=\"type-select\">246 veículos encontrados</div><div class=\"container-pagination\" style=\"float: right\"><span class=\"info-pages\">Página 1 de 25</span></div></div></div></div></div></div><footer><nav class=\"navbar navbar-inverse\"><div class=\"container\" style=\"margin-bottom: 10px;\"><div class=\"navbar\"><a href=\"./index.php\" class=\"navbar-brand\" title=\"Alura Motors\"><img src=\"img/alura-logo.svg\" class=\"d-inline-block align-top\" alt=\"Alura\">Motors </a><p style=\"color: #fff; text-align: center; margin-top: 40px;\">Aplicação para treinamento de web scraping</p></div></div></nav></footer></div></body></html>'"
      ]
     },
     "execution_count": 12,
     "metadata": {},
     "output_type": "execute_result"
    }
   ],
   "source": [
    "\" \".join(html.split()).replace('> <','><')"
   ]
  },
  {
   "cell_type": "markdown",
   "metadata": {},
   "source": [
    "### Função de tratamento de strings"
   ]
  },
  {
   "cell_type": "code",
   "execution_count": 13,
   "metadata": {},
   "outputs": [],
   "source": [
    "def trata_html(input):\n",
    "    return \" \".join(input.split()).replace('> <','><')"
   ]
  },
  {
   "cell_type": "code",
   "execution_count": 14,
   "metadata": {},
   "outputs": [
    {
     "data": {
      "text/plain": [
       "'<!DOCTYPE html><html lang=\"pt-br\"><head><meta charset=\"utf-8\"><meta name=\"viewport\" content=\"width=device-width, initial-scale=1, shrink-to-fit=no\"><title>Alura Motors</title><style> /*Regra para a animacao*/ @keyframes spin { 0% { transform: rotate(0deg); } 100% { transform: rotate(360deg); } } /*Mudando o tamanho do icone de resposta*/ div.glyphicon { color:#6B8E23; font-size: 38px; } /*Classe que mostra a animacao \\'spin\\'*/ .loader { border: 16px solid #f3f3f3; border-radius: 50%; border-top: 16px solid #3498db; width: 80px; height: 80px; -webkit-animation: spin 2s linear infinite; animation: spin 2s linear infinite; } </style><link rel=\"stylesheet\" href=\"https://maxcdn.bootstrapcdn.com/bootstrap/3.3.7/css/bootstrap.min.css\" integrity=\"sha384-BVYiiSIFeK1dGmJRAkycuHAHRg32OmUcww7on3RYdg4Va+PmSTsz/K68vbdEjh4u\" crossorigin=\"anonymous\"><link rel=\"stylesheet\" href=\"css/styles.css\" media=\"all\"><script src=\"https://code.jquery.com/jquery-1.12.4.js\"></script><script src=\"https://maxcdn.bootstrapcdn.com/bootstrap/3.3.7/js/bootstrap.min.js\" integrity=\"sha384-Tc5IQib027qvyjSMfHjOMaLkfuWVxZxUPnCJA7l2mCWNIpG9mGCD8wGNIcPD7Txa\" crossorigin=\"anonymous\"></script><script type=\"text/javascript\" src=\"js/index.js\"></script><script> requisitar(\"https://alura-scraping.herokuapp.com/produtos?_page=\"+1+\"&_limit=10\") </script></head><body cz-shortcut-listen=\"true\"><noscript>You need to enable JavaScript to run this app.</noscript><div class=\"modal fade\" data-backdrop=\"static\" id=\"loadingModal\" tabindex=\"-1\" role=\"dialog\" aria-labelledby=\"loadingModal_label\"><div class=\"modal-dialog\" role=\"document\"><div class=\"modal-content\"><div class=\"modal-header\"><h5 class=\"modal-title\" id=\"loadingModal_label\"><span class=\"glyphicon glyphicon-refresh\"></span>Aguarde... </h5></div><div class=\"modal-body\"><div class=\\'alert\\' role=\\'alert\\'><center><div class=\"loader\" id=\"loader\"></div><br><h4><b id=\"loadingModal_content\"></b></h4></center></div></div></div></div></div><div id=\"root\"><header><nav class=\"navbar navbar-inverse\" style=\"margin-bottom: 0;\"><div class=\"container\" style=\"margin-bottom: -20px;\"><div class=\"navbar\"><a href=\"./index.php\" class=\"navbar-brand\" title=\"Alura Motors\"><img src=\"img/alura-logo.svg\" class=\"d-inline-block align-top\" alt=\"Alura\">Motors </a><ul class=\"nav navbar-nav\" style=\"margin-top: 35px;\"><li><a href=\"./hello-world.php\">Hello World</a></li><li><a href=\"./index.php\">Anúncios</a></li></ul></div></div></nav></header><div class=\"container\"><h1 class=\"sub-header\">Veículos de Luxo Novos e Usados - Todas as Marcas</h1><div class=\"row\"><div class=\"col-md-12\"><div class=\"container\" style=\"width: 100%\"><div class=\"type-select\">246 veículos encontrados</div><div class=\"container-pagination\" style=\"float: right\"><span class=\"info-pages\">Página 1 de 25</span></div></div><div id=\"container-cards\" style=\"height: 100%\"><div class=\"well card\"><div class=\"col-md-3 image-card\"><img width=\"220\" height=\"155\" alt=\"Foto\" src=\"https://caelum-online-public.s3.amazonaws.com/1381-scraping/01/img-cars/lamborghini-aventador/lamborghini-aventador-2932196__340.jpg\"></div><div class=\"col-md-6 body-card\"><p class=\"txt-name inline\">LAMBORGHINI AVENTADOR</p><p class=\"txt-category badge badge-secondary inline\">USADO</p><p class=\"txt-motor\">Motor 1.8 16v</p><p class=\"txt-description\">Ano 1993 - 55.286 km</p><ul class=\"lst-items\"><li class=\"txt-items\">► 4 X 4</li><li class=\"txt-items\">► Câmera de estacionamento</li><li class=\"txt-items\">► Controle de tração</li><li class=\"txt-items\">► Sensor de estacionamento</li><li class=\"txt-items\">...</li></ul><p class=\"txt-location\">Belo Horizonte - MG</p></div><div class=\"col-md-3 value-card\"><div class=\"value\"><p class=\"txt-value\">R$ 338.000</p></div></div></div><div class=\"well card\"><div class=\"col-md-3 image-card\"><img width=\"220\" height=\"155\" alt=\"Foto\" src=\"https://caelum-online-public.s3.amazonaws.com/1381-scraping/01/img-cars/bmw-m2/bmw-m2-2970882__340.jpg\"></div><div class=\"col-md-6 body-card\"><p class=\"txt-name inline\">BMW M2</p><p class=\"txt-category badge badge-secondary inline\">USADO</p><p class=\"txt-motor\">Motor 3.0 32v</p><p class=\"txt-description\">Ano 2018 - 83.447 km</p><ul class=\"lst-items\"><li class=\"txt-items\">► Câmera de estacionamento</li><li class=\"txt-items\">► Controle de estabilidade</li><li class=\"txt-items\">► Travas elétricas</li><li class=\"txt-items\">► Freios ABS</li><li class=\"txt-items\">...</li></ul><p class=\"txt-location\">Belo Horizonte - MG</p></div><div class=\"col-md-3 value-card\"><div class=\"value\"><p class=\"txt-value\">R$ 346.000</p></div></div></div><div class=\"well card\"><div class=\"col-md-3 image-card\"><img width=\"220\" height=\"155\" alt=\"Foto\" src=\"https://caelum-online-public.s3.amazonaws.com/1381-scraping/01/img-cars/alfa/alfa-1823056__340.jpg\"></div><div class=\"col-md-6 body-card\"><p class=\"txt-name inline\">ALFA</p><p class=\"txt-category badge badge-secondary inline\">USADO</p><p class=\"txt-motor\">Motor 1.8 16v</p><p class=\"txt-description\">Ano 2004 - 19.722 km</p><ul class=\"lst-items\"><li class=\"txt-items\">► Central multimídia</li><li class=\"txt-items\">► Bancos de couro</li><li class=\"txt-items\">► Rodas de liga</li><li class=\"txt-items\">► Câmera de estacionamento</li><li class=\"txt-items\">...</li></ul><p class=\"txt-location\">Rio de Janeiro - RJ</p></div><div class=\"col-md-3 value-card\"><div class=\"value\"><p class=\"txt-value\">R$ 480.000</p></div></div></div><div class=\"well card\"><div class=\"col-md-3 image-card\"><img width=\"220\" height=\"155\" alt=\"Foto\" src=\"https://caelum-online-public.s3.amazonaws.com/1381-scraping/01/img-cars/puech/puech-4055386__340.jpg\"></div><div class=\"col-md-6 body-card\"><p class=\"txt-name inline\">PUECH</p><p class=\"txt-category badge badge-secondary inline\">USADO</p><p class=\"txt-motor\">Motor Diesel V8</p><p class=\"txt-description\">Ano 1992 - 34.335 km</p><ul class=\"lst-items\"><li class=\"txt-items\">► Bancos de couro</li><li class=\"txt-items\">► Freios ABS</li><li class=\"txt-items\">► Rodas de liga</li><li class=\"txt-items\">► Câmbio automático</li><li class=\"txt-items\">...</li></ul><p class=\"txt-location\">São Paulo - SP</p></div><div class=\"col-md-3 value-card\"><div class=\"value\"><p class=\"txt-value\">R$ 133.000</p></div></div></div><div class=\"well card\"><div class=\"col-md-3 image-card\"><img width=\"220\" height=\"155\" alt=\"Foto\" src=\"https://caelum-online-public.s3.amazonaws.com/1381-scraping/01/img-cars/lamborghini-murcielago/lamborghini-murcielago-2872974__340.jpg\"></div><div class=\"col-md-6 body-card\"><p class=\"txt-name inline\">LAMBORGHINI MURCIELAGO</p><p class=\"txt-category badge badge-secondary inline\">USADO</p><p class=\"txt-motor\">Motor 1.0 8v</p><p class=\"txt-description\">Ano 1991 - 464 km</p><ul class=\"lst-items\"><li class=\"txt-items\">► Central multimídia</li><li class=\"txt-items\">► Teto panorâmico</li><li class=\"txt-items\">► Sensor crepuscular</li><li class=\"txt-items\">► Piloto automático</li><li class=\"txt-items\">...</li></ul><p class=\"txt-location\">Belo Horizonte - MG</p></div><div class=\"col-md-3 value-card\"><div class=\"value\"><p class=\"txt-value\">R$ 175.000</p></div></div></div><div class=\"well card\"><div class=\"col-md-3 image-card\"><img width=\"220\" height=\"155\" alt=\"Foto\" src=\"https://caelum-online-public.s3.amazonaws.com/1381-scraping/01/img-cars/aston-martin/aston-martin-2977916__340.jpg\"></div><div class=\"col-md-6 body-card\"><p class=\"txt-name inline\">ASTON MARTIN</p><p class=\"txt-category badge badge-secondary inline\">USADO</p><p class=\"txt-opportunity badge badge-danger inline\">OPORTUNIDADE</p><p class=\"txt-motor\">Motor Diesel V6</p><p class=\"txt-description\">Ano 2004 - 50.189 km</p><ul class=\"lst-items\"><li class=\"txt-items\">► Painel digital</li><li class=\"txt-items\">► Controle de tração</li><li class=\"txt-items\">► Teto panorâmico</li><li class=\"txt-items\">► Central multimídia</li><li class=\"txt-items\">...</li></ul><p class=\"txt-location\">Belo Horizonte - MG</p></div><div class=\"col-md-3 value-card\"><div class=\"value\"><p class=\"txt-value\">R$ 239.000</p></div></div></div><div class=\"well card\"><div class=\"col-md-3 image-card\"><img width=\"220\" height=\"155\" alt=\"Foto\" src=\"https://caelum-online-public.s3.amazonaws.com/1381-scraping/01/img-cars/tvr/tvr-2943925__340.jpg\"></div><div class=\"col-md-6 body-card\"><p class=\"txt-name inline\">TVR</p><p class=\"txt-category badge badge-secondary inline\">USADO</p><p class=\"txt-motor\">Motor 4.0 Turbo</p><p class=\"txt-description\">Ano 2014 - 17.778 km</p><ul class=\"lst-items\"><li class=\"txt-items\">► 4 X 4</li><li class=\"txt-items\">► Teto panorâmico</li><li class=\"txt-items\">► Central multimídia</li><li class=\"txt-items\">► Controle de estabilidade</li><li class=\"txt-items\">...</li></ul><p class=\"txt-location\">Belo Horizonte - MG</p></div><div class=\"col-md-3 value-card\"><div class=\"value\"><p class=\"txt-value\">R$ 115.000</p></div></div></div><div class=\"well card\"><div class=\"col-md-3 image-card\"><img width=\"220\" height=\"155\" alt=\"Foto\" src=\"https://caelum-online-public.s3.amazonaws.com/1381-scraping/01/img-cars/excalibur/excalibur-2916730__340.jpg\"></div><div class=\"col-md-6 body-card\"><p class=\"txt-name inline\">EXCALIBUR</p><p class=\"txt-category badge badge-secondary inline\">USADO</p><p class=\"txt-motor\">Motor 3.0 32v</p><p class=\"txt-description\">Ano 2009 - 81.251 km</p><ul class=\"lst-items\"><li class=\"txt-items\">► Painel digital</li><li class=\"txt-items\">► Câmbio automático</li><li class=\"txt-items\">► Sensor de chuva</li><li class=\"txt-items\">► Travas elétricas</li><li class=\"txt-items\">...</li></ul><p class=\"txt-location\">Rio de Janeiro - RJ</p></div><div class=\"col-md-3 value-card\"><div class=\"value\"><p class=\"txt-value\">R$ 114.000</p></div></div></div><div class=\"well card\"><div class=\"col-md-3 image-card\"><img width=\"220\" height=\"155\" alt=\"Foto\" src=\"https://caelum-online-public.s3.amazonaws.com/1381-scraping/01/img-cars/mclaren/mclaren-2855240__340.jpg\"></div><div class=\"col-md-6 body-card\"><p class=\"txt-name inline\">MCLAREN</p><p class=\"txt-category badge badge-secondary inline\">NOVO</p><p class=\"txt-motor\">Motor Diesel</p><p class=\"txt-description\">Ano 2019 - 0 km</p><ul class=\"lst-items\"><li class=\"txt-items\">► Central multimídia</li><li class=\"txt-items\">► Câmera de estacionamento</li><li class=\"txt-items\">► Câmbio automático</li><li class=\"txt-items\">► Ar condicionado</li><li class=\"txt-items\">...</li></ul><p class=\"txt-location\">São Paulo - SP</p></div><div class=\"col-md-3 value-card\"><div class=\"value\"><p class=\"txt-value\">R$ 75.000</p></div></div></div><div class=\"well card\"><div class=\"col-md-3 image-card\"><img width=\"220\" height=\"155\" alt=\"Foto\" src=\"https://caelum-online-public.s3.amazonaws.com/1381-scraping/01/img-cars/toyota/toyota-3245397__340.jpg\"></div><div class=\"col-md-6 body-card\"><p class=\"txt-name inline\">TOYOTA</p><p class=\"txt-category badge badge-secondary inline\">USADO</p><p class=\"txt-opportunity badge badge-danger inline\">OPORTUNIDADE</p><p class=\"txt-motor\">Motor 4.0 Turbo</p><p class=\"txt-description\">Ano 1999 - 12.536 km</p><ul class=\"lst-items\"><li class=\"txt-items\">► Bancos de couro</li><li class=\"txt-items\">► Freios ABS</li><li class=\"txt-items\">► Piloto automático</li><li class=\"txt-items\">► Controle de estabilidade</li><li class=\"txt-items\">...</li></ul><p class=\"txt-location\">São Paulo - SP</p></div><div class=\"col-md-3 value-card\"><div class=\"value\"><p class=\"txt-value\">R$ 117.000</p></div></div></div></div><div class=\"type-select\">246 veículos encontrados</div><div class=\"container-pagination\" style=\"float: right\"><span class=\"info-pages\">Página 1 de 25</span></div></div></div></div></div></div><footer><nav class=\"navbar navbar-inverse\"><div class=\"container\" style=\"margin-bottom: 10px;\"><div class=\"navbar\"><a href=\"./index.php\" class=\"navbar-brand\" title=\"Alura Motors\"><img src=\"img/alura-logo.svg\" class=\"d-inline-block align-top\" alt=\"Alura\">Motors </a><p style=\"color: #fff; text-align: center; margin-top: 40px;\">Aplicação para treinamento de web scraping</p></div></div></nav></footer></div></body></html>'"
      ]
     },
     "execution_count": 14,
     "metadata": {},
     "output_type": "execute_result"
    }
   ],
   "source": [
    "html = trata_html(html)\n",
    "html"
   ]
  },
  {
   "cell_type": "markdown",
   "metadata": {
    "colab": {},
    "colab_type": "code",
    "id": "BsfhL3sZFRZu"
   },
   "source": [
    "---\n",
    "# <font color=green>3. INTRODUÇÃO AO BEAUTIFULSOUP"
   ]
  },
  {
   "cell_type": "markdown",
   "metadata": {
    "colab": {},
    "colab_type": "code",
    "heading_collapsed": true,
    "id": "BsfhL3sZFRZu"
   },
   "source": [
    "# 3.1. HTML da nossa página"
   ]
  },
  {
   "cell_type": "markdown",
   "metadata": {
    "hidden": true
   },
   "source": [
    "**HTML** (*HyperText Markup Language*) é uma linguagem de marcação composta por **tags** que deteminam o papel que cada parte do documento vai assumir. As **tags** são formadas pelo seu nome e atributos. Os atributos servem para configurar e também modificar as características padrões de uma **tag**.\n",
    "\n",
    "## Estrutura básica\n",
    "\n",
    "```html\n",
    "<html>\n",
    "    <head>\n",
    "        <meta charset=\"utf-8\" />\n",
    "        <title>Alura Motors</title>\n",
    "    </head>\n",
    "    <body>\n",
    "        <div id=\"container\">\n",
    "            <h1>Alura</h1>\n",
    "            <h2 class=\"formato\">Cursos de Tecnologia</h2>\n",
    "            <p>Você vai estudar, praticar, discutir e aprender.</p>\n",
    "            <a href=\"https://www.alura.com.br/\">Clique aqui</a>\n",
    "        </div>\n",
    "    </body>\n",
    "</html>\n",
    "```\n",
    "\n",
    "```<html>``` - determina o início do documento.\n",
    "\n",
    "```<head>``` - cabeçalho. Contém informações e configurações do documento.\n",
    "\n",
    "```<body>``` - é o corpo do documento, onde todo o conteúdo é colocado. Esta é a parte visível em um navegador.\n",
    "\n",
    "## Tags mais comuns\n",
    "\n",
    "```<div>``` - define uma divisão da página. Pode ser formatada de diversas maneiras.\n",
    "\n",
    "```<h1>, <h2>, <h3>, <h4>, <h5>, <h6>``` - marcadores de títulos.\n",
    "\n",
    "```<p>``` - marcador de parágrafo.\n",
    "\n",
    "```<a>``` - hiperlink.\n",
    "\n",
    "```<img>``` - exibição de imagens.\n",
    "\n",
    "```<table>``` - definição de tabelas.\n",
    "\n",
    "```<ul>, <li>``` - definição de listas.\n"
   ]
  },
  {
   "cell_type": "markdown",
   "metadata": {},
   "source": [
    "# 3.2. Criando um objeto BeautifulSoup"
   ]
  },
  {
   "cell_type": "markdown",
   "metadata": {},
   "source": [
    "## https://www.crummy.com/software/BeautifulSoup/\n",
    "\n",
    "### Sobre parser ver: https://www.crummy.com/software/BeautifulSoup/bs4/doc/#parser-installation"
   ]
  },
  {
   "cell_type": "code",
   "execution_count": 15,
   "metadata": {
    "scrolled": true
   },
   "outputs": [
    {
     "data": {
      "text/plain": [
       "<!DOCTYPE html>\n",
       "<html lang=\"pt-br\"><head><meta charset=\"utf-8\"/><meta content=\"width=device-width, initial-scale=1, shrink-to-fit=no\" name=\"viewport\"/><title>Alura Motors</title><style> /*Regra para a animacao*/ @keyframes spin { 0% { transform: rotate(0deg); } 100% { transform: rotate(360deg); } } /*Mudando o tamanho do icone de resposta*/ div.glyphicon { color:#6B8E23; font-size: 38px; } /*Classe que mostra a animacao 'spin'*/ .loader { border: 16px solid #f3f3f3; border-radius: 50%; border-top: 16px solid #3498db; width: 80px; height: 80px; -webkit-animation: spin 2s linear infinite; animation: spin 2s linear infinite; } </style><link crossorigin=\"anonymous\" href=\"https://maxcdn.bootstrapcdn.com/bootstrap/3.3.7/css/bootstrap.min.css\" integrity=\"sha384-BVYiiSIFeK1dGmJRAkycuHAHRg32OmUcww7on3RYdg4Va+PmSTsz/K68vbdEjh4u\" rel=\"stylesheet\"/><link href=\"css/styles.css\" media=\"all\" rel=\"stylesheet\"/><script src=\"https://code.jquery.com/jquery-1.12.4.js\"></script><script crossorigin=\"anonymous\" integrity=\"sha384-Tc5IQib027qvyjSMfHjOMaLkfuWVxZxUPnCJA7l2mCWNIpG9mGCD8wGNIcPD7Txa\" src=\"https://maxcdn.bootstrapcdn.com/bootstrap/3.3.7/js/bootstrap.min.js\"></script><script src=\"js/index.js\" type=\"text/javascript\"></script><script> requisitar(\"https://alura-scraping.herokuapp.com/produtos?_page=\"+1+\"&_limit=10\") </script></head><body cz-shortcut-listen=\"true\"><noscript>You need to enable JavaScript to run this app.</noscript><div aria-labelledby=\"loadingModal_label\" class=\"modal fade\" data-backdrop=\"static\" id=\"loadingModal\" role=\"dialog\" tabindex=\"-1\"><div class=\"modal-dialog\" role=\"document\"><div class=\"modal-content\"><div class=\"modal-header\"><h5 class=\"modal-title\" id=\"loadingModal_label\"><span class=\"glyphicon glyphicon-refresh\"></span>Aguarde... </h5></div><div class=\"modal-body\"><div class=\"alert\" role=\"alert\"><center><div class=\"loader\" id=\"loader\"></div><br/><h4><b id=\"loadingModal_content\"></b></h4></center></div></div></div></div></div><div id=\"root\"><header><nav class=\"navbar navbar-inverse\" style=\"margin-bottom: 0;\"><div class=\"container\" style=\"margin-bottom: -20px;\"><div class=\"navbar\"><a class=\"navbar-brand\" href=\"./index.php\" title=\"Alura Motors\"><img alt=\"Alura\" class=\"d-inline-block align-top\" src=\"img/alura-logo.svg\"/>Motors </a><ul class=\"nav navbar-nav\" style=\"margin-top: 35px;\"><li><a href=\"./hello-world.php\">Hello World</a></li><li><a href=\"./index.php\">Anúncios</a></li></ul></div></div></nav></header><div class=\"container\"><h1 class=\"sub-header\">Veículos de Luxo Novos e Usados - Todas as Marcas</h1><div class=\"row\"><div class=\"col-md-12\"><div class=\"container\" style=\"width: 100%\"><div class=\"type-select\">246 veículos encontrados</div><div class=\"container-pagination\" style=\"float: right\"><span class=\"info-pages\">Página 1 de 25</span></div></div><div id=\"container-cards\" style=\"height: 100%\"><div class=\"well card\"><div class=\"col-md-3 image-card\"><img alt=\"Foto\" height=\"155\" src=\"https://caelum-online-public.s3.amazonaws.com/1381-scraping/01/img-cars/lamborghini-aventador/lamborghini-aventador-2932196__340.jpg\" width=\"220\"/></div><div class=\"col-md-6 body-card\"><p class=\"txt-name inline\">LAMBORGHINI AVENTADOR</p><p class=\"txt-category badge badge-secondary inline\">USADO</p><p class=\"txt-motor\">Motor 1.8 16v</p><p class=\"txt-description\">Ano 1993 - 55.286 km</p><ul class=\"lst-items\"><li class=\"txt-items\">► 4 X 4</li><li class=\"txt-items\">► Câmera de estacionamento</li><li class=\"txt-items\">► Controle de tração</li><li class=\"txt-items\">► Sensor de estacionamento</li><li class=\"txt-items\">...</li></ul><p class=\"txt-location\">Belo Horizonte - MG</p></div><div class=\"col-md-3 value-card\"><div class=\"value\"><p class=\"txt-value\">R$ 338.000</p></div></div></div><div class=\"well card\"><div class=\"col-md-3 image-card\"><img alt=\"Foto\" height=\"155\" src=\"https://caelum-online-public.s3.amazonaws.com/1381-scraping/01/img-cars/bmw-m2/bmw-m2-2970882__340.jpg\" width=\"220\"/></div><div class=\"col-md-6 body-card\"><p class=\"txt-name inline\">BMW M2</p><p class=\"txt-category badge badge-secondary inline\">USADO</p><p class=\"txt-motor\">Motor 3.0 32v</p><p class=\"txt-description\">Ano 2018 - 83.447 km</p><ul class=\"lst-items\"><li class=\"txt-items\">► Câmera de estacionamento</li><li class=\"txt-items\">► Controle de estabilidade</li><li class=\"txt-items\">► Travas elétricas</li><li class=\"txt-items\">► Freios ABS</li><li class=\"txt-items\">...</li></ul><p class=\"txt-location\">Belo Horizonte - MG</p></div><div class=\"col-md-3 value-card\"><div class=\"value\"><p class=\"txt-value\">R$ 346.000</p></div></div></div><div class=\"well card\"><div class=\"col-md-3 image-card\"><img alt=\"Foto\" height=\"155\" src=\"https://caelum-online-public.s3.amazonaws.com/1381-scraping/01/img-cars/alfa/alfa-1823056__340.jpg\" width=\"220\"/></div><div class=\"col-md-6 body-card\"><p class=\"txt-name inline\">ALFA</p><p class=\"txt-category badge badge-secondary inline\">USADO</p><p class=\"txt-motor\">Motor 1.8 16v</p><p class=\"txt-description\">Ano 2004 - 19.722 km</p><ul class=\"lst-items\"><li class=\"txt-items\">► Central multimídia</li><li class=\"txt-items\">► Bancos de couro</li><li class=\"txt-items\">► Rodas de liga</li><li class=\"txt-items\">► Câmera de estacionamento</li><li class=\"txt-items\">...</li></ul><p class=\"txt-location\">Rio de Janeiro - RJ</p></div><div class=\"col-md-3 value-card\"><div class=\"value\"><p class=\"txt-value\">R$ 480.000</p></div></div></div><div class=\"well card\"><div class=\"col-md-3 image-card\"><img alt=\"Foto\" height=\"155\" src=\"https://caelum-online-public.s3.amazonaws.com/1381-scraping/01/img-cars/puech/puech-4055386__340.jpg\" width=\"220\"/></div><div class=\"col-md-6 body-card\"><p class=\"txt-name inline\">PUECH</p><p class=\"txt-category badge badge-secondary inline\">USADO</p><p class=\"txt-motor\">Motor Diesel V8</p><p class=\"txt-description\">Ano 1992 - 34.335 km</p><ul class=\"lst-items\"><li class=\"txt-items\">► Bancos de couro</li><li class=\"txt-items\">► Freios ABS</li><li class=\"txt-items\">► Rodas de liga</li><li class=\"txt-items\">► Câmbio automático</li><li class=\"txt-items\">...</li></ul><p class=\"txt-location\">São Paulo - SP</p></div><div class=\"col-md-3 value-card\"><div class=\"value\"><p class=\"txt-value\">R$ 133.000</p></div></div></div><div class=\"well card\"><div class=\"col-md-3 image-card\"><img alt=\"Foto\" height=\"155\" src=\"https://caelum-online-public.s3.amazonaws.com/1381-scraping/01/img-cars/lamborghini-murcielago/lamborghini-murcielago-2872974__340.jpg\" width=\"220\"/></div><div class=\"col-md-6 body-card\"><p class=\"txt-name inline\">LAMBORGHINI MURCIELAGO</p><p class=\"txt-category badge badge-secondary inline\">USADO</p><p class=\"txt-motor\">Motor 1.0 8v</p><p class=\"txt-description\">Ano 1991 - 464 km</p><ul class=\"lst-items\"><li class=\"txt-items\">► Central multimídia</li><li class=\"txt-items\">► Teto panorâmico</li><li class=\"txt-items\">► Sensor crepuscular</li><li class=\"txt-items\">► Piloto automático</li><li class=\"txt-items\">...</li></ul><p class=\"txt-location\">Belo Horizonte - MG</p></div><div class=\"col-md-3 value-card\"><div class=\"value\"><p class=\"txt-value\">R$ 175.000</p></div></div></div><div class=\"well card\"><div class=\"col-md-3 image-card\"><img alt=\"Foto\" height=\"155\" src=\"https://caelum-online-public.s3.amazonaws.com/1381-scraping/01/img-cars/aston-martin/aston-martin-2977916__340.jpg\" width=\"220\"/></div><div class=\"col-md-6 body-card\"><p class=\"txt-name inline\">ASTON MARTIN</p><p class=\"txt-category badge badge-secondary inline\">USADO</p><p class=\"txt-opportunity badge badge-danger inline\">OPORTUNIDADE</p><p class=\"txt-motor\">Motor Diesel V6</p><p class=\"txt-description\">Ano 2004 - 50.189 km</p><ul class=\"lst-items\"><li class=\"txt-items\">► Painel digital</li><li class=\"txt-items\">► Controle de tração</li><li class=\"txt-items\">► Teto panorâmico</li><li class=\"txt-items\">► Central multimídia</li><li class=\"txt-items\">...</li></ul><p class=\"txt-location\">Belo Horizonte - MG</p></div><div class=\"col-md-3 value-card\"><div class=\"value\"><p class=\"txt-value\">R$ 239.000</p></div></div></div><div class=\"well card\"><div class=\"col-md-3 image-card\"><img alt=\"Foto\" height=\"155\" src=\"https://caelum-online-public.s3.amazonaws.com/1381-scraping/01/img-cars/tvr/tvr-2943925__340.jpg\" width=\"220\"/></div><div class=\"col-md-6 body-card\"><p class=\"txt-name inline\">TVR</p><p class=\"txt-category badge badge-secondary inline\">USADO</p><p class=\"txt-motor\">Motor 4.0 Turbo</p><p class=\"txt-description\">Ano 2014 - 17.778 km</p><ul class=\"lst-items\"><li class=\"txt-items\">► 4 X 4</li><li class=\"txt-items\">► Teto panorâmico</li><li class=\"txt-items\">► Central multimídia</li><li class=\"txt-items\">► Controle de estabilidade</li><li class=\"txt-items\">...</li></ul><p class=\"txt-location\">Belo Horizonte - MG</p></div><div class=\"col-md-3 value-card\"><div class=\"value\"><p class=\"txt-value\">R$ 115.000</p></div></div></div><div class=\"well card\"><div class=\"col-md-3 image-card\"><img alt=\"Foto\" height=\"155\" src=\"https://caelum-online-public.s3.amazonaws.com/1381-scraping/01/img-cars/excalibur/excalibur-2916730__340.jpg\" width=\"220\"/></div><div class=\"col-md-6 body-card\"><p class=\"txt-name inline\">EXCALIBUR</p><p class=\"txt-category badge badge-secondary inline\">USADO</p><p class=\"txt-motor\">Motor 3.0 32v</p><p class=\"txt-description\">Ano 2009 - 81.251 km</p><ul class=\"lst-items\"><li class=\"txt-items\">► Painel digital</li><li class=\"txt-items\">► Câmbio automático</li><li class=\"txt-items\">► Sensor de chuva</li><li class=\"txt-items\">► Travas elétricas</li><li class=\"txt-items\">...</li></ul><p class=\"txt-location\">Rio de Janeiro - RJ</p></div><div class=\"col-md-3 value-card\"><div class=\"value\"><p class=\"txt-value\">R$ 114.000</p></div></div></div><div class=\"well card\"><div class=\"col-md-3 image-card\"><img alt=\"Foto\" height=\"155\" src=\"https://caelum-online-public.s3.amazonaws.com/1381-scraping/01/img-cars/mclaren/mclaren-2855240__340.jpg\" width=\"220\"/></div><div class=\"col-md-6 body-card\"><p class=\"txt-name inline\">MCLAREN</p><p class=\"txt-category badge badge-secondary inline\">NOVO</p><p class=\"txt-motor\">Motor Diesel</p><p class=\"txt-description\">Ano 2019 - 0 km</p><ul class=\"lst-items\"><li class=\"txt-items\">► Central multimídia</li><li class=\"txt-items\">► Câmera de estacionamento</li><li class=\"txt-items\">► Câmbio automático</li><li class=\"txt-items\">► Ar condicionado</li><li class=\"txt-items\">...</li></ul><p class=\"txt-location\">São Paulo - SP</p></div><div class=\"col-md-3 value-card\"><div class=\"value\"><p class=\"txt-value\">R$ 75.000</p></div></div></div><div class=\"well card\"><div class=\"col-md-3 image-card\"><img alt=\"Foto\" height=\"155\" src=\"https://caelum-online-public.s3.amazonaws.com/1381-scraping/01/img-cars/toyota/toyota-3245397__340.jpg\" width=\"220\"/></div><div class=\"col-md-6 body-card\"><p class=\"txt-name inline\">TOYOTA</p><p class=\"txt-category badge badge-secondary inline\">USADO</p><p class=\"txt-opportunity badge badge-danger inline\">OPORTUNIDADE</p><p class=\"txt-motor\">Motor 4.0 Turbo</p><p class=\"txt-description\">Ano 1999 - 12.536 km</p><ul class=\"lst-items\"><li class=\"txt-items\">► Bancos de couro</li><li class=\"txt-items\">► Freios ABS</li><li class=\"txt-items\">► Piloto automático</li><li class=\"txt-items\">► Controle de estabilidade</li><li class=\"txt-items\">...</li></ul><p class=\"txt-location\">São Paulo - SP</p></div><div class=\"col-md-3 value-card\"><div class=\"value\"><p class=\"txt-value\">R$ 117.000</p></div></div></div></div><div class=\"type-select\">246 veículos encontrados</div><div class=\"container-pagination\" style=\"float: right\"><span class=\"info-pages\">Página 1 de 25</span></div></div></div></div></div><footer><nav class=\"navbar navbar-inverse\"><div class=\"container\" style=\"margin-bottom: 10px;\"><div class=\"navbar\"><a class=\"navbar-brand\" href=\"./index.php\" title=\"Alura Motors\"><img alt=\"Alura\" class=\"d-inline-block align-top\" src=\"img/alura-logo.svg\"/>Motors </a><p style=\"color: #fff; text-align: center; margin-top: 40px;\">Aplicação para treinamento de web scraping</p></div></div></nav></footer></body></html>"
      ]
     },
     "execution_count": 15,
     "metadata": {},
     "output_type": "execute_result"
    }
   ],
   "source": [
    "from bs4 import BeautifulSoup\n",
    "\n",
    "soup = BeautifulSoup(html, features='html.parser')\n",
    "\n",
    "soup"
   ]
  },
  {
   "cell_type": "code",
   "execution_count": 16,
   "metadata": {
    "scrolled": true
   },
   "outputs": [
    {
     "data": {
      "text/plain": [
       "bs4.BeautifulSoup"
      ]
     },
     "execution_count": 16,
     "metadata": {},
     "output_type": "execute_result"
    }
   ],
   "source": [
    "type(soup)"
   ]
  },
  {
   "cell_type": "code",
   "execution_count": 17,
   "metadata": {},
   "outputs": [
    {
     "name": "stdout",
     "output_type": "stream",
     "text": [
      "<!DOCTYPE html>\n",
      "<html lang=\"pt-br\">\n",
      " <head>\n",
      "  <meta charset=\"utf-8\"/>\n",
      "  <meta content=\"width=device-width, initial-scale=1, shrink-to-fit=no\" name=\"viewport\"/>\n",
      "  <title>\n",
      "   Alura Motors\n",
      "  </title>\n",
      "  <style>\n",
      "   /*Regra para a animacao*/ @keyframes spin { 0% { transform: rotate(0deg); } 100% { transform: rotate(360deg); } } /*Mudando o tamanho do icone de resposta*/ div.glyphicon { color:#6B8E23; font-size: 38px; } /*Classe que mostra a animacao 'spin'*/ .loader { border: 16px solid #f3f3f3; border-radius: 50%; border-top: 16px solid #3498db; width: 80px; height: 80px; -webkit-animation: spin 2s linear infinite; animation: spin 2s linear infinite; }\n",
      "  </style>\n",
      "  <link crossorigin=\"anonymous\" href=\"https://maxcdn.bootstrapcdn.com/bootstrap/3.3.7/css/bootstrap.min.css\" integrity=\"sha384-BVYiiSIFeK1dGmJRAkycuHAHRg32OmUcww7on3RYdg4Va+PmSTsz/K68vbdEjh4u\" rel=\"stylesheet\"/>\n",
      "  <link href=\"css/styles.css\" media=\"all\" rel=\"stylesheet\"/>\n",
      "  <script src=\"https://code.jquery.com/jquery-1.12.4.js\">\n",
      "  </script>\n",
      "  <script crossorigin=\"anonymous\" integrity=\"sha384-Tc5IQib027qvyjSMfHjOMaLkfuWVxZxUPnCJA7l2mCWNIpG9mGCD8wGNIcPD7Txa\" src=\"https://maxcdn.bootstrapcdn.com/bootstrap/3.3.7/js/bootstrap.min.js\">\n",
      "  </script>\n",
      "  <script src=\"js/index.js\" type=\"text/javascript\">\n",
      "  </script>\n",
      "  <script>\n",
      "   requisitar(\"https://alura-scraping.herokuapp.com/produtos?_page=\"+1+\"&_limit=10\")\n",
      "  </script>\n",
      " </head>\n",
      " <body cz-shortcut-listen=\"true\">\n",
      "  <noscript>\n",
      "   You need to enable JavaScript to run this app.\n",
      "  </noscript>\n",
      "  <div aria-labelledby=\"loadingModal_label\" class=\"modal fade\" data-backdrop=\"static\" id=\"loadingModal\" role=\"dialog\" tabindex=\"-1\">\n",
      "   <div class=\"modal-dialog\" role=\"document\">\n",
      "    <div class=\"modal-content\">\n",
      "     <div class=\"modal-header\">\n",
      "      <h5 class=\"modal-title\" id=\"loadingModal_label\">\n",
      "       <span class=\"glyphicon glyphicon-refresh\">\n",
      "       </span>\n",
      "       Aguarde...\n",
      "      </h5>\n",
      "     </div>\n",
      "     <div class=\"modal-body\">\n",
      "      <div class=\"alert\" role=\"alert\">\n",
      "       <center>\n",
      "        <div class=\"loader\" id=\"loader\">\n",
      "        </div>\n",
      "        <br/>\n",
      "        <h4>\n",
      "         <b id=\"loadingModal_content\">\n",
      "         </b>\n",
      "        </h4>\n",
      "       </center>\n",
      "      </div>\n",
      "     </div>\n",
      "    </div>\n",
      "   </div>\n",
      "  </div>\n",
      "  <div id=\"root\">\n",
      "   <header>\n",
      "    <nav class=\"navbar navbar-inverse\" style=\"margin-bottom: 0;\">\n",
      "     <div class=\"container\" style=\"margin-bottom: -20px;\">\n",
      "      <div class=\"navbar\">\n",
      "       <a class=\"navbar-brand\" href=\"./index.php\" title=\"Alura Motors\">\n",
      "        <img alt=\"Alura\" class=\"d-inline-block align-top\" src=\"img/alura-logo.svg\"/>\n",
      "        Motors\n",
      "       </a>\n",
      "       <ul class=\"nav navbar-nav\" style=\"margin-top: 35px;\">\n",
      "        <li>\n",
      "         <a href=\"./hello-world.php\">\n",
      "          Hello World\n",
      "         </a>\n",
      "        </li>\n",
      "        <li>\n",
      "         <a href=\"./index.php\">\n",
      "          Anúncios\n",
      "         </a>\n",
      "        </li>\n",
      "       </ul>\n",
      "      </div>\n",
      "     </div>\n",
      "    </nav>\n",
      "   </header>\n",
      "   <div class=\"container\">\n",
      "    <h1 class=\"sub-header\">\n",
      "     Veículos de Luxo Novos e Usados - Todas as Marcas\n",
      "    </h1>\n",
      "    <div class=\"row\">\n",
      "     <div class=\"col-md-12\">\n",
      "      <div class=\"container\" style=\"width: 100%\">\n",
      "       <div class=\"type-select\">\n",
      "        246 veículos encontrados\n",
      "       </div>\n",
      "       <div class=\"container-pagination\" style=\"float: right\">\n",
      "        <span class=\"info-pages\">\n",
      "         Página 1 de 25\n",
      "        </span>\n",
      "       </div>\n",
      "      </div>\n",
      "      <div id=\"container-cards\" style=\"height: 100%\">\n",
      "       <div class=\"well card\">\n",
      "        <div class=\"col-md-3 image-card\">\n",
      "         <img alt=\"Foto\" height=\"155\" src=\"https://caelum-online-public.s3.amazonaws.com/1381-scraping/01/img-cars/lamborghini-aventador/lamborghini-aventador-2932196__340.jpg\" width=\"220\"/>\n",
      "        </div>\n",
      "        <div class=\"col-md-6 body-card\">\n",
      "         <p class=\"txt-name inline\">\n",
      "          LAMBORGHINI AVENTADOR\n",
      "         </p>\n",
      "         <p class=\"txt-category badge badge-secondary inline\">\n",
      "          USADO\n",
      "         </p>\n",
      "         <p class=\"txt-motor\">\n",
      "          Motor 1.8 16v\n",
      "         </p>\n",
      "         <p class=\"txt-description\">\n",
      "          Ano 1993 - 55.286 km\n",
      "         </p>\n",
      "         <ul class=\"lst-items\">\n",
      "          <li class=\"txt-items\">\n",
      "           ► 4 X 4\n",
      "          </li>\n",
      "          <li class=\"txt-items\">\n",
      "           ► Câmera de estacionamento\n",
      "          </li>\n",
      "          <li class=\"txt-items\">\n",
      "           ► Controle de tração\n",
      "          </li>\n",
      "          <li class=\"txt-items\">\n",
      "           ► Sensor de estacionamento\n",
      "          </li>\n",
      "          <li class=\"txt-items\">\n",
      "           ...\n",
      "          </li>\n",
      "         </ul>\n",
      "         <p class=\"txt-location\">\n",
      "          Belo Horizonte - MG\n",
      "         </p>\n",
      "        </div>\n",
      "        <div class=\"col-md-3 value-card\">\n",
      "         <div class=\"value\">\n",
      "          <p class=\"txt-value\">\n",
      "           R$ 338.000\n",
      "          </p>\n",
      "         </div>\n",
      "        </div>\n",
      "       </div>\n",
      "       <div class=\"well card\">\n",
      "        <div class=\"col-md-3 image-card\">\n",
      "         <img alt=\"Foto\" height=\"155\" src=\"https://caelum-online-public.s3.amazonaws.com/1381-scraping/01/img-cars/bmw-m2/bmw-m2-2970882__340.jpg\" width=\"220\"/>\n",
      "        </div>\n",
      "        <div class=\"col-md-6 body-card\">\n",
      "         <p class=\"txt-name inline\">\n",
      "          BMW M2\n",
      "         </p>\n",
      "         <p class=\"txt-category badge badge-secondary inline\">\n",
      "          USADO\n",
      "         </p>\n",
      "         <p class=\"txt-motor\">\n",
      "          Motor 3.0 32v\n",
      "         </p>\n",
      "         <p class=\"txt-description\">\n",
      "          Ano 2018 - 83.447 km\n",
      "         </p>\n",
      "         <ul class=\"lst-items\">\n",
      "          <li class=\"txt-items\">\n",
      "           ► Câmera de estacionamento\n",
      "          </li>\n",
      "          <li class=\"txt-items\">\n",
      "           ► Controle de estabilidade\n",
      "          </li>\n",
      "          <li class=\"txt-items\">\n",
      "           ► Travas elétricas\n",
      "          </li>\n",
      "          <li class=\"txt-items\">\n",
      "           ► Freios ABS\n",
      "          </li>\n",
      "          <li class=\"txt-items\">\n",
      "           ...\n",
      "          </li>\n",
      "         </ul>\n",
      "         <p class=\"txt-location\">\n",
      "          Belo Horizonte - MG\n",
      "         </p>\n",
      "        </div>\n",
      "        <div class=\"col-md-3 value-card\">\n",
      "         <div class=\"value\">\n",
      "          <p class=\"txt-value\">\n",
      "           R$ 346.000\n",
      "          </p>\n",
      "         </div>\n",
      "        </div>\n",
      "       </div>\n",
      "       <div class=\"well card\">\n",
      "        <div class=\"col-md-3 image-card\">\n",
      "         <img alt=\"Foto\" height=\"155\" src=\"https://caelum-online-public.s3.amazonaws.com/1381-scraping/01/img-cars/alfa/alfa-1823056__340.jpg\" width=\"220\"/>\n",
      "        </div>\n",
      "        <div class=\"col-md-6 body-card\">\n",
      "         <p class=\"txt-name inline\">\n",
      "          ALFA\n",
      "         </p>\n",
      "         <p class=\"txt-category badge badge-secondary inline\">\n",
      "          USADO\n",
      "         </p>\n",
      "         <p class=\"txt-motor\">\n",
      "          Motor 1.8 16v\n",
      "         </p>\n",
      "         <p class=\"txt-description\">\n",
      "          Ano 2004 - 19.722 km\n",
      "         </p>\n",
      "         <ul class=\"lst-items\">\n",
      "          <li class=\"txt-items\">\n",
      "           ► Central multimídia\n",
      "          </li>\n",
      "          <li class=\"txt-items\">\n",
      "           ► Bancos de couro\n",
      "          </li>\n",
      "          <li class=\"txt-items\">\n",
      "           ► Rodas de liga\n",
      "          </li>\n",
      "          <li class=\"txt-items\">\n",
      "           ► Câmera de estacionamento\n",
      "          </li>\n",
      "          <li class=\"txt-items\">\n",
      "           ...\n",
      "          </li>\n",
      "         </ul>\n",
      "         <p class=\"txt-location\">\n",
      "          Rio de Janeiro - RJ\n",
      "         </p>\n",
      "        </div>\n",
      "        <div class=\"col-md-3 value-card\">\n",
      "         <div class=\"value\">\n",
      "          <p class=\"txt-value\">\n",
      "           R$ 480.000\n",
      "          </p>\n",
      "         </div>\n",
      "        </div>\n",
      "       </div>\n",
      "       <div class=\"well card\">\n",
      "        <div class=\"col-md-3 image-card\">\n",
      "         <img alt=\"Foto\" height=\"155\" src=\"https://caelum-online-public.s3.amazonaws.com/1381-scraping/01/img-cars/puech/puech-4055386__340.jpg\" width=\"220\"/>\n",
      "        </div>\n",
      "        <div class=\"col-md-6 body-card\">\n",
      "         <p class=\"txt-name inline\">\n",
      "          PUECH\n",
      "         </p>\n",
      "         <p class=\"txt-category badge badge-secondary inline\">\n",
      "          USADO\n",
      "         </p>\n",
      "         <p class=\"txt-motor\">\n",
      "          Motor Diesel V8\n",
      "         </p>\n",
      "         <p class=\"txt-description\">\n",
      "          Ano 1992 - 34.335 km\n",
      "         </p>\n",
      "         <ul class=\"lst-items\">\n",
      "          <li class=\"txt-items\">\n",
      "           ► Bancos de couro\n",
      "          </li>\n",
      "          <li class=\"txt-items\">\n",
      "           ► Freios ABS\n",
      "          </li>\n",
      "          <li class=\"txt-items\">\n",
      "           ► Rodas de liga\n",
      "          </li>\n",
      "          <li class=\"txt-items\">\n",
      "           ► Câmbio automático\n",
      "          </li>\n",
      "          <li class=\"txt-items\">\n",
      "           ...\n",
      "          </li>\n",
      "         </ul>\n",
      "         <p class=\"txt-location\">\n",
      "          São Paulo - SP\n",
      "         </p>\n",
      "        </div>\n",
      "        <div class=\"col-md-3 value-card\">\n",
      "         <div class=\"value\">\n",
      "          <p class=\"txt-value\">\n",
      "           R$ 133.000\n",
      "          </p>\n",
      "         </div>\n",
      "        </div>\n",
      "       </div>\n",
      "       <div class=\"well card\">\n",
      "        <div class=\"col-md-3 image-card\">\n",
      "         <img alt=\"Foto\" height=\"155\" src=\"https://caelum-online-public.s3.amazonaws.com/1381-scraping/01/img-cars/lamborghini-murcielago/lamborghini-murcielago-2872974__340.jpg\" width=\"220\"/>\n",
      "        </div>\n",
      "        <div class=\"col-md-6 body-card\">\n",
      "         <p class=\"txt-name inline\">\n",
      "          LAMBORGHINI MURCIELAGO\n",
      "         </p>\n",
      "         <p class=\"txt-category badge badge-secondary inline\">\n",
      "          USADO\n",
      "         </p>\n",
      "         <p class=\"txt-motor\">\n",
      "          Motor 1.0 8v\n",
      "         </p>\n",
      "         <p class=\"txt-description\">\n",
      "          Ano 1991 - 464 km\n",
      "         </p>\n",
      "         <ul class=\"lst-items\">\n",
      "          <li class=\"txt-items\">\n",
      "           ► Central multimídia\n",
      "          </li>\n",
      "          <li class=\"txt-items\">\n",
      "           ► Teto panorâmico\n",
      "          </li>\n",
      "          <li class=\"txt-items\">\n",
      "           ► Sensor crepuscular\n",
      "          </li>\n",
      "          <li class=\"txt-items\">\n",
      "           ► Piloto automático\n",
      "          </li>\n",
      "          <li class=\"txt-items\">\n",
      "           ...\n",
      "          </li>\n",
      "         </ul>\n",
      "         <p class=\"txt-location\">\n",
      "          Belo Horizonte - MG\n",
      "         </p>\n",
      "        </div>\n",
      "        <div class=\"col-md-3 value-card\">\n",
      "         <div class=\"value\">\n",
      "          <p class=\"txt-value\">\n",
      "           R$ 175.000\n",
      "          </p>\n",
      "         </div>\n",
      "        </div>\n",
      "       </div>\n",
      "       <div class=\"well card\">\n",
      "        <div class=\"col-md-3 image-card\">\n",
      "         <img alt=\"Foto\" height=\"155\" src=\"https://caelum-online-public.s3.amazonaws.com/1381-scraping/01/img-cars/aston-martin/aston-martin-2977916__340.jpg\" width=\"220\"/>\n",
      "        </div>\n",
      "        <div class=\"col-md-6 body-card\">\n",
      "         <p class=\"txt-name inline\">\n",
      "          ASTON MARTIN\n",
      "         </p>\n",
      "         <p class=\"txt-category badge badge-secondary inline\">\n",
      "          USADO\n",
      "         </p>\n",
      "         <p class=\"txt-opportunity badge badge-danger inline\">\n",
      "          OPORTUNIDADE\n",
      "         </p>\n",
      "         <p class=\"txt-motor\">\n",
      "          Motor Diesel V6\n",
      "         </p>\n",
      "         <p class=\"txt-description\">\n",
      "          Ano 2004 - 50.189 km\n",
      "         </p>\n",
      "         <ul class=\"lst-items\">\n",
      "          <li class=\"txt-items\">\n",
      "           ► Painel digital\n",
      "          </li>\n",
      "          <li class=\"txt-items\">\n",
      "           ► Controle de tração\n",
      "          </li>\n",
      "          <li class=\"txt-items\">\n",
      "           ► Teto panorâmico\n",
      "          </li>\n",
      "          <li class=\"txt-items\">\n",
      "           ► Central multimídia\n",
      "          </li>\n",
      "          <li class=\"txt-items\">\n",
      "           ...\n",
      "          </li>\n",
      "         </ul>\n",
      "         <p class=\"txt-location\">\n",
      "          Belo Horizonte - MG\n",
      "         </p>\n",
      "        </div>\n",
      "        <div class=\"col-md-3 value-card\">\n",
      "         <div class=\"value\">\n",
      "          <p class=\"txt-value\">\n",
      "           R$ 239.000\n",
      "          </p>\n",
      "         </div>\n",
      "        </div>\n",
      "       </div>\n",
      "       <div class=\"well card\">\n",
      "        <div class=\"col-md-3 image-card\">\n",
      "         <img alt=\"Foto\" height=\"155\" src=\"https://caelum-online-public.s3.amazonaws.com/1381-scraping/01/img-cars/tvr/tvr-2943925__340.jpg\" width=\"220\"/>\n",
      "        </div>\n",
      "        <div class=\"col-md-6 body-card\">\n",
      "         <p class=\"txt-name inline\">\n",
      "          TVR\n",
      "         </p>\n",
      "         <p class=\"txt-category badge badge-secondary inline\">\n",
      "          USADO\n",
      "         </p>\n",
      "         <p class=\"txt-motor\">\n",
      "          Motor 4.0 Turbo\n",
      "         </p>\n",
      "         <p class=\"txt-description\">\n",
      "          Ano 2014 - 17.778 km\n",
      "         </p>\n",
      "         <ul class=\"lst-items\">\n",
      "          <li class=\"txt-items\">\n",
      "           ► 4 X 4\n",
      "          </li>\n",
      "          <li class=\"txt-items\">\n",
      "           ► Teto panorâmico\n",
      "          </li>\n",
      "          <li class=\"txt-items\">\n",
      "           ► Central multimídia\n",
      "          </li>\n",
      "          <li class=\"txt-items\">\n",
      "           ► Controle de estabilidade\n",
      "          </li>\n",
      "          <li class=\"txt-items\">\n",
      "           ...\n",
      "          </li>\n",
      "         </ul>\n",
      "         <p class=\"txt-location\">\n",
      "          Belo Horizonte - MG\n",
      "         </p>\n",
      "        </div>\n",
      "        <div class=\"col-md-3 value-card\">\n",
      "         <div class=\"value\">\n",
      "          <p class=\"txt-value\">\n",
      "           R$ 115.000\n",
      "          </p>\n",
      "         </div>\n",
      "        </div>\n",
      "       </div>\n",
      "       <div class=\"well card\">\n",
      "        <div class=\"col-md-3 image-card\">\n",
      "         <img alt=\"Foto\" height=\"155\" src=\"https://caelum-online-public.s3.amazonaws.com/1381-scraping/01/img-cars/excalibur/excalibur-2916730__340.jpg\" width=\"220\"/>\n",
      "        </div>\n",
      "        <div class=\"col-md-6 body-card\">\n",
      "         <p class=\"txt-name inline\">\n",
      "          EXCALIBUR\n",
      "         </p>\n",
      "         <p class=\"txt-category badge badge-secondary inline\">\n",
      "          USADO\n",
      "         </p>\n",
      "         <p class=\"txt-motor\">\n",
      "          Motor 3.0 32v\n",
      "         </p>\n",
      "         <p class=\"txt-description\">\n",
      "          Ano 2009 - 81.251 km\n",
      "         </p>\n",
      "         <ul class=\"lst-items\">\n",
      "          <li class=\"txt-items\">\n",
      "           ► Painel digital\n",
      "          </li>\n",
      "          <li class=\"txt-items\">\n",
      "           ► Câmbio automático\n",
      "          </li>\n",
      "          <li class=\"txt-items\">\n",
      "           ► Sensor de chuva\n",
      "          </li>\n",
      "          <li class=\"txt-items\">\n",
      "           ► Travas elétricas\n",
      "          </li>\n",
      "          <li class=\"txt-items\">\n",
      "           ...\n",
      "          </li>\n",
      "         </ul>\n",
      "         <p class=\"txt-location\">\n",
      "          Rio de Janeiro - RJ\n",
      "         </p>\n",
      "        </div>\n",
      "        <div class=\"col-md-3 value-card\">\n",
      "         <div class=\"value\">\n",
      "          <p class=\"txt-value\">\n",
      "           R$ 114.000\n",
      "          </p>\n",
      "         </div>\n",
      "        </div>\n",
      "       </div>\n",
      "       <div class=\"well card\">\n",
      "        <div class=\"col-md-3 image-card\">\n",
      "         <img alt=\"Foto\" height=\"155\" src=\"https://caelum-online-public.s3.amazonaws.com/1381-scraping/01/img-cars/mclaren/mclaren-2855240__340.jpg\" width=\"220\"/>\n",
      "        </div>\n",
      "        <div class=\"col-md-6 body-card\">\n",
      "         <p class=\"txt-name inline\">\n",
      "          MCLAREN\n",
      "         </p>\n",
      "         <p class=\"txt-category badge badge-secondary inline\">\n",
      "          NOVO\n",
      "         </p>\n",
      "         <p class=\"txt-motor\">\n",
      "          Motor Diesel\n",
      "         </p>\n",
      "         <p class=\"txt-description\">\n",
      "          Ano 2019 - 0 km\n",
      "         </p>\n",
      "         <ul class=\"lst-items\">\n",
      "          <li class=\"txt-items\">\n",
      "           ► Central multimídia\n",
      "          </li>\n",
      "          <li class=\"txt-items\">\n",
      "           ► Câmera de estacionamento\n",
      "          </li>\n",
      "          <li class=\"txt-items\">\n",
      "           ► Câmbio automático\n",
      "          </li>\n",
      "          <li class=\"txt-items\">\n",
      "           ► Ar condicionado\n",
      "          </li>\n",
      "          <li class=\"txt-items\">\n",
      "           ...\n",
      "          </li>\n",
      "         </ul>\n",
      "         <p class=\"txt-location\">\n",
      "          São Paulo - SP\n",
      "         </p>\n",
      "        </div>\n",
      "        <div class=\"col-md-3 value-card\">\n",
      "         <div class=\"value\">\n",
      "          <p class=\"txt-value\">\n",
      "           R$ 75.000\n",
      "          </p>\n",
      "         </div>\n",
      "        </div>\n",
      "       </div>\n",
      "       <div class=\"well card\">\n",
      "        <div class=\"col-md-3 image-card\">\n",
      "         <img alt=\"Foto\" height=\"155\" src=\"https://caelum-online-public.s3.amazonaws.com/1381-scraping/01/img-cars/toyota/toyota-3245397__340.jpg\" width=\"220\"/>\n",
      "        </div>\n",
      "        <div class=\"col-md-6 body-card\">\n",
      "         <p class=\"txt-name inline\">\n",
      "          TOYOTA\n",
      "         </p>\n",
      "         <p class=\"txt-category badge badge-secondary inline\">\n",
      "          USADO\n",
      "         </p>\n",
      "         <p class=\"txt-opportunity badge badge-danger inline\">\n",
      "          OPORTUNIDADE\n",
      "         </p>\n",
      "         <p class=\"txt-motor\">\n",
      "          Motor 4.0 Turbo\n",
      "         </p>\n",
      "         <p class=\"txt-description\">\n",
      "          Ano 1999 - 12.536 km\n",
      "         </p>\n",
      "         <ul class=\"lst-items\">\n",
      "          <li class=\"txt-items\">\n",
      "           ► Bancos de couro\n",
      "          </li>\n",
      "          <li class=\"txt-items\">\n",
      "           ► Freios ABS\n",
      "          </li>\n",
      "          <li class=\"txt-items\">\n",
      "           ► Piloto automático\n",
      "          </li>\n",
      "          <li class=\"txt-items\">\n",
      "           ► Controle de estabilidade\n",
      "          </li>\n",
      "          <li class=\"txt-items\">\n",
      "           ...\n",
      "          </li>\n",
      "         </ul>\n",
      "         <p class=\"txt-location\">\n",
      "          São Paulo - SP\n",
      "         </p>\n",
      "        </div>\n",
      "        <div class=\"col-md-3 value-card\">\n",
      "         <div class=\"value\">\n",
      "          <p class=\"txt-value\">\n",
      "           R$ 117.000\n",
      "          </p>\n",
      "         </div>\n",
      "        </div>\n",
      "       </div>\n",
      "      </div>\n",
      "      <div class=\"type-select\">\n",
      "       246 veículos encontrados\n",
      "      </div>\n",
      "      <div class=\"container-pagination\" style=\"float: right\">\n",
      "       <span class=\"info-pages\">\n",
      "        Página 1 de 25\n",
      "       </span>\n",
      "      </div>\n",
      "     </div>\n",
      "    </div>\n",
      "   </div>\n",
      "  </div>\n",
      "  <footer>\n",
      "   <nav class=\"navbar navbar-inverse\">\n",
      "    <div class=\"container\" style=\"margin-bottom: 10px;\">\n",
      "     <div class=\"navbar\">\n",
      "      <a class=\"navbar-brand\" href=\"./index.php\" title=\"Alura Motors\">\n",
      "       <img alt=\"Alura\" class=\"d-inline-block align-top\" src=\"img/alura-logo.svg\"/>\n",
      "       Motors\n",
      "      </a>\n",
      "      <p style=\"color: #fff; text-align: center; margin-top: 40px;\">\n",
      "       Aplicação para treinamento de web scraping\n",
      "      </p>\n",
      "     </div>\n",
      "    </div>\n",
      "   </nav>\n",
      "  </footer>\n",
      " </body>\n",
      "</html>\n"
     ]
    }
   ],
   "source": [
    "print(soup.prettify())"
   ]
  },
  {
   "cell_type": "markdown",
   "metadata": {},
   "source": [
    "# 3.3. Acessando tags"
   ]
  },
  {
   "cell_type": "code",
   "execution_count": 18,
   "metadata": {},
   "outputs": [
    {
     "data": {
      "text/plain": [
       "<html lang=\"pt-br\"><head><meta charset=\"utf-8\"/><meta content=\"width=device-width, initial-scale=1, shrink-to-fit=no\" name=\"viewport\"/><title>Alura Motors</title><style> /*Regra para a animacao*/ @keyframes spin { 0% { transform: rotate(0deg); } 100% { transform: rotate(360deg); } } /*Mudando o tamanho do icone de resposta*/ div.glyphicon { color:#6B8E23; font-size: 38px; } /*Classe que mostra a animacao 'spin'*/ .loader { border: 16px solid #f3f3f3; border-radius: 50%; border-top: 16px solid #3498db; width: 80px; height: 80px; -webkit-animation: spin 2s linear infinite; animation: spin 2s linear infinite; } </style><link crossorigin=\"anonymous\" href=\"https://maxcdn.bootstrapcdn.com/bootstrap/3.3.7/css/bootstrap.min.css\" integrity=\"sha384-BVYiiSIFeK1dGmJRAkycuHAHRg32OmUcww7on3RYdg4Va+PmSTsz/K68vbdEjh4u\" rel=\"stylesheet\"/><link href=\"css/styles.css\" media=\"all\" rel=\"stylesheet\"/><script src=\"https://code.jquery.com/jquery-1.12.4.js\"></script><script crossorigin=\"anonymous\" integrity=\"sha384-Tc5IQib027qvyjSMfHjOMaLkfuWVxZxUPnCJA7l2mCWNIpG9mGCD8wGNIcPD7Txa\" src=\"https://maxcdn.bootstrapcdn.com/bootstrap/3.3.7/js/bootstrap.min.js\"></script><script src=\"js/index.js\" type=\"text/javascript\"></script><script> requisitar(\"https://alura-scraping.herokuapp.com/produtos?_page=\"+1+\"&_limit=10\") </script></head><body cz-shortcut-listen=\"true\"><noscript>You need to enable JavaScript to run this app.</noscript><div aria-labelledby=\"loadingModal_label\" class=\"modal fade\" data-backdrop=\"static\" id=\"loadingModal\" role=\"dialog\" tabindex=\"-1\"><div class=\"modal-dialog\" role=\"document\"><div class=\"modal-content\"><div class=\"modal-header\"><h5 class=\"modal-title\" id=\"loadingModal_label\"><span class=\"glyphicon glyphicon-refresh\"></span>Aguarde... </h5></div><div class=\"modal-body\"><div class=\"alert\" role=\"alert\"><center><div class=\"loader\" id=\"loader\"></div><br/><h4><b id=\"loadingModal_content\"></b></h4></center></div></div></div></div></div><div id=\"root\"><header><nav class=\"navbar navbar-inverse\" style=\"margin-bottom: 0;\"><div class=\"container\" style=\"margin-bottom: -20px;\"><div class=\"navbar\"><a class=\"navbar-brand\" href=\"./index.php\" title=\"Alura Motors\"><img alt=\"Alura\" class=\"d-inline-block align-top\" src=\"img/alura-logo.svg\"/>Motors </a><ul class=\"nav navbar-nav\" style=\"margin-top: 35px;\"><li><a href=\"./hello-world.php\">Hello World</a></li><li><a href=\"./index.php\">Anúncios</a></li></ul></div></div></nav></header><div class=\"container\"><h1 class=\"sub-header\">Veículos de Luxo Novos e Usados - Todas as Marcas</h1><div class=\"row\"><div class=\"col-md-12\"><div class=\"container\" style=\"width: 100%\"><div class=\"type-select\">246 veículos encontrados</div><div class=\"container-pagination\" style=\"float: right\"><span class=\"info-pages\">Página 1 de 25</span></div></div><div id=\"container-cards\" style=\"height: 100%\"><div class=\"well card\"><div class=\"col-md-3 image-card\"><img alt=\"Foto\" height=\"155\" src=\"https://caelum-online-public.s3.amazonaws.com/1381-scraping/01/img-cars/lamborghini-aventador/lamborghini-aventador-2932196__340.jpg\" width=\"220\"/></div><div class=\"col-md-6 body-card\"><p class=\"txt-name inline\">LAMBORGHINI AVENTADOR</p><p class=\"txt-category badge badge-secondary inline\">USADO</p><p class=\"txt-motor\">Motor 1.8 16v</p><p class=\"txt-description\">Ano 1993 - 55.286 km</p><ul class=\"lst-items\"><li class=\"txt-items\">► 4 X 4</li><li class=\"txt-items\">► Câmera de estacionamento</li><li class=\"txt-items\">► Controle de tração</li><li class=\"txt-items\">► Sensor de estacionamento</li><li class=\"txt-items\">...</li></ul><p class=\"txt-location\">Belo Horizonte - MG</p></div><div class=\"col-md-3 value-card\"><div class=\"value\"><p class=\"txt-value\">R$ 338.000</p></div></div></div><div class=\"well card\"><div class=\"col-md-3 image-card\"><img alt=\"Foto\" height=\"155\" src=\"https://caelum-online-public.s3.amazonaws.com/1381-scraping/01/img-cars/bmw-m2/bmw-m2-2970882__340.jpg\" width=\"220\"/></div><div class=\"col-md-6 body-card\"><p class=\"txt-name inline\">BMW M2</p><p class=\"txt-category badge badge-secondary inline\">USADO</p><p class=\"txt-motor\">Motor 3.0 32v</p><p class=\"txt-description\">Ano 2018 - 83.447 km</p><ul class=\"lst-items\"><li class=\"txt-items\">► Câmera de estacionamento</li><li class=\"txt-items\">► Controle de estabilidade</li><li class=\"txt-items\">► Travas elétricas</li><li class=\"txt-items\">► Freios ABS</li><li class=\"txt-items\">...</li></ul><p class=\"txt-location\">Belo Horizonte - MG</p></div><div class=\"col-md-3 value-card\"><div class=\"value\"><p class=\"txt-value\">R$ 346.000</p></div></div></div><div class=\"well card\"><div class=\"col-md-3 image-card\"><img alt=\"Foto\" height=\"155\" src=\"https://caelum-online-public.s3.amazonaws.com/1381-scraping/01/img-cars/alfa/alfa-1823056__340.jpg\" width=\"220\"/></div><div class=\"col-md-6 body-card\"><p class=\"txt-name inline\">ALFA</p><p class=\"txt-category badge badge-secondary inline\">USADO</p><p class=\"txt-motor\">Motor 1.8 16v</p><p class=\"txt-description\">Ano 2004 - 19.722 km</p><ul class=\"lst-items\"><li class=\"txt-items\">► Central multimídia</li><li class=\"txt-items\">► Bancos de couro</li><li class=\"txt-items\">► Rodas de liga</li><li class=\"txt-items\">► Câmera de estacionamento</li><li class=\"txt-items\">...</li></ul><p class=\"txt-location\">Rio de Janeiro - RJ</p></div><div class=\"col-md-3 value-card\"><div class=\"value\"><p class=\"txt-value\">R$ 480.000</p></div></div></div><div class=\"well card\"><div class=\"col-md-3 image-card\"><img alt=\"Foto\" height=\"155\" src=\"https://caelum-online-public.s3.amazonaws.com/1381-scraping/01/img-cars/puech/puech-4055386__340.jpg\" width=\"220\"/></div><div class=\"col-md-6 body-card\"><p class=\"txt-name inline\">PUECH</p><p class=\"txt-category badge badge-secondary inline\">USADO</p><p class=\"txt-motor\">Motor Diesel V8</p><p class=\"txt-description\">Ano 1992 - 34.335 km</p><ul class=\"lst-items\"><li class=\"txt-items\">► Bancos de couro</li><li class=\"txt-items\">► Freios ABS</li><li class=\"txt-items\">► Rodas de liga</li><li class=\"txt-items\">► Câmbio automático</li><li class=\"txt-items\">...</li></ul><p class=\"txt-location\">São Paulo - SP</p></div><div class=\"col-md-3 value-card\"><div class=\"value\"><p class=\"txt-value\">R$ 133.000</p></div></div></div><div class=\"well card\"><div class=\"col-md-3 image-card\"><img alt=\"Foto\" height=\"155\" src=\"https://caelum-online-public.s3.amazonaws.com/1381-scraping/01/img-cars/lamborghini-murcielago/lamborghini-murcielago-2872974__340.jpg\" width=\"220\"/></div><div class=\"col-md-6 body-card\"><p class=\"txt-name inline\">LAMBORGHINI MURCIELAGO</p><p class=\"txt-category badge badge-secondary inline\">USADO</p><p class=\"txt-motor\">Motor 1.0 8v</p><p class=\"txt-description\">Ano 1991 - 464 km</p><ul class=\"lst-items\"><li class=\"txt-items\">► Central multimídia</li><li class=\"txt-items\">► Teto panorâmico</li><li class=\"txt-items\">► Sensor crepuscular</li><li class=\"txt-items\">► Piloto automático</li><li class=\"txt-items\">...</li></ul><p class=\"txt-location\">Belo Horizonte - MG</p></div><div class=\"col-md-3 value-card\"><div class=\"value\"><p class=\"txt-value\">R$ 175.000</p></div></div></div><div class=\"well card\"><div class=\"col-md-3 image-card\"><img alt=\"Foto\" height=\"155\" src=\"https://caelum-online-public.s3.amazonaws.com/1381-scraping/01/img-cars/aston-martin/aston-martin-2977916__340.jpg\" width=\"220\"/></div><div class=\"col-md-6 body-card\"><p class=\"txt-name inline\">ASTON MARTIN</p><p class=\"txt-category badge badge-secondary inline\">USADO</p><p class=\"txt-opportunity badge badge-danger inline\">OPORTUNIDADE</p><p class=\"txt-motor\">Motor Diesel V6</p><p class=\"txt-description\">Ano 2004 - 50.189 km</p><ul class=\"lst-items\"><li class=\"txt-items\">► Painel digital</li><li class=\"txt-items\">► Controle de tração</li><li class=\"txt-items\">► Teto panorâmico</li><li class=\"txt-items\">► Central multimídia</li><li class=\"txt-items\">...</li></ul><p class=\"txt-location\">Belo Horizonte - MG</p></div><div class=\"col-md-3 value-card\"><div class=\"value\"><p class=\"txt-value\">R$ 239.000</p></div></div></div><div class=\"well card\"><div class=\"col-md-3 image-card\"><img alt=\"Foto\" height=\"155\" src=\"https://caelum-online-public.s3.amazonaws.com/1381-scraping/01/img-cars/tvr/tvr-2943925__340.jpg\" width=\"220\"/></div><div class=\"col-md-6 body-card\"><p class=\"txt-name inline\">TVR</p><p class=\"txt-category badge badge-secondary inline\">USADO</p><p class=\"txt-motor\">Motor 4.0 Turbo</p><p class=\"txt-description\">Ano 2014 - 17.778 km</p><ul class=\"lst-items\"><li class=\"txt-items\">► 4 X 4</li><li class=\"txt-items\">► Teto panorâmico</li><li class=\"txt-items\">► Central multimídia</li><li class=\"txt-items\">► Controle de estabilidade</li><li class=\"txt-items\">...</li></ul><p class=\"txt-location\">Belo Horizonte - MG</p></div><div class=\"col-md-3 value-card\"><div class=\"value\"><p class=\"txt-value\">R$ 115.000</p></div></div></div><div class=\"well card\"><div class=\"col-md-3 image-card\"><img alt=\"Foto\" height=\"155\" src=\"https://caelum-online-public.s3.amazonaws.com/1381-scraping/01/img-cars/excalibur/excalibur-2916730__340.jpg\" width=\"220\"/></div><div class=\"col-md-6 body-card\"><p class=\"txt-name inline\">EXCALIBUR</p><p class=\"txt-category badge badge-secondary inline\">USADO</p><p class=\"txt-motor\">Motor 3.0 32v</p><p class=\"txt-description\">Ano 2009 - 81.251 km</p><ul class=\"lst-items\"><li class=\"txt-items\">► Painel digital</li><li class=\"txt-items\">► Câmbio automático</li><li class=\"txt-items\">► Sensor de chuva</li><li class=\"txt-items\">► Travas elétricas</li><li class=\"txt-items\">...</li></ul><p class=\"txt-location\">Rio de Janeiro - RJ</p></div><div class=\"col-md-3 value-card\"><div class=\"value\"><p class=\"txt-value\">R$ 114.000</p></div></div></div><div class=\"well card\"><div class=\"col-md-3 image-card\"><img alt=\"Foto\" height=\"155\" src=\"https://caelum-online-public.s3.amazonaws.com/1381-scraping/01/img-cars/mclaren/mclaren-2855240__340.jpg\" width=\"220\"/></div><div class=\"col-md-6 body-card\"><p class=\"txt-name inline\">MCLAREN</p><p class=\"txt-category badge badge-secondary inline\">NOVO</p><p class=\"txt-motor\">Motor Diesel</p><p class=\"txt-description\">Ano 2019 - 0 km</p><ul class=\"lst-items\"><li class=\"txt-items\">► Central multimídia</li><li class=\"txt-items\">► Câmera de estacionamento</li><li class=\"txt-items\">► Câmbio automático</li><li class=\"txt-items\">► Ar condicionado</li><li class=\"txt-items\">...</li></ul><p class=\"txt-location\">São Paulo - SP</p></div><div class=\"col-md-3 value-card\"><div class=\"value\"><p class=\"txt-value\">R$ 75.000</p></div></div></div><div class=\"well card\"><div class=\"col-md-3 image-card\"><img alt=\"Foto\" height=\"155\" src=\"https://caelum-online-public.s3.amazonaws.com/1381-scraping/01/img-cars/toyota/toyota-3245397__340.jpg\" width=\"220\"/></div><div class=\"col-md-6 body-card\"><p class=\"txt-name inline\">TOYOTA</p><p class=\"txt-category badge badge-secondary inline\">USADO</p><p class=\"txt-opportunity badge badge-danger inline\">OPORTUNIDADE</p><p class=\"txt-motor\">Motor 4.0 Turbo</p><p class=\"txt-description\">Ano 1999 - 12.536 km</p><ul class=\"lst-items\"><li class=\"txt-items\">► Bancos de couro</li><li class=\"txt-items\">► Freios ABS</li><li class=\"txt-items\">► Piloto automático</li><li class=\"txt-items\">► Controle de estabilidade</li><li class=\"txt-items\">...</li></ul><p class=\"txt-location\">São Paulo - SP</p></div><div class=\"col-md-3 value-card\"><div class=\"value\"><p class=\"txt-value\">R$ 117.000</p></div></div></div></div><div class=\"type-select\">246 veículos encontrados</div><div class=\"container-pagination\" style=\"float: right\"><span class=\"info-pages\">Página 1 de 25</span></div></div></div></div></div><footer><nav class=\"navbar navbar-inverse\"><div class=\"container\" style=\"margin-bottom: 10px;\"><div class=\"navbar\"><a class=\"navbar-brand\" href=\"./index.php\" title=\"Alura Motors\"><img alt=\"Alura\" class=\"d-inline-block align-top\" src=\"img/alura-logo.svg\"/>Motors </a><p style=\"color: #fff; text-align: center; margin-top: 40px;\">Aplicação para treinamento de web scraping</p></div></div></nav></footer></body></html>"
      ]
     },
     "execution_count": 18,
     "metadata": {},
     "output_type": "execute_result"
    }
   ],
   "source": [
    "soup.html"
   ]
  },
  {
   "cell_type": "code",
   "execution_count": 19,
   "metadata": {},
   "outputs": [
    {
     "data": {
      "text/plain": [
       "<title>Alura Motors</title>"
      ]
     },
     "execution_count": 19,
     "metadata": {},
     "output_type": "execute_result"
    }
   ],
   "source": [
    "soup.html.head.title"
   ]
  },
  {
   "cell_type": "code",
   "execution_count": 20,
   "metadata": {},
   "outputs": [
    {
     "data": {
      "text/plain": [
       "<title>Alura Motors</title>"
      ]
     },
     "execution_count": 20,
     "metadata": {},
     "output_type": "execute_result"
    }
   ],
   "source": [
    "soup.title"
   ]
  },
  {
   "cell_type": "code",
   "execution_count": 21,
   "metadata": {},
   "outputs": [
    {
     "data": {
      "text/plain": [
       "<h5 class=\"modal-title\" id=\"loadingModal_label\"><span class=\"glyphicon glyphicon-refresh\"></span>Aguarde... </h5>"
      ]
     },
     "execution_count": 21,
     "metadata": {},
     "output_type": "execute_result"
    }
   ],
   "source": [
    "soup.div.div.div.div.h5"
   ]
  },
  {
   "cell_type": "markdown",
   "metadata": {},
   "source": [
    "# 3.4. Acessando o conteúdo das tags"
   ]
  },
  {
   "cell_type": "code",
   "execution_count": 22,
   "metadata": {},
   "outputs": [
    {
     "data": {
      "text/plain": [
       "<title>Alura Motors</title>"
      ]
     },
     "execution_count": 22,
     "metadata": {},
     "output_type": "execute_result"
    }
   ],
   "source": [
    "soup.title"
   ]
  },
  {
   "cell_type": "code",
   "execution_count": 23,
   "metadata": {},
   "outputs": [
    {
     "data": {
      "text/plain": [
       "'Alura Motors'"
      ]
     },
     "execution_count": 23,
     "metadata": {},
     "output_type": "execute_result"
    }
   ],
   "source": [
    "soup.title.get_text()"
   ]
  },
  {
   "cell_type": "code",
   "execution_count": 24,
   "metadata": {},
   "outputs": [
    {
     "data": {
      "text/plain": [
       "<h5 class=\"modal-title\" id=\"loadingModal_label\"><span class=\"glyphicon glyphicon-refresh\"></span>Aguarde... </h5>"
      ]
     },
     "execution_count": 24,
     "metadata": {},
     "output_type": "execute_result"
    }
   ],
   "source": [
    "soup.h5"
   ]
  },
  {
   "cell_type": "code",
   "execution_count": 25,
   "metadata": {},
   "outputs": [
    {
     "data": {
      "text/plain": [
       "'Aguarde... '"
      ]
     },
     "execution_count": 25,
     "metadata": {},
     "output_type": "execute_result"
    }
   ],
   "source": [
    "soup.h5.get_text()"
   ]
  },
  {
   "cell_type": "code",
   "execution_count": 26,
   "metadata": {},
   "outputs": [
    {
     "data": {
      "text/plain": [
       "'Alura MotorsYou need to enable JavaScript to run this app.Aguarde... Motors Hello WorldAnúnciosVeículos de Luxo Novos e Usados - Todas as Marcas246 veículos encontradosPágina 1 de 25LAMBORGHINI AVENTADORUSADOMotor 1.8 16vAno 1993 - 55.286 km► 4 X 4► Câmera de estacionamento► Controle de tração► Sensor de estacionamento...Belo Horizonte - MGR$ 338.000BMW M2USADOMotor 3.0 32vAno 2018 - 83.447 km► Câmera de estacionamento► Controle de estabilidade► Travas elétricas► Freios ABS...Belo Horizonte - MGR$ 346.000ALFAUSADOMotor 1.8 16vAno 2004 - 19.722 km► Central multimídia► Bancos de couro► Rodas de liga► Câmera de estacionamento...Rio de Janeiro - RJR$ 480.000PUECHUSADOMotor Diesel V8Ano 1992 - 34.335 km► Bancos de couro► Freios ABS► Rodas de liga► Câmbio automático...São Paulo - SPR$ 133.000LAMBORGHINI MURCIELAGOUSADOMotor 1.0 8vAno 1991 - 464 km► Central multimídia► Teto panorâmico► Sensor crepuscular► Piloto automático...Belo Horizonte - MGR$ 175.000ASTON MARTINUSADOOPORTUNIDADEMotor Diesel V6Ano 2004 - 50.189 km► Painel digital► Controle de tração► Teto panorâmico► Central multimídia...Belo Horizonte - MGR$ 239.000TVRUSADOMotor 4.0 TurboAno 2014 - 17.778 km► 4 X 4► Teto panorâmico► Central multimídia► Controle de estabilidade...Belo Horizonte - MGR$ 115.000EXCALIBURUSADOMotor 3.0 32vAno 2009 - 81.251 km► Painel digital► Câmbio automático► Sensor de chuva► Travas elétricas...Rio de Janeiro - RJR$ 114.000MCLARENNOVOMotor DieselAno 2019 - 0 km► Central multimídia► Câmera de estacionamento► Câmbio automático► Ar condicionado...São Paulo - SPR$ 75.000TOYOTAUSADOOPORTUNIDADEMotor 4.0 TurboAno 1999 - 12.536 km► Bancos de couro► Freios ABS► Piloto automático► Controle de estabilidade...São Paulo - SPR$ 117.000246 veículos encontradosPágina 1 de 25Motors Aplicação para treinamento de web scraping'"
      ]
     },
     "execution_count": 26,
     "metadata": {},
     "output_type": "execute_result"
    }
   ],
   "source": [
    "soup.getText()"
   ]
  },
  {
   "cell_type": "markdown",
   "metadata": {},
   "source": [
    "# 3.5. Acessando os atributos de uma tag"
   ]
  },
  {
   "cell_type": "code",
   "execution_count": 27,
   "metadata": {},
   "outputs": [
    {
     "data": {
      "text/plain": [
       "<img alt=\"Alura\" class=\"d-inline-block align-top\" src=\"img/alura-logo.svg\"/>"
      ]
     },
     "execution_count": 27,
     "metadata": {},
     "output_type": "execute_result"
    }
   ],
   "source": [
    "soup.img"
   ]
  },
  {
   "cell_type": "code",
   "execution_count": 28,
   "metadata": {},
   "outputs": [
    {
     "data": {
      "text/plain": [
       "{'src': 'img/alura-logo.svg',\n",
       " 'class': ['d-inline-block', 'align-top'],\n",
       " 'alt': 'Alura'}"
      ]
     },
     "execution_count": 28,
     "metadata": {},
     "output_type": "execute_result"
    }
   ],
   "source": [
    "soup.img.attrs"
   ]
  },
  {
   "cell_type": "code",
   "execution_count": 29,
   "metadata": {},
   "outputs": [
    {
     "data": {
      "text/plain": [
       "dict_keys(['src', 'class', 'alt'])"
      ]
     },
     "execution_count": 29,
     "metadata": {},
     "output_type": "execute_result"
    }
   ],
   "source": [
    "soup.img.attrs.keys()"
   ]
  },
  {
   "cell_type": "code",
   "execution_count": 30,
   "metadata": {},
   "outputs": [
    {
     "data": {
      "text/plain": [
       "dict_values(['img/alura-logo.svg', ['d-inline-block', 'align-top'], 'Alura'])"
      ]
     },
     "execution_count": 30,
     "metadata": {},
     "output_type": "execute_result"
    }
   ],
   "source": [
    "soup.img.attrs.values()"
   ]
  },
  {
   "cell_type": "code",
   "execution_count": 31,
   "metadata": {},
   "outputs": [
    {
     "data": {
      "text/plain": [
       "['d-inline-block', 'align-top']"
      ]
     },
     "execution_count": 31,
     "metadata": {},
     "output_type": "execute_result"
    }
   ],
   "source": [
    "soup.img['class']"
   ]
  },
  {
   "cell_type": "code",
   "execution_count": 32,
   "metadata": {},
   "outputs": [
    {
     "data": {
      "text/plain": [
       "'img/alura-logo.svg'"
      ]
     },
     "execution_count": 32,
     "metadata": {},
     "output_type": "execute_result"
    }
   ],
   "source": [
    "soup.img.get('src')"
   ]
  },
  {
   "cell_type": "markdown",
   "metadata": {},
   "source": [
    "---\n",
    "# <font color=green>4. PESQUISANDO COM O BEAUTIFULSOUP"
   ]
  },
  {
   "cell_type": "markdown",
   "metadata": {},
   "source": [
    "# 4.1. Os métodos *find()* e *findAll()*"
   ]
  },
  {
   "cell_type": "markdown",
   "metadata": {},
   "source": [
    "- ### *find(tag, attributes, recursive, text, **kwargs)*\n",
    "\n",
    "- ### *findAll(tag, attributes, recursive, text, limit, **kwargs)*\n",
    "\n",
    "#### https://www.crummy.com/software/BeautifulSoup/bs4/doc/#find\n",
    "#### https://www.crummy.com/software/BeautifulSoup/bs4/doc/#find-all\n",
    "\n",
    "> **Observação:**\n",
    "> - *findAll()* também pode ser utilizado como *find_all()*"
   ]
  },
  {
   "cell_type": "markdown",
   "metadata": {},
   "source": [
    "### Método *find()*"
   ]
  },
  {
   "cell_type": "code",
   "execution_count": 33,
   "metadata": {},
   "outputs": [
    {
     "data": {
      "text/plain": [
       "<img alt=\"Alura\" class=\"d-inline-block align-top\" src=\"img/alura-logo.svg\"/>"
      ]
     },
     "execution_count": 33,
     "metadata": {},
     "output_type": "execute_result"
    }
   ],
   "source": [
    "soup.find('img')"
   ]
  },
  {
   "cell_type": "code",
   "execution_count": 34,
   "metadata": {},
   "outputs": [
    {
     "data": {
      "text/plain": [
       "<img alt=\"Alura\" class=\"d-inline-block align-top\" src=\"img/alura-logo.svg\"/>"
      ]
     },
     "execution_count": 34,
     "metadata": {},
     "output_type": "execute_result"
    }
   ],
   "source": [
    "soup.img"
   ]
  },
  {
   "cell_type": "markdown",
   "metadata": {},
   "source": [
    "### Método *findAll()*"
   ]
  },
  {
   "cell_type": "code",
   "execution_count": 35,
   "metadata": {},
   "outputs": [
    {
     "data": {
      "text/plain": [
       "[<img alt=\"Alura\" class=\"d-inline-block align-top\" src=\"img/alura-logo.svg\"/>,\n",
       " <img alt=\"Foto\" height=\"155\" src=\"https://caelum-online-public.s3.amazonaws.com/1381-scraping/01/img-cars/lamborghini-aventador/lamborghini-aventador-2932196__340.jpg\" width=\"220\"/>,\n",
       " <img alt=\"Foto\" height=\"155\" src=\"https://caelum-online-public.s3.amazonaws.com/1381-scraping/01/img-cars/bmw-m2/bmw-m2-2970882__340.jpg\" width=\"220\"/>,\n",
       " <img alt=\"Foto\" height=\"155\" src=\"https://caelum-online-public.s3.amazonaws.com/1381-scraping/01/img-cars/alfa/alfa-1823056__340.jpg\" width=\"220\"/>,\n",
       " <img alt=\"Foto\" height=\"155\" src=\"https://caelum-online-public.s3.amazonaws.com/1381-scraping/01/img-cars/puech/puech-4055386__340.jpg\" width=\"220\"/>,\n",
       " <img alt=\"Foto\" height=\"155\" src=\"https://caelum-online-public.s3.amazonaws.com/1381-scraping/01/img-cars/lamborghini-murcielago/lamborghini-murcielago-2872974__340.jpg\" width=\"220\"/>,\n",
       " <img alt=\"Foto\" height=\"155\" src=\"https://caelum-online-public.s3.amazonaws.com/1381-scraping/01/img-cars/aston-martin/aston-martin-2977916__340.jpg\" width=\"220\"/>,\n",
       " <img alt=\"Foto\" height=\"155\" src=\"https://caelum-online-public.s3.amazonaws.com/1381-scraping/01/img-cars/tvr/tvr-2943925__340.jpg\" width=\"220\"/>,\n",
       " <img alt=\"Foto\" height=\"155\" src=\"https://caelum-online-public.s3.amazonaws.com/1381-scraping/01/img-cars/excalibur/excalibur-2916730__340.jpg\" width=\"220\"/>,\n",
       " <img alt=\"Foto\" height=\"155\" src=\"https://caelum-online-public.s3.amazonaws.com/1381-scraping/01/img-cars/mclaren/mclaren-2855240__340.jpg\" width=\"220\"/>,\n",
       " <img alt=\"Foto\" height=\"155\" src=\"https://caelum-online-public.s3.amazonaws.com/1381-scraping/01/img-cars/toyota/toyota-3245397__340.jpg\" width=\"220\"/>,\n",
       " <img alt=\"Alura\" class=\"d-inline-block align-top\" src=\"img/alura-logo.svg\"/>]"
      ]
     },
     "execution_count": 35,
     "metadata": {},
     "output_type": "execute_result"
    }
   ],
   "source": [
    "soup.findAll('img')"
   ]
  },
  {
   "cell_type": "markdown",
   "metadata": {},
   "source": [
    "### Comando equivalente ao método *find()*"
   ]
  },
  {
   "cell_type": "code",
   "execution_count": 36,
   "metadata": {},
   "outputs": [
    {
     "data": {
      "text/plain": [
       "<img alt=\"Alura\" class=\"d-inline-block align-top\" src=\"img/alura-logo.svg\"/>"
      ]
     },
     "execution_count": 36,
     "metadata": {},
     "output_type": "execute_result"
    }
   ],
   "source": [
    "soup.find_all('img',limit=1)[0]"
   ]
  },
  {
   "cell_type": "markdown",
   "metadata": {},
   "source": [
    "### Atalho para o método *findAll()*"
   ]
  },
  {
   "cell_type": "code",
   "execution_count": 37,
   "metadata": {},
   "outputs": [
    {
     "data": {
      "text/plain": [
       "[<img alt=\"Alura\" class=\"d-inline-block align-top\" src=\"img/alura-logo.svg\"/>,\n",
       " <img alt=\"Foto\" height=\"155\" src=\"https://caelum-online-public.s3.amazonaws.com/1381-scraping/01/img-cars/lamborghini-aventador/lamborghini-aventador-2932196__340.jpg\" width=\"220\"/>,\n",
       " <img alt=\"Foto\" height=\"155\" src=\"https://caelum-online-public.s3.amazonaws.com/1381-scraping/01/img-cars/bmw-m2/bmw-m2-2970882__340.jpg\" width=\"220\"/>,\n",
       " <img alt=\"Foto\" height=\"155\" src=\"https://caelum-online-public.s3.amazonaws.com/1381-scraping/01/img-cars/alfa/alfa-1823056__340.jpg\" width=\"220\"/>,\n",
       " <img alt=\"Foto\" height=\"155\" src=\"https://caelum-online-public.s3.amazonaws.com/1381-scraping/01/img-cars/puech/puech-4055386__340.jpg\" width=\"220\"/>,\n",
       " <img alt=\"Foto\" height=\"155\" src=\"https://caelum-online-public.s3.amazonaws.com/1381-scraping/01/img-cars/lamborghini-murcielago/lamborghini-murcielago-2872974__340.jpg\" width=\"220\"/>,\n",
       " <img alt=\"Foto\" height=\"155\" src=\"https://caelum-online-public.s3.amazonaws.com/1381-scraping/01/img-cars/aston-martin/aston-martin-2977916__340.jpg\" width=\"220\"/>,\n",
       " <img alt=\"Foto\" height=\"155\" src=\"https://caelum-online-public.s3.amazonaws.com/1381-scraping/01/img-cars/tvr/tvr-2943925__340.jpg\" width=\"220\"/>,\n",
       " <img alt=\"Foto\" height=\"155\" src=\"https://caelum-online-public.s3.amazonaws.com/1381-scraping/01/img-cars/excalibur/excalibur-2916730__340.jpg\" width=\"220\"/>,\n",
       " <img alt=\"Foto\" height=\"155\" src=\"https://caelum-online-public.s3.amazonaws.com/1381-scraping/01/img-cars/mclaren/mclaren-2855240__340.jpg\" width=\"220\"/>,\n",
       " <img alt=\"Foto\" height=\"155\" src=\"https://caelum-online-public.s3.amazonaws.com/1381-scraping/01/img-cars/toyota/toyota-3245397__340.jpg\" width=\"220\"/>,\n",
       " <img alt=\"Alura\" class=\"d-inline-block align-top\" src=\"img/alura-logo.svg\"/>]"
      ]
     },
     "execution_count": 37,
     "metadata": {},
     "output_type": "execute_result"
    }
   ],
   "source": [
    "soup('img')"
   ]
  },
  {
   "cell_type": "markdown",
   "metadata": {},
   "source": [
    "### Passando listas de TAGs"
   ]
  },
  {
   "cell_type": "code",
   "execution_count": 38,
   "metadata": {},
   "outputs": [
    {
     "data": {
      "text/plain": [
       "[<h5 class=\"modal-title\" id=\"loadingModal_label\"><span class=\"glyphicon glyphicon-refresh\"></span>Aguarde... </h5>,\n",
       " <h4><b id=\"loadingModal_content\"></b></h4>,\n",
       " <h1 class=\"sub-header\">Veículos de Luxo Novos e Usados - Todas as Marcas</h1>]"
      ]
     },
     "execution_count": 38,
     "metadata": {},
     "output_type": "execute_result"
    }
   ],
   "source": [
    "soup.find_all(['h1','h2','h3','h4','h5','h6'])"
   ]
  },
  {
   "cell_type": "markdown",
   "metadata": {},
   "source": [
    "### Utilizando o argumento *attributes*"
   ]
  },
  {
   "cell_type": "code",
   "execution_count": 39,
   "metadata": {
    "scrolled": true
   },
   "outputs": [
    {
     "data": {
      "text/plain": [
       "[<p class=\"txt-value\">R$ 338.000</p>,\n",
       " <p class=\"txt-value\">R$ 346.000</p>,\n",
       " <p class=\"txt-value\">R$ 480.000</p>,\n",
       " <p class=\"txt-value\">R$ 133.000</p>,\n",
       " <p class=\"txt-value\">R$ 175.000</p>,\n",
       " <p class=\"txt-value\">R$ 239.000</p>,\n",
       " <p class=\"txt-value\">R$ 115.000</p>,\n",
       " <p class=\"txt-value\">R$ 114.000</p>,\n",
       " <p class=\"txt-value\">R$ 75.000</p>,\n",
       " <p class=\"txt-value\">R$ 117.000</p>]"
      ]
     },
     "execution_count": 39,
     "metadata": {},
     "output_type": "execute_result"
    }
   ],
   "source": [
    "soup.findAll('p',{'class':\"txt-value\"})"
   ]
  },
  {
   "cell_type": "markdown",
   "metadata": {},
   "source": [
    "### Buscando por conteúdo de uma TAG"
   ]
  },
  {
   "cell_type": "code",
   "execution_count": 40,
   "metadata": {},
   "outputs": [
    {
     "data": {
      "text/plain": [
       "[<p class=\"txt-location\">Belo Horizonte - MG</p>,\n",
       " <p class=\"txt-location\">Belo Horizonte - MG</p>,\n",
       " <p class=\"txt-location\">Belo Horizonte - MG</p>,\n",
       " <p class=\"txt-location\">Belo Horizonte - MG</p>,\n",
       " <p class=\"txt-location\">Belo Horizonte - MG</p>]"
      ]
     },
     "execution_count": 40,
     "metadata": {},
     "output_type": "execute_result"
    }
   ],
   "source": [
    "soup.findAll('p',text='Belo Horizonte - MG')"
   ]
  },
  {
   "cell_type": "markdown",
   "metadata": {},
   "source": [
    "### Utilizando diretamente os atributos"
   ]
  },
  {
   "cell_type": "code",
   "execution_count": 41,
   "metadata": {},
   "outputs": [
    {
     "data": {
      "text/plain": [
       "[<img alt=\"Foto\" height=\"155\" src=\"https://caelum-online-public.s3.amazonaws.com/1381-scraping/01/img-cars/lamborghini-aventador/lamborghini-aventador-2932196__340.jpg\" width=\"220\"/>,\n",
       " <img alt=\"Foto\" height=\"155\" src=\"https://caelum-online-public.s3.amazonaws.com/1381-scraping/01/img-cars/bmw-m2/bmw-m2-2970882__340.jpg\" width=\"220\"/>,\n",
       " <img alt=\"Foto\" height=\"155\" src=\"https://caelum-online-public.s3.amazonaws.com/1381-scraping/01/img-cars/alfa/alfa-1823056__340.jpg\" width=\"220\"/>,\n",
       " <img alt=\"Foto\" height=\"155\" src=\"https://caelum-online-public.s3.amazonaws.com/1381-scraping/01/img-cars/puech/puech-4055386__340.jpg\" width=\"220\"/>,\n",
       " <img alt=\"Foto\" height=\"155\" src=\"https://caelum-online-public.s3.amazonaws.com/1381-scraping/01/img-cars/lamborghini-murcielago/lamborghini-murcielago-2872974__340.jpg\" width=\"220\"/>,\n",
       " <img alt=\"Foto\" height=\"155\" src=\"https://caelum-online-public.s3.amazonaws.com/1381-scraping/01/img-cars/aston-martin/aston-martin-2977916__340.jpg\" width=\"220\"/>,\n",
       " <img alt=\"Foto\" height=\"155\" src=\"https://caelum-online-public.s3.amazonaws.com/1381-scraping/01/img-cars/tvr/tvr-2943925__340.jpg\" width=\"220\"/>,\n",
       " <img alt=\"Foto\" height=\"155\" src=\"https://caelum-online-public.s3.amazonaws.com/1381-scraping/01/img-cars/excalibur/excalibur-2916730__340.jpg\" width=\"220\"/>,\n",
       " <img alt=\"Foto\" height=\"155\" src=\"https://caelum-online-public.s3.amazonaws.com/1381-scraping/01/img-cars/mclaren/mclaren-2855240__340.jpg\" width=\"220\"/>,\n",
       " <img alt=\"Foto\" height=\"155\" src=\"https://caelum-online-public.s3.amazonaws.com/1381-scraping/01/img-cars/toyota/toyota-3245397__340.jpg\" width=\"220\"/>]"
      ]
     },
     "execution_count": 41,
     "metadata": {},
     "output_type": "execute_result"
    }
   ],
   "source": [
    "soup.findAll('img',alt='Foto')"
   ]
  },
  {
   "cell_type": "code",
   "execution_count": 42,
   "metadata": {},
   "outputs": [
    {
     "name": "stdout",
     "output_type": "stream",
     "text": [
      "https://caelum-online-public.s3.amazonaws.com/1381-scraping/01/img-cars/lamborghini-aventador/lamborghini-aventador-2932196__340.jpg\n",
      "https://caelum-online-public.s3.amazonaws.com/1381-scraping/01/img-cars/bmw-m2/bmw-m2-2970882__340.jpg\n",
      "https://caelum-online-public.s3.amazonaws.com/1381-scraping/01/img-cars/alfa/alfa-1823056__340.jpg\n",
      "https://caelum-online-public.s3.amazonaws.com/1381-scraping/01/img-cars/puech/puech-4055386__340.jpg\n",
      "https://caelum-online-public.s3.amazonaws.com/1381-scraping/01/img-cars/lamborghini-murcielago/lamborghini-murcielago-2872974__340.jpg\n",
      "https://caelum-online-public.s3.amazonaws.com/1381-scraping/01/img-cars/aston-martin/aston-martin-2977916__340.jpg\n",
      "https://caelum-online-public.s3.amazonaws.com/1381-scraping/01/img-cars/tvr/tvr-2943925__340.jpg\n",
      "https://caelum-online-public.s3.amazonaws.com/1381-scraping/01/img-cars/excalibur/excalibur-2916730__340.jpg\n",
      "https://caelum-online-public.s3.amazonaws.com/1381-scraping/01/img-cars/mclaren/mclaren-2855240__340.jpg\n",
      "https://caelum-online-public.s3.amazonaws.com/1381-scraping/01/img-cars/toyota/toyota-3245397__340.jpg\n"
     ]
    }
   ],
   "source": [
    "for item in soup.findAll('img',alt='Foto'):\n",
    "    print(item.get('src'))"
   ]
  },
  {
   "cell_type": "markdown",
   "metadata": {},
   "source": [
    "### Cuidado com o atributo \"class\""
   ]
  },
  {
   "cell_type": "code",
   "execution_count": 43,
   "metadata": {},
   "outputs": [
    {
     "data": {
      "text/plain": [
       "[<p class=\"txt-value\">R$ 338.000</p>,\n",
       " <p class=\"txt-value\">R$ 346.000</p>,\n",
       " <p class=\"txt-value\">R$ 480.000</p>,\n",
       " <p class=\"txt-value\">R$ 133.000</p>,\n",
       " <p class=\"txt-value\">R$ 175.000</p>,\n",
       " <p class=\"txt-value\">R$ 239.000</p>,\n",
       " <p class=\"txt-value\">R$ 115.000</p>,\n",
       " <p class=\"txt-value\">R$ 114.000</p>,\n",
       " <p class=\"txt-value\">R$ 75.000</p>,\n",
       " <p class=\"txt-value\">R$ 117.000</p>]"
      ]
     },
     "execution_count": 43,
     "metadata": {},
     "output_type": "execute_result"
    }
   ],
   "source": [
    "soup.findAll('p',class_='txt-value')"
   ]
  },
  {
   "cell_type": "markdown",
   "metadata": {},
   "source": [
    "### Obtendo todo o conteúdo de texto de uma página"
   ]
  },
  {
   "cell_type": "code",
   "execution_count": 44,
   "metadata": {},
   "outputs": [
    {
     "data": {
      "text/plain": [
       "['html',\n",
       " 'Alura Motors',\n",
       " \" /*Regra para a animacao*/ @keyframes spin { 0% { transform: rotate(0deg); } 100% { transform: rotate(360deg); } } /*Mudando o tamanho do icone de resposta*/ div.glyphicon { color:#6B8E23; font-size: 38px; } /*Classe que mostra a animacao 'spin'*/ .loader { border: 16px solid #f3f3f3; border-radius: 50%; border-top: 16px solid #3498db; width: 80px; height: 80px; -webkit-animation: spin 2s linear infinite; animation: spin 2s linear infinite; } \",\n",
       " ' requisitar(\"https://alura-scraping.herokuapp.com/produtos?_page=\"+1+\"&_limit=10\") ',\n",
       " 'You need to enable JavaScript to run this app.',\n",
       " 'Aguarde... ',\n",
       " 'Motors ',\n",
       " 'Hello World',\n",
       " 'Anúncios',\n",
       " 'Veículos de Luxo Novos e Usados - Todas as Marcas',\n",
       " '246 veículos encontrados',\n",
       " 'Página 1 de 25',\n",
       " 'LAMBORGHINI AVENTADOR',\n",
       " 'USADO',\n",
       " 'Motor 1.8 16v',\n",
       " 'Ano 1993 - 55.286 km',\n",
       " '► 4 X 4',\n",
       " '► Câmera de estacionamento',\n",
       " '► Controle de tração',\n",
       " '► Sensor de estacionamento',\n",
       " '...',\n",
       " 'Belo Horizonte - MG',\n",
       " 'R$ 338.000',\n",
       " 'BMW M2',\n",
       " 'USADO',\n",
       " 'Motor 3.0 32v',\n",
       " 'Ano 2018 - 83.447 km',\n",
       " '► Câmera de estacionamento',\n",
       " '► Controle de estabilidade',\n",
       " '► Travas elétricas',\n",
       " '► Freios ABS',\n",
       " '...',\n",
       " 'Belo Horizonte - MG',\n",
       " 'R$ 346.000',\n",
       " 'ALFA',\n",
       " 'USADO',\n",
       " 'Motor 1.8 16v',\n",
       " 'Ano 2004 - 19.722 km',\n",
       " '► Central multimídia',\n",
       " '► Bancos de couro',\n",
       " '► Rodas de liga',\n",
       " '► Câmera de estacionamento',\n",
       " '...',\n",
       " 'Rio de Janeiro - RJ',\n",
       " 'R$ 480.000',\n",
       " 'PUECH',\n",
       " 'USADO',\n",
       " 'Motor Diesel V8',\n",
       " 'Ano 1992 - 34.335 km',\n",
       " '► Bancos de couro',\n",
       " '► Freios ABS',\n",
       " '► Rodas de liga',\n",
       " '► Câmbio automático',\n",
       " '...',\n",
       " 'São Paulo - SP',\n",
       " 'R$ 133.000',\n",
       " 'LAMBORGHINI MURCIELAGO',\n",
       " 'USADO',\n",
       " 'Motor 1.0 8v',\n",
       " 'Ano 1991 - 464 km',\n",
       " '► Central multimídia',\n",
       " '► Teto panorâmico',\n",
       " '► Sensor crepuscular',\n",
       " '► Piloto automático',\n",
       " '...',\n",
       " 'Belo Horizonte - MG',\n",
       " 'R$ 175.000',\n",
       " 'ASTON MARTIN',\n",
       " 'USADO',\n",
       " 'OPORTUNIDADE',\n",
       " 'Motor Diesel V6',\n",
       " 'Ano 2004 - 50.189 km',\n",
       " '► Painel digital',\n",
       " '► Controle de tração',\n",
       " '► Teto panorâmico',\n",
       " '► Central multimídia',\n",
       " '...',\n",
       " 'Belo Horizonte - MG',\n",
       " 'R$ 239.000',\n",
       " 'TVR',\n",
       " 'USADO',\n",
       " 'Motor 4.0 Turbo',\n",
       " 'Ano 2014 - 17.778 km',\n",
       " '► 4 X 4',\n",
       " '► Teto panorâmico',\n",
       " '► Central multimídia',\n",
       " '► Controle de estabilidade',\n",
       " '...',\n",
       " 'Belo Horizonte - MG',\n",
       " 'R$ 115.000',\n",
       " 'EXCALIBUR',\n",
       " 'USADO',\n",
       " 'Motor 3.0 32v',\n",
       " 'Ano 2009 - 81.251 km',\n",
       " '► Painel digital',\n",
       " '► Câmbio automático',\n",
       " '► Sensor de chuva',\n",
       " '► Travas elétricas',\n",
       " '...',\n",
       " 'Rio de Janeiro - RJ',\n",
       " 'R$ 114.000',\n",
       " 'MCLAREN',\n",
       " 'NOVO',\n",
       " 'Motor Diesel',\n",
       " 'Ano 2019 - 0 km',\n",
       " '► Central multimídia',\n",
       " '► Câmera de estacionamento',\n",
       " '► Câmbio automático',\n",
       " '► Ar condicionado',\n",
       " '...',\n",
       " 'São Paulo - SP',\n",
       " 'R$ 75.000',\n",
       " 'TOYOTA',\n",
       " 'USADO',\n",
       " 'OPORTUNIDADE',\n",
       " 'Motor 4.0 Turbo',\n",
       " 'Ano 1999 - 12.536 km',\n",
       " '► Bancos de couro',\n",
       " '► Freios ABS',\n",
       " '► Piloto automático',\n",
       " '► Controle de estabilidade',\n",
       " '...',\n",
       " 'São Paulo - SP',\n",
       " 'R$ 117.000',\n",
       " '246 veículos encontrados',\n",
       " 'Página 1 de 25',\n",
       " 'Motors ',\n",
       " 'Aplicação para treinamento de web scraping']"
      ]
     },
     "execution_count": 44,
     "metadata": {},
     "output_type": "execute_result"
    }
   ],
   "source": [
    "soup.findAll(text=True)"
   ]
  },
  {
   "cell_type": "markdown",
   "metadata": {},
   "source": [
    "# 4.2. Outros métodos de pesquisa"
   ]
  },
  {
   "cell_type": "markdown",
   "metadata": {},
   "source": [
    "- ### *findParent(tag, attributes, text, **kwargs)*\n",
    "\n",
    "- ### *findParents(tag, attributes, text, limit, **kwargs)*\n",
    "\n",
    "#### https://www.crummy.com/software/BeautifulSoup/bs4/doc/#find-parents-and-find-parent\n",
    "\n",
    "> **Observação:**\n",
    "> - *findParent()* e *findParents()* também podem ser utilizados como *find_parent()* e *find_parents()*, respectivamente.\n",
    "---\n",
    "- ### *findNextSibling(tag, attributes, text, **kwargs)*\n",
    "\n",
    "- ### *findNextSiblings(tag, attributes, text, limit, **kwargs)*\n",
    "\n",
    "- ### *findPreviousSibling(tag, attributes, text, **kwargs)*\n",
    "\n",
    "- ### *findPreviousSiblings(tag, attributes, text, limit, **kwargs)*\n",
    "\n",
    "#### https://www.crummy.com/software/BeautifulSoup/bs4/doc/#find-next-siblings-and-find-next-sibling\n",
    "#### https://www.crummy.com/software/BeautifulSoup/bs4/doc/#find-previous-siblings-and-find-previous-sibling\n",
    "\n",
    "> **Observação:**\n",
    "> - *findNextSibling()*, *findNextSiblings()*, *findPreviousSibling()* e *findPreviousSiblings()* também podem ser utilizados como *find_next_sibling()*, *find_next_siblings()*, *find_previous_sibling()* e *find_previous_siblings()*, respectivamente.\n",
    "---\n",
    "- ### *findNext(tag, attributes, text, **kwargs)*\n",
    "\n",
    "- ### *findAllNext(tag, attributes, text, limit, **kwargs)*\n",
    "\n",
    "- ### *findPrevious(tag, attributes, text, **kwargs)*\n",
    "\n",
    "- ### *findAllPrevious(tag, attributes, text, limit, **kwargs)*\n",
    "\n",
    "#### https://www.crummy.com/software/BeautifulSoup/bs4/doc/#find-all-next-and-find-next\n",
    "#### https://www.crummy.com/software/BeautifulSoup/bs4/doc/#find-all-previous-and-find-previous\n",
    "\n",
    "> **Observação:**\n",
    "> - *findNext()*, *findAllNext()*, *findPrevious* e *findAllPrevious* também podem ser utilizados como *find_next()*, *find_all_next()*, *find_previous()* e *find_all_previous()*, respectivamente."
   ]
  },
  {
   "cell_type": "markdown",
   "metadata": {},
   "source": [
    "## HTML de exemplo para ilustrar a utilização dos métodos de pesquisa do BeautifulSoup"
   ]
  },
  {
   "cell_type": "markdown",
   "metadata": {},
   "source": [
    "<img src=\"https://caelum-online-public.s3.amazonaws.com/1381-scraping/01/BeautifulSoup-method.png\" width=80%>"
   ]
  },
  {
   "cell_type": "markdown",
   "metadata": {},
   "source": [
    "---\n",
    "## Resultado"
   ]
  },
  {
   "cell_type": "markdown",
   "metadata": {},
   "source": [
    "<html>\n",
    "    <body>\n",
    "        <div id=“container-a”>\n",
    "            <h1>Título A</h1>\n",
    "            <h2 class=\"ref-a\">Sub título A</h2>\n",
    "            <p>Texto de conteúdo A</p>\n",
    "        </div>\n",
    "        <div id=“container-b”>\n",
    "            <h1>Título B</h1>\n",
    "            <h2 class=\"ref-b\">Sub título B</h2>\n",
    "            <p>Texto de conteúdo B</p>\n",
    "        </div>\n",
    "    </body>\n",
    "</html>"
   ]
  },
  {
   "cell_type": "code",
   "execution_count": 45,
   "metadata": {},
   "outputs": [],
   "source": [
    "html_teste = \"\"\"\n",
    "<html>\n",
    "    <body>\n",
    "        <div id=“container-a”>\n",
    "            <h1>Título A</h1>\n",
    "            <h2 class=\"ref-a\">Sub título A</h2>\n",
    "            <p>Texto de conteúdo A</p>\n",
    "        </div>\n",
    "        <div id=“container-b”>\n",
    "            <h1>Título B</h1>\n",
    "            <h2 class=\"ref-b\">Sub título B</h2>\n",
    "            <p>Texto de conteúdo B</p>\n",
    "        </div>\n",
    "    </body>\n",
    "</html>\n",
    "\"\"\""
   ]
  },
  {
   "cell_type": "markdown",
   "metadata": {},
   "source": [
    "### Tratamentos para a string HTML"
   ]
  },
  {
   "cell_type": "code",
   "execution_count": 46,
   "metadata": {},
   "outputs": [
    {
     "data": {
      "text/plain": [
       "'\\n<html>\\n    <body>\\n        <div id=“container-a”>\\n            <h1>Título A</h1>\\n            <h2 class=\"ref-a\">Sub título A</h2>\\n            <p>Texto de conteúdo A</p>\\n        </div>\\n        <div id=“container-b”>\\n            <h1>Título B</h1>\\n            <h2 class=\"ref-b\">Sub título B</h2>\\n            <p>Texto de conteúdo B</p>\\n        </div>\\n    </body>\\n</html>\\n'"
      ]
     },
     "execution_count": 46,
     "metadata": {},
     "output_type": "execute_result"
    }
   ],
   "source": [
    "html_teste"
   ]
  },
  {
   "cell_type": "code",
   "execution_count": 47,
   "metadata": {},
   "outputs": [
    {
     "data": {
      "text/plain": [
       "'<html><body><div id=“container-a”><h1>Título A</h1><h2 class=\"ref-a\">Sub título A</h2><p>Texto de conteúdo A</p></div><div id=“container-b”><h1>Título B</h1><h2 class=\"ref-b\">Sub título B</h2><p>Texto de conteúdo B</p></div></body></html>'"
      ]
     },
     "execution_count": 47,
     "metadata": {},
     "output_type": "execute_result"
    }
   ],
   "source": [
    "trata_html(html_teste)"
   ]
  },
  {
   "cell_type": "markdown",
   "metadata": {},
   "source": [
    "### Criando o objeto BeautifulSoup"
   ]
  },
  {
   "cell_type": "code",
   "execution_count": 48,
   "metadata": {
    "scrolled": true
   },
   "outputs": [
    {
     "data": {
      "text/plain": [
       "\n",
       "<html>\n",
       "<body>\n",
       "<div id=\"“container-a”\">\n",
       "<h1>Título A</h1>\n",
       "<h2 class=\"ref-a\">Sub título A</h2>\n",
       "<p>Texto de conteúdo A</p>\n",
       "</div>\n",
       "<div id=\"“container-b”\">\n",
       "<h1>Título B</h1>\n",
       "<h2 class=\"ref-b\">Sub título B</h2>\n",
       "<p>Texto de conteúdo B</p>\n",
       "</div>\n",
       "</body>\n",
       "</html>"
      ]
     },
     "execution_count": 48,
     "metadata": {},
     "output_type": "execute_result"
    }
   ],
   "source": [
    "soup_teste = BeautifulSoup(html_teste, 'html.parser')\n",
    "soup_teste"
   ]
  },
  {
   "cell_type": "markdown",
   "metadata": {},
   "source": [
    "### Parents"
   ]
  },
  {
   "cell_type": "code",
   "execution_count": 49,
   "metadata": {},
   "outputs": [
    {
     "data": {
      "text/plain": [
       "<h2 class=\"ref-a\">Sub título A</h2>"
      ]
     },
     "execution_count": 49,
     "metadata": {},
     "output_type": "execute_result"
    }
   ],
   "source": [
    "soup_teste.find('h2')"
   ]
  },
  {
   "cell_type": "code",
   "execution_count": 50,
   "metadata": {},
   "outputs": [
    {
     "data": {
      "text/plain": [
       "<div id=\"“container-a”\">\n",
       "<h1>Título A</h1>\n",
       "<h2 class=\"ref-a\">Sub título A</h2>\n",
       "<p>Texto de conteúdo A</p>\n",
       "</div>"
      ]
     },
     "execution_count": 50,
     "metadata": {},
     "output_type": "execute_result"
    }
   ],
   "source": [
    "soup_teste.find('h2').find_parent('div')"
   ]
  },
  {
   "cell_type": "code",
   "execution_count": 51,
   "metadata": {},
   "outputs": [
    {
     "data": {
      "text/plain": [
       "[<div id=\"“container-a”\">\n",
       " <h1>Título A</h1>\n",
       " <h2 class=\"ref-a\">Sub título A</h2>\n",
       " <p>Texto de conteúdo A</p>\n",
       " </div>,\n",
       " <body>\n",
       " <div id=\"“container-a”\">\n",
       " <h1>Título A</h1>\n",
       " <h2 class=\"ref-a\">Sub título A</h2>\n",
       " <p>Texto de conteúdo A</p>\n",
       " </div>\n",
       " <div id=\"“container-b”\">\n",
       " <h1>Título B</h1>\n",
       " <h2 class=\"ref-b\">Sub título B</h2>\n",
       " <p>Texto de conteúdo B</p>\n",
       " </div>\n",
       " </body>,\n",
       " <html>\n",
       " <body>\n",
       " <div id=\"“container-a”\">\n",
       " <h1>Título A</h1>\n",
       " <h2 class=\"ref-a\">Sub título A</h2>\n",
       " <p>Texto de conteúdo A</p>\n",
       " </div>\n",
       " <div id=\"“container-b”\">\n",
       " <h1>Título B</h1>\n",
       " <h2 class=\"ref-b\">Sub título B</h2>\n",
       " <p>Texto de conteúdo B</p>\n",
       " </div>\n",
       " </body>\n",
       " </html>,\n",
       " \n",
       " <html>\n",
       " <body>\n",
       " <div id=\"“container-a”\">\n",
       " <h1>Título A</h1>\n",
       " <h2 class=\"ref-a\">Sub título A</h2>\n",
       " <p>Texto de conteúdo A</p>\n",
       " </div>\n",
       " <div id=\"“container-b”\">\n",
       " <h1>Título B</h1>\n",
       " <h2 class=\"ref-b\">Sub título B</h2>\n",
       " <p>Texto de conteúdo B</p>\n",
       " </div>\n",
       " </body>\n",
       " </html>]"
      ]
     },
     "execution_count": 51,
     "metadata": {},
     "output_type": "execute_result"
    }
   ],
   "source": [
    "soup_teste.find('h2').find_parents()"
   ]
  },
  {
   "cell_type": "code",
   "execution_count": 52,
   "metadata": {},
   "outputs": [],
   "source": [
    "# soup_teste.findAll('h2').find_parent('div')    da erro"
   ]
  },
  {
   "cell_type": "code",
   "execution_count": 53,
   "metadata": {},
   "outputs": [
    {
     "name": "stdout",
     "output_type": "stream",
     "text": [
      "<div id=\"“container-a”\">\n",
      "<h1>Título A</h1>\n",
      "<h2 class=\"ref-a\">Sub título A</h2>\n",
      "<p>Texto de conteúdo A</p>\n",
      "</div>\n",
      "<div id=\"“container-b”\">\n",
      "<h1>Título B</h1>\n",
      "<h2 class=\"ref-b\">Sub título B</h2>\n",
      "<p>Texto de conteúdo B</p>\n",
      "</div>\n"
     ]
    }
   ],
   "source": [
    "for item in soup_teste.findAll('h2'):\n",
    "    print(item.find_parent('div'))"
   ]
  },
  {
   "cell_type": "markdown",
   "metadata": {},
   "source": [
    "## Siblings"
   ]
  },
  {
   "cell_type": "code",
   "execution_count": 54,
   "metadata": {},
   "outputs": [
    {
     "data": {
      "text/plain": [
       "<p>Texto de conteúdo A</p>"
      ]
     },
     "execution_count": 54,
     "metadata": {},
     "output_type": "execute_result"
    }
   ],
   "source": [
    "soup_teste.find('h2').findNextSibling()"
   ]
  },
  {
   "cell_type": "code",
   "execution_count": 55,
   "metadata": {},
   "outputs": [
    {
     "data": {
      "text/plain": [
       "<h1>Título A</h1>"
      ]
     },
     "execution_count": 55,
     "metadata": {},
     "output_type": "execute_result"
    }
   ],
   "source": [
    "soup_teste.find('h2').findPreviousSibling()"
   ]
  },
  {
   "cell_type": "code",
   "execution_count": 56,
   "metadata": {},
   "outputs": [
    {
     "data": {
      "text/plain": [
       "[<h2 class=\"ref-a\">Sub título A</h2>, <h1>Título A</h1>]"
      ]
     },
     "execution_count": 56,
     "metadata": {},
     "output_type": "execute_result"
    }
   ],
   "source": [
    "soup_teste.find('p').findPreviousSiblings()"
   ]
  },
  {
   "cell_type": "markdown",
   "metadata": {},
   "source": [
    "## Next e Previous"
   ]
  },
  {
   "cell_type": "code",
   "execution_count": 57,
   "metadata": {},
   "outputs": [
    {
     "data": {
      "text/plain": [
       "<p>Texto de conteúdo A</p>"
      ]
     },
     "execution_count": 57,
     "metadata": {},
     "output_type": "execute_result"
    }
   ],
   "source": [
    "soup_teste.find('h2').findNext()"
   ]
  },
  {
   "cell_type": "code",
   "execution_count": 58,
   "metadata": {},
   "outputs": [
    {
     "data": {
      "text/plain": [
       "<h1>Título A</h1>"
      ]
     },
     "execution_count": 58,
     "metadata": {},
     "output_type": "execute_result"
    }
   ],
   "source": [
    "soup_teste.find('h2').findPrevious()"
   ]
  },
  {
   "cell_type": "code",
   "execution_count": 59,
   "metadata": {},
   "outputs": [
    {
     "data": {
      "text/plain": [
       "[<p>Texto de conteúdo A</p>,\n",
       " <div id=\"“container-b”\">\n",
       " <h1>Título B</h1>\n",
       " <h2 class=\"ref-b\">Sub título B</h2>\n",
       " <p>Texto de conteúdo B</p>\n",
       " </div>,\n",
       " <h1>Título B</h1>,\n",
       " <h2 class=\"ref-b\">Sub título B</h2>,\n",
       " <p>Texto de conteúdo B</p>]"
      ]
     },
     "execution_count": 59,
     "metadata": {},
     "output_type": "execute_result"
    }
   ],
   "source": [
    "soup_teste.find('h2').findAllNext()"
   ]
  },
  {
   "cell_type": "markdown",
   "metadata": {},
   "source": [
    "# <font color=green>5. WEB SCRAPING DO SITE ALURA MOTORS - OBTENDO OS DADOS DE UM ANÚNCIO"
   ]
  },
  {
   "cell_type": "markdown",
   "metadata": {},
   "source": [
    "# 5.1. Identificando e selecionando os dados no HTML"
   ]
  },
  {
   "cell_type": "markdown",
   "metadata": {},
   "source": [
    "### Obtendo o HTML e criando o objeto BeautifulSoup"
   ]
  },
  {
   "cell_type": "code",
   "execution_count": 65,
   "metadata": {},
   "outputs": [
    {
     "data": {
      "text/plain": [
       "<!DOCTYPE html>\n",
       "\n",
       "<html lang=\"pt-br\">\n",
       "<head>\n",
       "<meta charset=\"utf-8\"/>\n",
       "<meta content=\"width=device-width, initial-scale=1, shrink-to-fit=no\" name=\"viewport\"/>\n",
       "<title>Alura Motors</title>\n",
       "<style>\n",
       "\t\t/*Regra para a animacao*/\n",
       "\t\t@keyframes spin {\n",
       "\t\t\t0% { transform: rotate(0deg); }\n",
       "\t\t\t100% { transform: rotate(360deg); }\n",
       "\t\t}\n",
       "\t\t/*Mudando o tamanho do icone de resposta*/\n",
       "\t\tdiv.glyphicon {\n",
       "\t\t\tcolor:#6B8E23;\n",
       "\t\t\tfont-size: 38px;\n",
       "\t\t}\n",
       "\t\t/*Classe que mostra a animacao 'spin'*/\n",
       "\t\t.loader {\n",
       "\t\t\tborder: 16px solid #f3f3f3;\n",
       "\t\t\tborder-radius: 50%;\n",
       "\t\t\tborder-top: 16px solid #3498db;\n",
       "\t\t\twidth: 80px;\n",
       "\t\t\theight: 80px;\n",
       "\t\t\t-webkit-animation: spin 2s linear infinite;\n",
       "\t\t\tanimation: spin 2s linear infinite;\n",
       "\t\t}\n",
       "\t</style>\n",
       "<link crossorigin=\"anonymous\" href=\"https://maxcdn.bootstrapcdn.com/bootstrap/3.3.7/css/bootstrap.min.css\" integrity=\"sha384-BVYiiSIFeK1dGmJRAkycuHAHRg32OmUcww7on3RYdg4Va+PmSTsz/K68vbdEjh4u\" rel=\"stylesheet\"/>\n",
       "<link href=\"css/styles.css\" media=\"all\" rel=\"stylesheet\"/>\n",
       "<script src=\"https://code.jquery.com/jquery-1.12.4.js\"></script>\n",
       "<script crossorigin=\"anonymous\" integrity=\"sha384-Tc5IQib027qvyjSMfHjOMaLkfuWVxZxUPnCJA7l2mCWNIpG9mGCD8wGNIcPD7Txa\" src=\"https://maxcdn.bootstrapcdn.com/bootstrap/3.3.7/js/bootstrap.min.js\"></script>\n",
       "<script src=\"js/index.js\" type=\"text/javascript\"></script>\n",
       "<script>\n",
       "\t\trequisitar(\"https://alura-scraping.herokuapp.com/produtos?_page=\"+1+\"&_limit=10\")\n",
       "\t</script>\n",
       "</head>\n",
       "<body cz-shortcut-listen=\"true\">\n",
       "<noscript>You need to enable JavaScript to run this app.</noscript>\n",
       "<div aria-labelledby=\"loadingModal_label\" class=\"modal fade\" data-backdrop=\"static\" id=\"loadingModal\" role=\"dialog\" tabindex=\"-1\">\n",
       "<div class=\"modal-dialog\" role=\"document\">\n",
       "<div class=\"modal-content\">\n",
       "<div class=\"modal-header\">\n",
       "<h5 class=\"modal-title\" id=\"loadingModal_label\">\n",
       "<span class=\"glyphicon glyphicon-refresh\"></span>Aguarde...\n",
       "\t\t\t\t\t</h5>\n",
       "</div>\n",
       "<div class=\"modal-body\">\n",
       "<div class=\"alert\" role=\"alert\">\n",
       "<center>\n",
       "<div class=\"loader\" id=\"loader\"></div><br/>\n",
       "<h4><b id=\"loadingModal_content\"></b></h4>\n",
       "</center>\n",
       "</div>\n",
       "</div>\n",
       "</div>\n",
       "</div>\n",
       "</div>\n",
       "<div id=\"root\">\n",
       "<header>\n",
       "<nav class=\"navbar navbar-inverse\" style=\"margin-bottom: 0;\">\n",
       "<div class=\"container\" style=\"margin-bottom: -20px;\">\n",
       "<div class=\"navbar\">\n",
       "<a class=\"navbar-brand\" href=\"./index.php\" title=\"Alura Motors\">\n",
       "<img alt=\"Alura\" class=\"d-inline-block align-top\" src=\"img/alura-logo.svg\"/>Motors\n",
       "\t\t\t\t\t\t</a>\n",
       "<ul class=\"nav navbar-nav\" style=\"margin-top: 35px;\">\n",
       "<li><a href=\"./hello-world.php\">Hello World</a></li>\n",
       "<li><a href=\"./index.php\">Anúncios</a></li>\n",
       "</ul>\n",
       "</div>\n",
       "</div>\n",
       "</nav>\n",
       "</header>\n",
       "<div class=\"container\">\n",
       "<h1 class=\"sub-header\">Veículos de Luxo Novos e Usados - Todas as Marcas</h1>\n",
       "<div class=\"row\">\n",
       "<div class=\"col-md-12\">\n",
       "<div class=\"container\" style=\"width: 100%\">\n",
       "<div class=\"type-select\">246 veículos encontrados</div>\n",
       "<div class=\"container-pagination\" style=\"float: right\">\n",
       "<span class=\"info-pages\">Página 1 de 25</span>\n",
       "</div>\n",
       "</div>\n",
       "<div id=\"container-cards\" style=\"height: 100%\">\n",
       "<div class=\"well card\">\n",
       "<div class=\"col-md-3 image-card\">\n",
       "<img alt=\"Foto\" height=\"155\" src=\"https://caelum-online-public.s3.amazonaws.com/1381-scraping/01/img-cars/lamborghini-aventador/lamborghini-aventador-2932196__340.jpg\" width=\"220\"/>\n",
       "</div>\n",
       "<div class=\"col-md-6 body-card\">\n",
       "<p class=\"txt-name inline\">LAMBORGHINI AVENTADOR</p>\n",
       "<p class=\"txt-category badge badge-secondary inline\">USADO</p>\n",
       "<p class=\"txt-motor\">Motor 1.8 16v</p>\n",
       "<p class=\"txt-description\">Ano 1993 - 55.286 km</p>\n",
       "<ul class=\"lst-items\">\n",
       "<li class=\"txt-items\">► 4 X 4</li>\n",
       "<li class=\"txt-items\">► Câmera de estacionamento</li>\n",
       "<li class=\"txt-items\">► Controle de tração</li>\n",
       "<li class=\"txt-items\">► Sensor de estacionamento</li>\n",
       "<li class=\"txt-items\">...</li>\n",
       "</ul>\n",
       "<p class=\"txt-location\">Belo Horizonte - MG</p>\n",
       "</div>\n",
       "<div class=\"col-md-3 value-card\">\n",
       "<div class=\"value\">\n",
       "<p class=\"txt-value\">R$ 338.000</p>\n",
       "</div>\n",
       "</div>\n",
       "</div>\n",
       "<div class=\"well card\">\n",
       "<div class=\"col-md-3 image-card\">\n",
       "<img alt=\"Foto\" height=\"155\" src=\"https://caelum-online-public.s3.amazonaws.com/1381-scraping/01/img-cars/bmw-m2/bmw-m2-2970882__340.jpg\" width=\"220\"/>\n",
       "</div>\n",
       "<div class=\"col-md-6 body-card\">\n",
       "<p class=\"txt-name inline\">BMW M2</p>\n",
       "<p class=\"txt-category badge badge-secondary inline\">USADO</p>\n",
       "<p class=\"txt-motor\">Motor 3.0 32v</p>\n",
       "<p class=\"txt-description\">Ano 2018 - 83.447 km</p>\n",
       "<ul class=\"lst-items\">\n",
       "<li class=\"txt-items\">► Câmera de estacionamento</li>\n",
       "<li class=\"txt-items\">► Controle de estabilidade</li>\n",
       "<li class=\"txt-items\">► Travas elétricas</li>\n",
       "<li class=\"txt-items\">► Freios ABS</li>\n",
       "<li class=\"txt-items\">...</li>\n",
       "</ul>\n",
       "<p class=\"txt-location\">Belo Horizonte - MG</p>\n",
       "</div>\n",
       "<div class=\"col-md-3 value-card\">\n",
       "<div class=\"value\">\n",
       "<p class=\"txt-value\">R$ 346.000</p>\n",
       "</div>\n",
       "</div>\n",
       "</div>\n",
       "<div class=\"well card\">\n",
       "<div class=\"col-md-3 image-card\">\n",
       "<img alt=\"Foto\" height=\"155\" src=\"https://caelum-online-public.s3.amazonaws.com/1381-scraping/01/img-cars/alfa/alfa-1823056__340.jpg\" width=\"220\"/>\n",
       "</div>\n",
       "<div class=\"col-md-6 body-card\">\n",
       "<p class=\"txt-name inline\">ALFA</p>\n",
       "<p class=\"txt-category badge badge-secondary inline\">USADO</p>\n",
       "<p class=\"txt-motor\">Motor 1.8 16v</p>\n",
       "<p class=\"txt-description\">Ano 2004 - 19.722 km</p>\n",
       "<ul class=\"lst-items\">\n",
       "<li class=\"txt-items\">► Central multimídia</li>\n",
       "<li class=\"txt-items\">► Bancos de couro</li>\n",
       "<li class=\"txt-items\">► Rodas de liga</li>\n",
       "<li class=\"txt-items\">► Câmera de estacionamento</li>\n",
       "<li class=\"txt-items\">...</li>\n",
       "</ul>\n",
       "<p class=\"txt-location\">Rio de Janeiro - RJ</p>\n",
       "</div>\n",
       "<div class=\"col-md-3 value-card\">\n",
       "<div class=\"value\">\n",
       "<p class=\"txt-value\">R$ 480.000</p>\n",
       "</div>\n",
       "</div>\n",
       "</div>\n",
       "<div class=\"well card\">\n",
       "<div class=\"col-md-3 image-card\">\n",
       "<img alt=\"Foto\" height=\"155\" src=\"https://caelum-online-public.s3.amazonaws.com/1381-scraping/01/img-cars/puech/puech-4055386__340.jpg\" width=\"220\"/>\n",
       "</div>\n",
       "<div class=\"col-md-6 body-card\">\n",
       "<p class=\"txt-name inline\">PUECH</p>\n",
       "<p class=\"txt-category badge badge-secondary inline\">USADO</p>\n",
       "<p class=\"txt-motor\">Motor Diesel V8</p>\n",
       "<p class=\"txt-description\">Ano 1992 - 34.335 km</p>\n",
       "<ul class=\"lst-items\">\n",
       "<li class=\"txt-items\">► Bancos de couro</li>\n",
       "<li class=\"txt-items\">► Freios ABS</li>\n",
       "<li class=\"txt-items\">► Rodas de liga</li>\n",
       "<li class=\"txt-items\">► Câmbio automático</li>\n",
       "<li class=\"txt-items\">...</li>\n",
       "</ul>\n",
       "<p class=\"txt-location\">São Paulo - SP</p>\n",
       "</div>\n",
       "<div class=\"col-md-3 value-card\">\n",
       "<div class=\"value\">\n",
       "<p class=\"txt-value\">R$ 133.000</p>\n",
       "</div>\n",
       "</div>\n",
       "</div>\n",
       "<div class=\"well card\">\n",
       "<div class=\"col-md-3 image-card\">\n",
       "<img alt=\"Foto\" height=\"155\" src=\"https://caelum-online-public.s3.amazonaws.com/1381-scraping/01/img-cars/lamborghini-murcielago/lamborghini-murcielago-2872974__340.jpg\" width=\"220\"/>\n",
       "</div>\n",
       "<div class=\"col-md-6 body-card\">\n",
       "<p class=\"txt-name inline\">LAMBORGHINI MURCIELAGO</p>\n",
       "<p class=\"txt-category badge badge-secondary inline\">USADO</p>\n",
       "<p class=\"txt-motor\">Motor 1.0 8v</p>\n",
       "<p class=\"txt-description\">Ano 1991 - 464 km</p>\n",
       "<ul class=\"lst-items\">\n",
       "<li class=\"txt-items\">► Central multimídia</li>\n",
       "<li class=\"txt-items\">► Teto panorâmico</li>\n",
       "<li class=\"txt-items\">► Sensor crepuscular</li>\n",
       "<li class=\"txt-items\">► Piloto automático</li>\n",
       "<li class=\"txt-items\">...</li>\n",
       "</ul>\n",
       "<p class=\"txt-location\">Belo Horizonte - MG</p>\n",
       "</div>\n",
       "<div class=\"col-md-3 value-card\">\n",
       "<div class=\"value\">\n",
       "<p class=\"txt-value\">R$ 175.000</p>\n",
       "</div>\n",
       "</div>\n",
       "</div>\n",
       "<div class=\"well card\">\n",
       "<div class=\"col-md-3 image-card\">\n",
       "<img alt=\"Foto\" height=\"155\" src=\"https://caelum-online-public.s3.amazonaws.com/1381-scraping/01/img-cars/aston-martin/aston-martin-2977916__340.jpg\" width=\"220\"/>\n",
       "</div>\n",
       "<div class=\"col-md-6 body-card\">\n",
       "<p class=\"txt-name inline\">ASTON MARTIN</p>\n",
       "<p class=\"txt-category badge badge-secondary inline\">USADO</p>\n",
       "<p class=\"txt-opportunity badge badge-danger inline\">OPORTUNIDADE</p>\n",
       "<p class=\"txt-motor\">Motor Diesel V6</p>\n",
       "<p class=\"txt-description\">Ano 2004 - 50.189 km</p>\n",
       "<ul class=\"lst-items\">\n",
       "<li class=\"txt-items\">► Painel digital</li>\n",
       "<li class=\"txt-items\">► Controle de tração</li>\n",
       "<li class=\"txt-items\">► Teto panorâmico</li>\n",
       "<li class=\"txt-items\">► Central multimídia</li>\n",
       "<li class=\"txt-items\">...</li>\n",
       "</ul>\n",
       "<p class=\"txt-location\">Belo Horizonte - MG</p>\n",
       "</div>\n",
       "<div class=\"col-md-3 value-card\">\n",
       "<div class=\"value\">\n",
       "<p class=\"txt-value\">R$ 239.000</p>\n",
       "</div>\n",
       "</div>\n",
       "</div>\n",
       "<div class=\"well card\">\n",
       "<div class=\"col-md-3 image-card\">\n",
       "<img alt=\"Foto\" height=\"155\" src=\"https://caelum-online-public.s3.amazonaws.com/1381-scraping/01/img-cars/tvr/tvr-2943925__340.jpg\" width=\"220\"/>\n",
       "</div>\n",
       "<div class=\"col-md-6 body-card\">\n",
       "<p class=\"txt-name inline\">TVR</p>\n",
       "<p class=\"txt-category badge badge-secondary inline\">USADO</p>\n",
       "<p class=\"txt-motor\">Motor 4.0 Turbo</p>\n",
       "<p class=\"txt-description\">Ano 2014 - 17.778 km</p>\n",
       "<ul class=\"lst-items\">\n",
       "<li class=\"txt-items\">► 4 X 4</li>\n",
       "<li class=\"txt-items\">► Teto panorâmico</li>\n",
       "<li class=\"txt-items\">► Central multimídia</li>\n",
       "<li class=\"txt-items\">► Controle de estabilidade</li>\n",
       "<li class=\"txt-items\">...</li>\n",
       "</ul>\n",
       "<p class=\"txt-location\">Belo Horizonte - MG</p>\n",
       "</div>\n",
       "<div class=\"col-md-3 value-card\">\n",
       "<div class=\"value\">\n",
       "<p class=\"txt-value\">R$ 115.000</p>\n",
       "</div>\n",
       "</div>\n",
       "</div>\n",
       "<div class=\"well card\">\n",
       "<div class=\"col-md-3 image-card\">\n",
       "<img alt=\"Foto\" height=\"155\" src=\"https://caelum-online-public.s3.amazonaws.com/1381-scraping/01/img-cars/excalibur/excalibur-2916730__340.jpg\" width=\"220\"/>\n",
       "</div>\n",
       "<div class=\"col-md-6 body-card\">\n",
       "<p class=\"txt-name inline\">EXCALIBUR</p>\n",
       "<p class=\"txt-category badge badge-secondary inline\">USADO</p>\n",
       "<p class=\"txt-motor\">Motor 3.0 32v</p>\n",
       "<p class=\"txt-description\">Ano 2009 - 81.251 km</p>\n",
       "<ul class=\"lst-items\">\n",
       "<li class=\"txt-items\">► Painel digital</li>\n",
       "<li class=\"txt-items\">► Câmbio automático</li>\n",
       "<li class=\"txt-items\">► Sensor de chuva</li>\n",
       "<li class=\"txt-items\">► Travas elétricas</li>\n",
       "<li class=\"txt-items\">...</li>\n",
       "</ul>\n",
       "<p class=\"txt-location\">Rio de Janeiro - RJ</p>\n",
       "</div>\n",
       "<div class=\"col-md-3 value-card\">\n",
       "<div class=\"value\">\n",
       "<p class=\"txt-value\">R$ 114.000</p>\n",
       "</div>\n",
       "</div>\n",
       "</div>\n",
       "<div class=\"well card\">\n",
       "<div class=\"col-md-3 image-card\">\n",
       "<img alt=\"Foto\" height=\"155\" src=\"https://caelum-online-public.s3.amazonaws.com/1381-scraping/01/img-cars/mclaren/mclaren-2855240__340.jpg\" width=\"220\"/>\n",
       "</div>\n",
       "<div class=\"col-md-6 body-card\">\n",
       "<p class=\"txt-name inline\">MCLAREN</p>\n",
       "<p class=\"txt-category badge badge-secondary inline\">NOVO</p>\n",
       "<p class=\"txt-motor\">Motor Diesel</p>\n",
       "<p class=\"txt-description\">Ano 2019 - 0 km</p>\n",
       "<ul class=\"lst-items\">\n",
       "<li class=\"txt-items\">► Central multimídia</li>\n",
       "<li class=\"txt-items\">► Câmera de estacionamento</li>\n",
       "<li class=\"txt-items\">► Câmbio automático</li>\n",
       "<li class=\"txt-items\">► Ar condicionado</li>\n",
       "<li class=\"txt-items\">...</li>\n",
       "</ul>\n",
       "<p class=\"txt-location\">São Paulo - SP</p>\n",
       "</div>\n",
       "<div class=\"col-md-3 value-card\">\n",
       "<div class=\"value\">\n",
       "<p class=\"txt-value\">R$ 75.000</p>\n",
       "</div>\n",
       "</div>\n",
       "</div>\n",
       "<div class=\"well card\">\n",
       "<div class=\"col-md-3 image-card\">\n",
       "<img alt=\"Foto\" height=\"155\" src=\"https://caelum-online-public.s3.amazonaws.com/1381-scraping/01/img-cars/toyota/toyota-3245397__340.jpg\" width=\"220\"/>\n",
       "</div>\n",
       "<div class=\"col-md-6 body-card\">\n",
       "<p class=\"txt-name inline\">TOYOTA</p>\n",
       "<p class=\"txt-category badge badge-secondary inline\">USADO</p>\n",
       "<p class=\"txt-opportunity badge badge-danger inline\">OPORTUNIDADE</p>\n",
       "<p class=\"txt-motor\">Motor 4.0 Turbo</p>\n",
       "<p class=\"txt-description\">Ano 1999 - 12.536 km</p>\n",
       "<ul class=\"lst-items\">\n",
       "<li class=\"txt-items\">► Bancos de couro</li>\n",
       "<li class=\"txt-items\">► Freios ABS</li>\n",
       "<li class=\"txt-items\">► Piloto automático</li>\n",
       "<li class=\"txt-items\">► Controle de estabilidade</li>\n",
       "<li class=\"txt-items\">...</li>\n",
       "</ul>\n",
       "<p class=\"txt-location\">São Paulo - SP</p>\n",
       "</div>\n",
       "<div class=\"col-md-3 value-card\">\n",
       "<div class=\"value\">\n",
       "<p class=\"txt-value\">R$ 117.000</p>\n",
       "</div>\n",
       "</div>\n",
       "</div> </div>\n",
       "<div class=\"type-select\">246 veículos encontrados</div>\n",
       "<div class=\"container-pagination\" style=\"float: right\">\n",
       "<span class=\"info-pages\">Página 1 de 25</span>\n",
       "</div>\n",
       "</div>\n",
       "</div>\n",
       "</div>\n",
       "</div>\n",
       "\n",
       "<footer>\n",
       "<nav class=\"navbar navbar-inverse\">\n",
       "<div class=\"container\" style=\"margin-bottom: 10px;\">\n",
       "<div class=\"navbar\">\n",
       "<a class=\"navbar-brand\" href=\"./index.php\" title=\"Alura Motors\">\n",
       "<img alt=\"Alura\" class=\"d-inline-block align-top\" src=\"img/alura-logo.svg\"/>Motors\n",
       "\t\t\t\t\t\t</a>\n",
       "<p style=\"color: #fff; text-align: center; margin-top: 40px;\">Aplicação para treinamento de web scraping</p>\n",
       "</div>\n",
       "</div>\n",
       "</nav>\n",
       "</footer>\n",
       "\n",
       "</body>\n",
       "</html>"
      ]
     },
     "execution_count": 65,
     "metadata": {},
     "output_type": "execute_result"
    }
   ],
   "source": [
    "response = urlopen('https://alura-site-scraping.herokuapp.com/index.php')\n",
    "html = response.read().decode('utf-8')\n",
    "soup = BeautifulSoup(html, 'html.parser')\n",
    "soup"
   ]
  },
  {
   "cell_type": "markdown",
   "metadata": {},
   "source": [
    "### Criando variávels para armazenar informações"
   ]
  },
  {
   "cell_type": "code",
   "execution_count": 66,
   "metadata": {},
   "outputs": [],
   "source": [
    "cards = []\n",
    "card = {}"
   ]
  },
  {
   "cell_type": "markdown",
   "metadata": {},
   "source": [
    "### Obtendo os dados do primeiro CARD"
   ]
  },
  {
   "cell_type": "code",
   "execution_count": 67,
   "metadata": {
    "scrolled": false
   },
   "outputs": [
    {
     "data": {
      "text/plain": [
       "<div class=\"well card\">\n",
       "<div class=\"col-md-3 image-card\">\n",
       "<img alt=\"Foto\" height=\"155\" src=\"https://caelum-online-public.s3.amazonaws.com/1381-scraping/01/img-cars/lamborghini-aventador/lamborghini-aventador-2932196__340.jpg\" width=\"220\"/>\n",
       "</div>\n",
       "<div class=\"col-md-6 body-card\">\n",
       "<p class=\"txt-name inline\">LAMBORGHINI AVENTADOR</p>\n",
       "<p class=\"txt-category badge badge-secondary inline\">USADO</p>\n",
       "<p class=\"txt-motor\">Motor 1.8 16v</p>\n",
       "<p class=\"txt-description\">Ano 1993 - 55.286 km</p>\n",
       "<ul class=\"lst-items\">\n",
       "<li class=\"txt-items\">► 4 X 4</li>\n",
       "<li class=\"txt-items\">► Câmera de estacionamento</li>\n",
       "<li class=\"txt-items\">► Controle de tração</li>\n",
       "<li class=\"txt-items\">► Sensor de estacionamento</li>\n",
       "<li class=\"txt-items\">...</li>\n",
       "</ul>\n",
       "<p class=\"txt-location\">Belo Horizonte - MG</p>\n",
       "</div>\n",
       "<div class=\"col-md-3 value-card\">\n",
       "<div class=\"value\">\n",
       "<p class=\"txt-value\">R$ 338.000</p>\n",
       "</div>\n",
       "</div>\n",
       "</div>"
      ]
     },
     "execution_count": 67,
     "metadata": {},
     "output_type": "execute_result"
    }
   ],
   "source": [
    "anuncio = soup.find('div',{'class':'well card'})\n",
    "anuncio"
   ]
  },
  {
   "cell_type": "markdown",
   "metadata": {},
   "source": [
    "# 5.2. Obtendo o VALOR do veículo anunciado"
   ]
  },
  {
   "cell_type": "code",
   "execution_count": 79,
   "metadata": {},
   "outputs": [
    {
     "data": {
      "text/plain": [
       "<div class=\"col-md-3 value-card\">\n",
       "<div class=\"value\">\n",
       "<p class=\"txt-value\">R$ 338.000</p>\n",
       "</div>\n",
       "</div>"
      ]
     },
     "execution_count": 79,
     "metadata": {},
     "output_type": "execute_result"
    }
   ],
   "source": [
    "anuncio.find('div',{'class':'value-card'})"
   ]
  },
  {
   "cell_type": "code",
   "execution_count": 80,
   "metadata": {},
   "outputs": [
    {
     "data": {
      "text/plain": [
       "'R$ 338.000'"
      ]
     },
     "execution_count": 80,
     "metadata": {},
     "output_type": "execute_result"
    }
   ],
   "source": [
    "anuncio.find('p',{'class':'txt-value'}).get_text()"
   ]
  },
  {
   "cell_type": "code",
   "execution_count": 81,
   "metadata": {},
   "outputs": [],
   "source": [
    "card['value'] = anuncio.find('p',{'class':'txt-value'}).get_text()"
   ]
  },
  {
   "cell_type": "code",
   "execution_count": 82,
   "metadata": {},
   "outputs": [
    {
     "data": {
      "text/plain": [
       "{'value': 'R$ 338.000'}"
      ]
     },
     "execution_count": 82,
     "metadata": {},
     "output_type": "execute_result"
    }
   ],
   "source": [
    "card"
   ]
  },
  {
   "cell_type": "markdown",
   "metadata": {},
   "source": [
    "### <font color=red>Resumo"
   ]
  },
  {
   "cell_type": "code",
   "execution_count": 83,
   "metadata": {},
   "outputs": [],
   "source": [
    "# Valor\n",
    "card['value'] = anuncio.find('p',{'class':'txt-value'}).get_text()"
   ]
  },
  {
   "cell_type": "markdown",
   "metadata": {},
   "source": [
    "# 5.3. Obtendo as INFORMAÇÕES sobre o veículo anunciado"
   ]
  },
  {
   "cell_type": "code",
   "execution_count": 87,
   "metadata": {},
   "outputs": [
    {
     "data": {
      "text/plain": [
       "[<p class=\"txt-name inline\">LAMBORGHINI AVENTADOR</p>,\n",
       " <p class=\"txt-category badge badge-secondary inline\">USADO</p>,\n",
       " <p class=\"txt-motor\">Motor 1.8 16v</p>,\n",
       " <p class=\"txt-description\">Ano 1993 - 55.286 km</p>,\n",
       " <p class=\"txt-location\">Belo Horizonte - MG</p>]"
      ]
     },
     "execution_count": 87,
     "metadata": {},
     "output_type": "execute_result"
    }
   ],
   "source": [
    "anuncio.find('div',{'class':'body-card'}).findAll('p')"
   ]
  },
  {
   "cell_type": "code",
   "execution_count": 88,
   "metadata": {},
   "outputs": [],
   "source": [
    "infos = anuncio.find('div',{'class':'body-card'}).findAll('p')"
   ]
  },
  {
   "cell_type": "code",
   "execution_count": 93,
   "metadata": {},
   "outputs": [
    {
     "name": "stdout",
     "output_type": "stream",
     "text": [
      "['txt-name', 'inline']  -  LAMBORGHINI AVENTADOR\n",
      "['txt-category', 'badge', 'badge-secondary', 'inline']  -  USADO\n",
      "['txt-motor']  -  Motor 1.8 16v\n",
      "['txt-description']  -  Ano 1993 - 55.286 km\n",
      "['txt-location']  -  Belo Horizonte - MG\n"
     ]
    }
   ],
   "source": [
    "for info in infos:\n",
    "    print(info.get('class'), ' - ' ,info.get_text())"
   ]
  },
  {
   "cell_type": "code",
   "execution_count": 94,
   "metadata": {},
   "outputs": [
    {
     "name": "stdout",
     "output_type": "stream",
     "text": [
      "txt-name  -  LAMBORGHINI AVENTADOR\n",
      "txt-category  -  USADO\n",
      "txt-motor  -  Motor 1.8 16v\n",
      "txt-description  -  Ano 1993 - 55.286 km\n",
      "txt-location  -  Belo Horizonte - MG\n"
     ]
    }
   ],
   "source": [
    "for info in infos:\n",
    "    print(info.get('class')[0], ' - ' ,info.get_text())"
   ]
  },
  {
   "cell_type": "code",
   "execution_count": 96,
   "metadata": {},
   "outputs": [
    {
     "name": "stdout",
     "output_type": "stream",
     "text": [
      "['txt', 'name']  -  LAMBORGHINI AVENTADOR\n",
      "['txt', 'category']  -  USADO\n",
      "['txt', 'motor']  -  Motor 1.8 16v\n",
      "['txt', 'description']  -  Ano 1993 - 55.286 km\n",
      "['txt', 'location']  -  Belo Horizonte - MG\n"
     ]
    }
   ],
   "source": [
    "for info in infos:\n",
    "    print(info.get('class')[0].split('-'), ' - ' ,info.get_text())"
   ]
  },
  {
   "cell_type": "code",
   "execution_count": 98,
   "metadata": {},
   "outputs": [
    {
     "name": "stdout",
     "output_type": "stream",
     "text": [
      "name  -  LAMBORGHINI AVENTADOR\n",
      "category  -  USADO\n",
      "motor  -  Motor 1.8 16v\n",
      "description  -  Ano 1993 - 55.286 km\n",
      "location  -  Belo Horizonte - MG\n"
     ]
    }
   ],
   "source": [
    "for info in infos:\n",
    "    print(info.get('class')[0].split('-')[-1], ' - ' ,info.get_text())"
   ]
  },
  {
   "cell_type": "code",
   "execution_count": 99,
   "metadata": {},
   "outputs": [],
   "source": [
    "for info in infos:\n",
    "    card[info.get('class')[0].split('-')[-1]] = info.get_text()"
   ]
  },
  {
   "cell_type": "code",
   "execution_count": 100,
   "metadata": {},
   "outputs": [
    {
     "data": {
      "text/plain": [
       "{'value': 'R$ 338.000',\n",
       " 'name': 'LAMBORGHINI AVENTADOR',\n",
       " 'category': 'USADO',\n",
       " 'motor': 'Motor 1.8 16v',\n",
       " 'description': 'Ano 1993 - 55.286 km',\n",
       " 'location': 'Belo Horizonte - MG'}"
      ]
     },
     "execution_count": 100,
     "metadata": {},
     "output_type": "execute_result"
    }
   ],
   "source": [
    "card"
   ]
  },
  {
   "cell_type": "markdown",
   "metadata": {},
   "source": [
    "### <font color=red>Resumo"
   ]
  },
  {
   "cell_type": "code",
   "execution_count": null,
   "metadata": {},
   "outputs": [],
   "source": [
    "# Informações\n",
    "infos = anuncio.find('div',{'class':'body-card'}).findAll('p')\n",
    "for info in infos:\n",
    "    card[info.get('class')[0].split('-')[-1]] = info.get_text()"
   ]
  },
  {
   "cell_type": "markdown",
   "metadata": {},
   "source": [
    "# 5.4. Obtendo os ACESSÓRIOS do veículo anunciado"
   ]
  },
  {
   "cell_type": "code",
   "execution_count": 101,
   "metadata": {},
   "outputs": [
    {
     "data": {
      "text/plain": [
       "<div class=\"col-md-6 body-card\">\n",
       "<p class=\"txt-name inline\">LAMBORGHINI AVENTADOR</p>\n",
       "<p class=\"txt-category badge badge-secondary inline\">USADO</p>\n",
       "<p class=\"txt-motor\">Motor 1.8 16v</p>\n",
       "<p class=\"txt-description\">Ano 1993 - 55.286 km</p>\n",
       "<ul class=\"lst-items\">\n",
       "<li class=\"txt-items\">► 4 X 4</li>\n",
       "<li class=\"txt-items\">► Câmera de estacionamento</li>\n",
       "<li class=\"txt-items\">► Controle de tração</li>\n",
       "<li class=\"txt-items\">► Sensor de estacionamento</li>\n",
       "<li class=\"txt-items\">...</li>\n",
       "</ul>\n",
       "<p class=\"txt-location\">Belo Horizonte - MG</p>\n",
       "</div>"
      ]
     },
     "execution_count": 101,
     "metadata": {},
     "output_type": "execute_result"
    }
   ],
   "source": [
    "anuncio.find('div',{'class':'body-card'})"
   ]
  },
  {
   "cell_type": "code",
   "execution_count": 103,
   "metadata": {},
   "outputs": [
    {
     "data": {
      "text/plain": [
       "[<li class=\"txt-items\">► 4 X 4</li>,\n",
       " <li class=\"txt-items\">► Câmera de estacionamento</li>,\n",
       " <li class=\"txt-items\">► Controle de tração</li>,\n",
       " <li class=\"txt-items\">► Sensor de estacionamento</li>,\n",
       " <li class=\"txt-items\">...</li>]"
      ]
     },
     "execution_count": 103,
     "metadata": {},
     "output_type": "execute_result"
    }
   ],
   "source": [
    "anuncio.find('div',{'class':'body-card'}).ul.findAll('li')"
   ]
  },
  {
   "cell_type": "code",
   "execution_count": 105,
   "metadata": {},
   "outputs": [
    {
     "data": {
      "text/plain": [
       "[<li class=\"txt-items\">► 4 X 4</li>,\n",
       " <li class=\"txt-items\">► Câmera de estacionamento</li>,\n",
       " <li class=\"txt-items\">► Controle de tração</li>,\n",
       " <li class=\"txt-items\">► Sensor de estacionamento</li>,\n",
       " <li class=\"txt-items\">...</li>]"
      ]
     },
     "execution_count": 105,
     "metadata": {},
     "output_type": "execute_result"
    }
   ],
   "source": [
    "items = anuncio.find('div',{'class':'body-card'}).ul.findAll('li')\n",
    "items"
   ]
  },
  {
   "cell_type": "code",
   "execution_count": 106,
   "metadata": {},
   "outputs": [
    {
     "data": {
      "text/plain": [
       "<li class=\"txt-items\">...</li>"
      ]
     },
     "execution_count": 106,
     "metadata": {},
     "output_type": "execute_result"
    }
   ],
   "source": [
    "items.pop()"
   ]
  },
  {
   "cell_type": "code",
   "execution_count": 107,
   "metadata": {},
   "outputs": [
    {
     "data": {
      "text/plain": [
       "[<li class=\"txt-items\">► 4 X 4</li>,\n",
       " <li class=\"txt-items\">► Câmera de estacionamento</li>,\n",
       " <li class=\"txt-items\">► Controle de tração</li>,\n",
       " <li class=\"txt-items\">► Sensor de estacionamento</li>]"
      ]
     },
     "execution_count": 107,
     "metadata": {},
     "output_type": "execute_result"
    }
   ],
   "source": [
    "items"
   ]
  },
  {
   "cell_type": "code",
   "execution_count": 112,
   "metadata": {},
   "outputs": [
    {
     "name": "stdout",
     "output_type": "stream",
     "text": [
      "4 X 4\n",
      "Câmera de estacionamento\n",
      "Controle de tração\n",
      "Sensor de estacionamento\n"
     ]
    }
   ],
   "source": [
    "for item in items:\n",
    "    print(item.getText().replace('► ',''))"
   ]
  },
  {
   "cell_type": "code",
   "execution_count": 113,
   "metadata": {},
   "outputs": [
    {
     "data": {
      "text/plain": [
       "['4 X 4',\n",
       " 'Câmera de estacionamento',\n",
       " 'Controle de tração',\n",
       " 'Sensor de estacionamento']"
      ]
     },
     "execution_count": 113,
     "metadata": {},
     "output_type": "execute_result"
    }
   ],
   "source": [
    "acessorios = []\n",
    "for item in items:\n",
    "    acessorios.append(item.getText().replace('► ',''))\n",
    "    \n",
    "acessorios    "
   ]
  },
  {
   "cell_type": "code",
   "execution_count": 114,
   "metadata": {},
   "outputs": [],
   "source": [
    "card['items'] = acessorios"
   ]
  },
  {
   "cell_type": "code",
   "execution_count": 115,
   "metadata": {},
   "outputs": [
    {
     "data": {
      "text/plain": [
       "{'value': 'R$ 338.000',\n",
       " 'name': 'LAMBORGHINI AVENTADOR',\n",
       " 'category': 'USADO',\n",
       " 'motor': 'Motor 1.8 16v',\n",
       " 'description': 'Ano 1993 - 55.286 km',\n",
       " 'location': 'Belo Horizonte - MG',\n",
       " 'items': ['4 X 4',\n",
       "  'Câmera de estacionamento',\n",
       "  'Controle de tração',\n",
       "  'Sensor de estacionamento']}"
      ]
     },
     "execution_count": 115,
     "metadata": {},
     "output_type": "execute_result"
    }
   ],
   "source": [
    "card"
   ]
  },
  {
   "cell_type": "markdown",
   "metadata": {},
   "source": [
    "### <font color=red>Resumo"
   ]
  },
  {
   "cell_type": "code",
   "execution_count": 116,
   "metadata": {},
   "outputs": [],
   "source": [
    "# Acessórios\n",
    "items = anuncio.find('div',{'class':'body-card'}).ul.findAll('li')\n",
    "items.pop()\n",
    "acessorios = []\n",
    "for item in items:\n",
    "    acessorios.append(item.getText().replace('► ',''))\n",
    "card['items'] = acessorios   "
   ]
  },
  {
   "cell_type": "markdown",
   "metadata": {},
   "source": [
    "# 5.5 Criando um DataFrame com os dados coletados do Alura Motors"
   ]
  },
  {
   "cell_type": "code",
   "execution_count": 118,
   "metadata": {},
   "outputs": [
    {
     "data": {
      "text/plain": [
       "{'value': 'R$ 338.000',\n",
       " 'name': 'LAMBORGHINI AVENTADOR',\n",
       " 'category': 'USADO',\n",
       " 'motor': 'Motor 1.8 16v',\n",
       " 'description': 'Ano 1993 - 55.286 km',\n",
       " 'location': 'Belo Horizonte - MG',\n",
       " 'items': ['4 X 4',\n",
       "  'Câmera de estacionamento',\n",
       "  'Controle de tração',\n",
       "  'Sensor de estacionamento']}"
      ]
     },
     "execution_count": 118,
     "metadata": {},
     "output_type": "execute_result"
    }
   ],
   "source": [
    "card"
   ]
  },
  {
   "cell_type": "code",
   "execution_count": 119,
   "metadata": {},
   "outputs": [],
   "source": [
    "import pandas as pd"
   ]
  },
  {
   "cell_type": "code",
   "execution_count": 121,
   "metadata": {},
   "outputs": [
    {
     "data": {
      "text/html": [
       "<div>\n",
       "<style scoped>\n",
       "    .dataframe tbody tr th:only-of-type {\n",
       "        vertical-align: middle;\n",
       "    }\n",
       "\n",
       "    .dataframe tbody tr th {\n",
       "        vertical-align: top;\n",
       "    }\n",
       "\n",
       "    .dataframe thead th {\n",
       "        text-align: right;\n",
       "    }\n",
       "</style>\n",
       "<table border=\"1\" class=\"dataframe\">\n",
       "  <thead>\n",
       "    <tr style=\"text-align: right;\">\n",
       "      <th></th>\n",
       "      <th>value</th>\n",
       "      <th>name</th>\n",
       "      <th>category</th>\n",
       "      <th>motor</th>\n",
       "      <th>description</th>\n",
       "      <th>location</th>\n",
       "      <th>items</th>\n",
       "    </tr>\n",
       "  </thead>\n",
       "  <tbody>\n",
       "    <tr>\n",
       "      <th>0</th>\n",
       "      <td>R$ 338.000</td>\n",
       "      <td>LAMBORGHINI AVENTADOR</td>\n",
       "      <td>USADO</td>\n",
       "      <td>Motor 1.8 16v</td>\n",
       "      <td>Ano 1993 - 55.286 km</td>\n",
       "      <td>Belo Horizonte - MG</td>\n",
       "      <td>4 X 4</td>\n",
       "    </tr>\n",
       "    <tr>\n",
       "      <th>1</th>\n",
       "      <td>R$ 338.000</td>\n",
       "      <td>LAMBORGHINI AVENTADOR</td>\n",
       "      <td>USADO</td>\n",
       "      <td>Motor 1.8 16v</td>\n",
       "      <td>Ano 1993 - 55.286 km</td>\n",
       "      <td>Belo Horizonte - MG</td>\n",
       "      <td>Câmera de estacionamento</td>\n",
       "    </tr>\n",
       "    <tr>\n",
       "      <th>2</th>\n",
       "      <td>R$ 338.000</td>\n",
       "      <td>LAMBORGHINI AVENTADOR</td>\n",
       "      <td>USADO</td>\n",
       "      <td>Motor 1.8 16v</td>\n",
       "      <td>Ano 1993 - 55.286 km</td>\n",
       "      <td>Belo Horizonte - MG</td>\n",
       "      <td>Controle de tração</td>\n",
       "    </tr>\n",
       "    <tr>\n",
       "      <th>3</th>\n",
       "      <td>R$ 338.000</td>\n",
       "      <td>LAMBORGHINI AVENTADOR</td>\n",
       "      <td>USADO</td>\n",
       "      <td>Motor 1.8 16v</td>\n",
       "      <td>Ano 1993 - 55.286 km</td>\n",
       "      <td>Belo Horizonte - MG</td>\n",
       "      <td>Sensor de estacionamento</td>\n",
       "    </tr>\n",
       "  </tbody>\n",
       "</table>\n",
       "</div>"
      ],
      "text/plain": [
       "        value                   name category          motor  \\\n",
       "0  R$ 338.000  LAMBORGHINI AVENTADOR    USADO  Motor 1.8 16v   \n",
       "1  R$ 338.000  LAMBORGHINI AVENTADOR    USADO  Motor 1.8 16v   \n",
       "2  R$ 338.000  LAMBORGHINI AVENTADOR    USADO  Motor 1.8 16v   \n",
       "3  R$ 338.000  LAMBORGHINI AVENTADOR    USADO  Motor 1.8 16v   \n",
       "\n",
       "            description             location                     items  \n",
       "0  Ano 1993 - 55.286 km  Belo Horizonte - MG                     4 X 4  \n",
       "1  Ano 1993 - 55.286 km  Belo Horizonte - MG  Câmera de estacionamento  \n",
       "2  Ano 1993 - 55.286 km  Belo Horizonte - MG        Controle de tração  \n",
       "3  Ano 1993 - 55.286 km  Belo Horizonte - MG  Sensor de estacionamento  "
      ]
     },
     "execution_count": 121,
     "metadata": {},
     "output_type": "execute_result"
    }
   ],
   "source": [
    "dataset = pd.DataFrame(card)\n",
    "dataset"
   ]
  },
  {
   "cell_type": "code",
   "execution_count": 124,
   "metadata": {},
   "outputs": [
    {
     "data": {
      "text/html": [
       "<div>\n",
       "<style scoped>\n",
       "    .dataframe tbody tr th:only-of-type {\n",
       "        vertical-align: middle;\n",
       "    }\n",
       "\n",
       "    .dataframe tbody tr th {\n",
       "        vertical-align: top;\n",
       "    }\n",
       "\n",
       "    .dataframe thead th {\n",
       "        text-align: right;\n",
       "    }\n",
       "</style>\n",
       "<table border=\"1\" class=\"dataframe\">\n",
       "  <thead>\n",
       "    <tr style=\"text-align: right;\">\n",
       "      <th></th>\n",
       "      <th>value</th>\n",
       "      <th>name</th>\n",
       "      <th>category</th>\n",
       "      <th>motor</th>\n",
       "      <th>description</th>\n",
       "      <th>location</th>\n",
       "      <th>items</th>\n",
       "    </tr>\n",
       "  </thead>\n",
       "  <tbody>\n",
       "    <tr>\n",
       "      <th>0</th>\n",
       "      <td>R$ 338.000</td>\n",
       "      <td>LAMBORGHINI AVENTADOR</td>\n",
       "      <td>USADO</td>\n",
       "      <td>Motor 1.8 16v</td>\n",
       "      <td>Ano 1993 - 55.286 km</td>\n",
       "      <td>Belo Horizonte - MG</td>\n",
       "      <td>[4 X 4, Câmera de estacionamento, Controle de ...</td>\n",
       "    </tr>\n",
       "  </tbody>\n",
       "</table>\n",
       "</div>"
      ],
      "text/plain": [
       "        value                   name category          motor  \\\n",
       "0  R$ 338.000  LAMBORGHINI AVENTADOR    USADO  Motor 1.8 16v   \n",
       "\n",
       "            description             location  \\\n",
       "0  Ano 1993 - 55.286 km  Belo Horizonte - MG   \n",
       "\n",
       "                                               items  \n",
       "0  [4 X 4, Câmera de estacionamento, Controle de ...  "
      ]
     },
     "execution_count": 124,
     "metadata": {},
     "output_type": "execute_result"
    }
   ],
   "source": [
    "dataset = pd.DataFrame.from_dict(card,orient='index').T\n",
    "dataset"
   ]
  },
  {
   "cell_type": "code",
   "execution_count": 125,
   "metadata": {},
   "outputs": [],
   "source": [
    "dataset.to_csv('./output/data/dataset.csv', sep = ';', index = False,encoding='utf-8-sig')"
   ]
  },
  {
   "cell_type": "markdown",
   "metadata": {},
   "source": [
    "# 5.6. Obtendo a FOTO do anúncio"
   ]
  },
  {
   "cell_type": "code",
   "execution_count": 127,
   "metadata": {},
   "outputs": [
    {
     "data": {
      "text/plain": [
       "<img alt=\"Foto\" height=\"155\" src=\"https://caelum-online-public.s3.amazonaws.com/1381-scraping/01/img-cars/lamborghini-aventador/lamborghini-aventador-2932196__340.jpg\" width=\"220\"/>"
      ]
     },
     "execution_count": 127,
     "metadata": {},
     "output_type": "execute_result"
    }
   ],
   "source": [
    "image = anuncio.find('div',{'class':'image-card'}).img\n",
    "image"
   ]
  },
  {
   "cell_type": "code",
   "execution_count": 128,
   "metadata": {},
   "outputs": [
    {
     "data": {
      "text/plain": [
       "'https://caelum-online-public.s3.amazonaws.com/1381-scraping/01/img-cars/lamborghini-aventador/lamborghini-aventador-2932196__340.jpg'"
      ]
     },
     "execution_count": 128,
     "metadata": {},
     "output_type": "execute_result"
    }
   ],
   "source": [
    "image.get('src')"
   ]
  },
  {
   "cell_type": "code",
   "execution_count": 129,
   "metadata": {},
   "outputs": [
    {
     "name": "stdout",
     "output_type": "stream",
     "text": [
      "https://caelum-online-public.s3.amazonaws.com/1381-scraping/01/img-cars/lamborghini-aventador/lamborghini-aventador-2932196__340.jpg\n"
     ]
    }
   ],
   "source": [
    "print(image.get('src'))"
   ]
  },
  {
   "cell_type": "markdown",
   "metadata": {},
   "source": [
    "### Visualizando a FOTO no notebook (extra)"
   ]
  },
  {
   "cell_type": "code",
   "execution_count": 132,
   "metadata": {},
   "outputs": [
    {
     "data": {
      "text/html": [
       "<img alt=\"Foto\" height=\"155\" src=\"https://caelum-online-public.s3.amazonaws.com/1381-scraping/01/img-cars/lamborghini-aventador/lamborghini-aventador-2932196__340.jpg\" width=\"220\"/>"
      ],
      "text/plain": [
       "<IPython.core.display.HTML object>"
      ]
     },
     "metadata": {},
     "output_type": "display_data"
    }
   ],
   "source": [
    "from IPython.core.display import display, HTML\n",
    "display(HTML(str(anuncio.find('div',{'class':'image-card'}).img)))"
   ]
  },
  {
   "cell_type": "code",
   "execution_count": 134,
   "metadata": {},
   "outputs": [
    {
     "data": {
      "text/html": [
       "<img src=https://caelum-online-public.s3.amazonaws.com/1381-scraping/01/img-cars/lamborghini-aventador/lamborghini-aventador-2932196__340.jpg>"
      ],
      "text/plain": [
       "<IPython.core.display.HTML object>"
      ]
     },
     "metadata": {},
     "output_type": "display_data"
    }
   ],
   "source": [
    "display(HTML(\"<img src=\" + anuncio.find('div',{'class':'image-card'}).img.get('src') + \">\"))"
   ]
  },
  {
   "cell_type": "markdown",
   "metadata": {},
   "source": [
    "### Rotina para acessar e salvar a FOTO do anúncio"
   ]
  },
  {
   "cell_type": "markdown",
   "metadata": {},
   "source": [
    "## https://docs.python.org/3/library/urllib.request.html#urllib.request.urlretrieve"
   ]
  },
  {
   "cell_type": "code",
   "execution_count": 139,
   "metadata": {},
   "outputs": [],
   "source": [
    "nome_imagem = image.get('src').split('/')[-1]"
   ]
  },
  {
   "cell_type": "code",
   "execution_count": 141,
   "metadata": {},
   "outputs": [
    {
     "data": {
      "text/plain": [
       "('./output/img/lamborghini-aventador-2932196__340.jpg',\n",
       " <http.client.HTTPMessage at 0x7f8fcc453790>)"
      ]
     },
     "execution_count": 141,
     "metadata": {},
     "output_type": "execute_result"
    }
   ],
   "source": [
    "from urllib.request import urlretrieve\n",
    "\n",
    "urlretrieve(image.get('src'),'./output/img/' + nome_imagem)"
   ]
  },
  {
   "cell_type": "markdown",
   "metadata": {},
   "source": [
    "### <font color=red>Resumo"
   ]
  },
  {
   "cell_type": "code",
   "execution_count": 142,
   "metadata": {},
   "outputs": [
    {
     "data": {
      "text/plain": [
       "('./output/img/lamborghini-aventador-2932196__340.jpg',\n",
       " <http.client.HTTPMessage at 0x7f8fcc319d90>)"
      ]
     },
     "execution_count": 142,
     "metadata": {},
     "output_type": "execute_result"
    }
   ],
   "source": [
    "# Imagem\n",
    "image = anuncio.find('div',{'class':'image-card'}).img\n",
    "nome_imagem = image.get('src').split('/')[-1]\n",
    "urlretrieve(image.get('src'),'./output/img/' + nome_imagem)"
   ]
  },
  {
   "cell_type": "markdown",
   "metadata": {},
   "source": [
    "# <font color=green>6. WEB SCRAPING DO SITE ALURA MOTORS - OBTENDO OS DADOS DE TODOS OS ANÚNCIOS DE UMA PÁGINA"
   ]
  },
  {
   "cell_type": "markdown",
   "metadata": {},
   "source": [
    "# 6.1. Identificando as informações no HTML"
   ]
  },
  {
   "cell_type": "code",
   "execution_count": 146,
   "metadata": {
    "scrolled": true
   },
   "outputs": [
    {
     "data": {
      "text/plain": [
       "10"
      ]
     },
     "execution_count": 146,
     "metadata": {},
     "output_type": "execute_result"
    }
   ],
   "source": [
    "len(soup.find('div',{'id':'container-cards'}).findAll('div',class_='card'))"
   ]
  },
  {
   "cell_type": "code",
   "execution_count": 147,
   "metadata": {
    "scrolled": true
   },
   "outputs": [],
   "source": [
    "anuncios = soup.find('div',{'id':'container-cards'}).findAll('div',class_='card')"
   ]
  },
  {
   "cell_type": "code",
   "execution_count": 152,
   "metadata": {
    "scrolled": true
   },
   "outputs": [
    {
     "name": "stdout",
     "output_type": "stream",
     "text": [
      "<div class=\"well card\">\n",
      "<div class=\"col-md-3 image-card\">\n",
      "<img alt=\"Foto\" height=\"155\" src=\"https://caelum-online-public.s3.amazonaws.com/1381-scraping/01/img-cars/lamborghini-aventador/lamborghini-aventador-2932196__340.jpg\" width=\"220\"/>\n",
      "</div>\n",
      "<div class=\"col-md-6 body-card\">\n",
      "<p class=\"txt-name inline\">LAMBORGHINI AVENTADOR</p>\n",
      "<p class=\"txt-category badge badge-secondary inline\">USADO</p>\n",
      "<p class=\"txt-motor\">Motor 1.8 16v</p>\n",
      "<p class=\"txt-description\">Ano 1993 - 55.286 km</p>\n",
      "<ul class=\"lst-items\">\n",
      "<li class=\"txt-items\">► 4 X 4</li>\n",
      "<li class=\"txt-items\">► Câmera de estacionamento</li>\n",
      "<li class=\"txt-items\">► Controle de tração</li>\n",
      "<li class=\"txt-items\">► Sensor de estacionamento</li>\n",
      "<li class=\"txt-items\">...</li>\n",
      "</ul>\n",
      "<p class=\"txt-location\">Belo Horizonte - MG</p>\n",
      "</div>\n",
      "<div class=\"col-md-3 value-card\">\n",
      "<div class=\"value\">\n",
      "<p class=\"txt-value\">R$ 338.000</p>\n",
      "</div>\n",
      "</div>\n",
      "</div>\n",
      " \n",
      "\n",
      "<div class=\"well card\">\n",
      "<div class=\"col-md-3 image-card\">\n",
      "<img alt=\"Foto\" height=\"155\" src=\"https://caelum-online-public.s3.amazonaws.com/1381-scraping/01/img-cars/bmw-m2/bmw-m2-2970882__340.jpg\" width=\"220\"/>\n",
      "</div>\n",
      "<div class=\"col-md-6 body-card\">\n",
      "<p class=\"txt-name inline\">BMW M2</p>\n",
      "<p class=\"txt-category badge badge-secondary inline\">USADO</p>\n",
      "<p class=\"txt-motor\">Motor 3.0 32v</p>\n",
      "<p class=\"txt-description\">Ano 2018 - 83.447 km</p>\n",
      "<ul class=\"lst-items\">\n",
      "<li class=\"txt-items\">► Câmera de estacionamento</li>\n",
      "<li class=\"txt-items\">► Controle de estabilidade</li>\n",
      "<li class=\"txt-items\">► Travas elétricas</li>\n",
      "<li class=\"txt-items\">► Freios ABS</li>\n",
      "<li class=\"txt-items\">...</li>\n",
      "</ul>\n",
      "<p class=\"txt-location\">Belo Horizonte - MG</p>\n",
      "</div>\n",
      "<div class=\"col-md-3 value-card\">\n",
      "<div class=\"value\">\n",
      "<p class=\"txt-value\">R$ 346.000</p>\n",
      "</div>\n",
      "</div>\n",
      "</div>\n",
      " \n",
      "\n",
      "<div class=\"well card\">\n",
      "<div class=\"col-md-3 image-card\">\n",
      "<img alt=\"Foto\" height=\"155\" src=\"https://caelum-online-public.s3.amazonaws.com/1381-scraping/01/img-cars/alfa/alfa-1823056__340.jpg\" width=\"220\"/>\n",
      "</div>\n",
      "<div class=\"col-md-6 body-card\">\n",
      "<p class=\"txt-name inline\">ALFA</p>\n",
      "<p class=\"txt-category badge badge-secondary inline\">USADO</p>\n",
      "<p class=\"txt-motor\">Motor 1.8 16v</p>\n",
      "<p class=\"txt-description\">Ano 2004 - 19.722 km</p>\n",
      "<ul class=\"lst-items\">\n",
      "<li class=\"txt-items\">► Central multimídia</li>\n",
      "<li class=\"txt-items\">► Bancos de couro</li>\n",
      "<li class=\"txt-items\">► Rodas de liga</li>\n",
      "<li class=\"txt-items\">► Câmera de estacionamento</li>\n",
      "<li class=\"txt-items\">...</li>\n",
      "</ul>\n",
      "<p class=\"txt-location\">Rio de Janeiro - RJ</p>\n",
      "</div>\n",
      "<div class=\"col-md-3 value-card\">\n",
      "<div class=\"value\">\n",
      "<p class=\"txt-value\">R$ 480.000</p>\n",
      "</div>\n",
      "</div>\n",
      "</div>\n",
      " \n",
      "\n",
      "<div class=\"well card\">\n",
      "<div class=\"col-md-3 image-card\">\n",
      "<img alt=\"Foto\" height=\"155\" src=\"https://caelum-online-public.s3.amazonaws.com/1381-scraping/01/img-cars/puech/puech-4055386__340.jpg\" width=\"220\"/>\n",
      "</div>\n",
      "<div class=\"col-md-6 body-card\">\n",
      "<p class=\"txt-name inline\">PUECH</p>\n",
      "<p class=\"txt-category badge badge-secondary inline\">USADO</p>\n",
      "<p class=\"txt-motor\">Motor Diesel V8</p>\n",
      "<p class=\"txt-description\">Ano 1992 - 34.335 km</p>\n",
      "<ul class=\"lst-items\">\n",
      "<li class=\"txt-items\">► Bancos de couro</li>\n",
      "<li class=\"txt-items\">► Freios ABS</li>\n",
      "<li class=\"txt-items\">► Rodas de liga</li>\n",
      "<li class=\"txt-items\">► Câmbio automático</li>\n",
      "<li class=\"txt-items\">...</li>\n",
      "</ul>\n",
      "<p class=\"txt-location\">São Paulo - SP</p>\n",
      "</div>\n",
      "<div class=\"col-md-3 value-card\">\n",
      "<div class=\"value\">\n",
      "<p class=\"txt-value\">R$ 133.000</p>\n",
      "</div>\n",
      "</div>\n",
      "</div>\n",
      " \n",
      "\n",
      "<div class=\"well card\">\n",
      "<div class=\"col-md-3 image-card\">\n",
      "<img alt=\"Foto\" height=\"155\" src=\"https://caelum-online-public.s3.amazonaws.com/1381-scraping/01/img-cars/lamborghini-murcielago/lamborghini-murcielago-2872974__340.jpg\" width=\"220\"/>\n",
      "</div>\n",
      "<div class=\"col-md-6 body-card\">\n",
      "<p class=\"txt-name inline\">LAMBORGHINI MURCIELAGO</p>\n",
      "<p class=\"txt-category badge badge-secondary inline\">USADO</p>\n",
      "<p class=\"txt-motor\">Motor 1.0 8v</p>\n",
      "<p class=\"txt-description\">Ano 1991 - 464 km</p>\n",
      "<ul class=\"lst-items\">\n",
      "<li class=\"txt-items\">► Central multimídia</li>\n",
      "<li class=\"txt-items\">► Teto panorâmico</li>\n",
      "<li class=\"txt-items\">► Sensor crepuscular</li>\n",
      "<li class=\"txt-items\">► Piloto automático</li>\n",
      "<li class=\"txt-items\">...</li>\n",
      "</ul>\n",
      "<p class=\"txt-location\">Belo Horizonte - MG</p>\n",
      "</div>\n",
      "<div class=\"col-md-3 value-card\">\n",
      "<div class=\"value\">\n",
      "<p class=\"txt-value\">R$ 175.000</p>\n",
      "</div>\n",
      "</div>\n",
      "</div>\n",
      " \n",
      "\n",
      "<div class=\"well card\">\n",
      "<div class=\"col-md-3 image-card\">\n",
      "<img alt=\"Foto\" height=\"155\" src=\"https://caelum-online-public.s3.amazonaws.com/1381-scraping/01/img-cars/aston-martin/aston-martin-2977916__340.jpg\" width=\"220\"/>\n",
      "</div>\n",
      "<div class=\"col-md-6 body-card\">\n",
      "<p class=\"txt-name inline\">ASTON MARTIN</p>\n",
      "<p class=\"txt-category badge badge-secondary inline\">USADO</p>\n",
      "<p class=\"txt-opportunity badge badge-danger inline\">OPORTUNIDADE</p>\n",
      "<p class=\"txt-motor\">Motor Diesel V6</p>\n",
      "<p class=\"txt-description\">Ano 2004 - 50.189 km</p>\n",
      "<ul class=\"lst-items\">\n",
      "<li class=\"txt-items\">► Painel digital</li>\n",
      "<li class=\"txt-items\">► Controle de tração</li>\n",
      "<li class=\"txt-items\">► Teto panorâmico</li>\n",
      "<li class=\"txt-items\">► Central multimídia</li>\n",
      "<li class=\"txt-items\">...</li>\n",
      "</ul>\n",
      "<p class=\"txt-location\">Belo Horizonte - MG</p>\n",
      "</div>\n",
      "<div class=\"col-md-3 value-card\">\n",
      "<div class=\"value\">\n",
      "<p class=\"txt-value\">R$ 239.000</p>\n",
      "</div>\n",
      "</div>\n",
      "</div>\n",
      " \n",
      "\n",
      "<div class=\"well card\">\n",
      "<div class=\"col-md-3 image-card\">\n",
      "<img alt=\"Foto\" height=\"155\" src=\"https://caelum-online-public.s3.amazonaws.com/1381-scraping/01/img-cars/tvr/tvr-2943925__340.jpg\" width=\"220\"/>\n",
      "</div>\n",
      "<div class=\"col-md-6 body-card\">\n",
      "<p class=\"txt-name inline\">TVR</p>\n",
      "<p class=\"txt-category badge badge-secondary inline\">USADO</p>\n",
      "<p class=\"txt-motor\">Motor 4.0 Turbo</p>\n",
      "<p class=\"txt-description\">Ano 2014 - 17.778 km</p>\n",
      "<ul class=\"lst-items\">\n",
      "<li class=\"txt-items\">► 4 X 4</li>\n",
      "<li class=\"txt-items\">► Teto panorâmico</li>\n",
      "<li class=\"txt-items\">► Central multimídia</li>\n",
      "<li class=\"txt-items\">► Controle de estabilidade</li>\n",
      "<li class=\"txt-items\">...</li>\n",
      "</ul>\n",
      "<p class=\"txt-location\">Belo Horizonte - MG</p>\n",
      "</div>\n",
      "<div class=\"col-md-3 value-card\">\n",
      "<div class=\"value\">\n",
      "<p class=\"txt-value\">R$ 115.000</p>\n",
      "</div>\n",
      "</div>\n",
      "</div>\n",
      " \n",
      "\n",
      "<div class=\"well card\">\n",
      "<div class=\"col-md-3 image-card\">\n",
      "<img alt=\"Foto\" height=\"155\" src=\"https://caelum-online-public.s3.amazonaws.com/1381-scraping/01/img-cars/excalibur/excalibur-2916730__340.jpg\" width=\"220\"/>\n",
      "</div>\n",
      "<div class=\"col-md-6 body-card\">\n",
      "<p class=\"txt-name inline\">EXCALIBUR</p>\n",
      "<p class=\"txt-category badge badge-secondary inline\">USADO</p>\n",
      "<p class=\"txt-motor\">Motor 3.0 32v</p>\n",
      "<p class=\"txt-description\">Ano 2009 - 81.251 km</p>\n",
      "<ul class=\"lst-items\">\n",
      "<li class=\"txt-items\">► Painel digital</li>\n",
      "<li class=\"txt-items\">► Câmbio automático</li>\n",
      "<li class=\"txt-items\">► Sensor de chuva</li>\n",
      "<li class=\"txt-items\">► Travas elétricas</li>\n",
      "<li class=\"txt-items\">...</li>\n",
      "</ul>\n",
      "<p class=\"txt-location\">Rio de Janeiro - RJ</p>\n",
      "</div>\n",
      "<div class=\"col-md-3 value-card\">\n",
      "<div class=\"value\">\n",
      "<p class=\"txt-value\">R$ 114.000</p>\n",
      "</div>\n",
      "</div>\n",
      "</div>\n",
      " \n",
      "\n",
      "<div class=\"well card\">\n",
      "<div class=\"col-md-3 image-card\">\n",
      "<img alt=\"Foto\" height=\"155\" src=\"https://caelum-online-public.s3.amazonaws.com/1381-scraping/01/img-cars/mclaren/mclaren-2855240__340.jpg\" width=\"220\"/>\n",
      "</div>\n",
      "<div class=\"col-md-6 body-card\">\n",
      "<p class=\"txt-name inline\">MCLAREN</p>\n",
      "<p class=\"txt-category badge badge-secondary inline\">NOVO</p>\n",
      "<p class=\"txt-motor\">Motor Diesel</p>\n",
      "<p class=\"txt-description\">Ano 2019 - 0 km</p>\n",
      "<ul class=\"lst-items\">\n",
      "<li class=\"txt-items\">► Central multimídia</li>\n",
      "<li class=\"txt-items\">► Câmera de estacionamento</li>\n",
      "<li class=\"txt-items\">► Câmbio automático</li>\n",
      "<li class=\"txt-items\">► Ar condicionado</li>\n",
      "<li class=\"txt-items\">...</li>\n",
      "</ul>\n",
      "<p class=\"txt-location\">São Paulo - SP</p>\n",
      "</div>\n",
      "<div class=\"col-md-3 value-card\">\n",
      "<div class=\"value\">\n",
      "<p class=\"txt-value\">R$ 75.000</p>\n",
      "</div>\n",
      "</div>\n",
      "</div>\n",
      " \n",
      "\n",
      "<div class=\"well card\">\n",
      "<div class=\"col-md-3 image-card\">\n",
      "<img alt=\"Foto\" height=\"155\" src=\"https://caelum-online-public.s3.amazonaws.com/1381-scraping/01/img-cars/toyota/toyota-3245397__340.jpg\" width=\"220\"/>\n",
      "</div>\n",
      "<div class=\"col-md-6 body-card\">\n",
      "<p class=\"txt-name inline\">TOYOTA</p>\n",
      "<p class=\"txt-category badge badge-secondary inline\">USADO</p>\n",
      "<p class=\"txt-opportunity badge badge-danger inline\">OPORTUNIDADE</p>\n",
      "<p class=\"txt-motor\">Motor 4.0 Turbo</p>\n",
      "<p class=\"txt-description\">Ano 1999 - 12.536 km</p>\n",
      "<ul class=\"lst-items\">\n",
      "<li class=\"txt-items\">► Bancos de couro</li>\n",
      "<li class=\"txt-items\">► Freios ABS</li>\n",
      "<li class=\"txt-items\">► Piloto automático</li>\n",
      "<li class=\"txt-items\">► Controle de estabilidade</li>\n",
      "<li class=\"txt-items\">...</li>\n",
      "</ul>\n",
      "<p class=\"txt-location\">São Paulo - SP</p>\n",
      "</div>\n",
      "<div class=\"col-md-3 value-card\">\n",
      "<div class=\"value\">\n",
      "<p class=\"txt-value\">R$ 117.000</p>\n",
      "</div>\n",
      "</div>\n",
      "</div>\n",
      " \n",
      "\n"
     ]
    }
   ],
   "source": [
    "for anuncio in anuncios:\n",
    "    print(str(anuncio)+ '\\n \\n')"
   ]
  },
  {
   "cell_type": "markdown",
   "metadata": {},
   "source": [
    "# 6.2. Criando uma rotina de scraping"
   ]
  },
  {
   "cell_type": "code",
   "execution_count": 158,
   "metadata": {},
   "outputs": [
    {
     "data": {
      "text/plain": [
       "('./output/img/toyota-3245397__340.jpg',\n",
       " <http.client.HTTPMessage at 0x7f8fcc324610>)"
      ]
     },
     "execution_count": 158,
     "metadata": {},
     "output_type": "execute_result"
    }
   ],
   "source": [
    "# Valor\n",
    "card['value'] = anuncio.find('p', {'class': 'txt-value'}).getText()\n",
    "\n",
    "# Informações\n",
    "infos = anuncio.find('div',{'class':'body-card'}).findAll('p')\n",
    "for info in infos:\n",
    "    card[info.get('class')[0].split('-')[-1]] = info.get_text()\n",
    "\n",
    "# Acessorios\n",
    "items = anuncio.find('div',{'class':'body-card'}).ul.findAll('li')\n",
    "items.pop()\n",
    "acessorios = []\n",
    "for item in items:\n",
    "    acessorios.append(item.getText().replace('► ',''))\n",
    "card['items'] = acessorios \n",
    "\n",
    "# Imagens\n",
    "image = anuncio.find('div',{'class':'image-card'}).img\n",
    "nome_imagem = image.get('src').split('/')[-1]\n",
    "urlretrieve(image.get('src'),'./output/img/' + nome_imagem)\n",
    "\n"
   ]
  },
  {
   "cell_type": "code",
   "execution_count": 160,
   "metadata": {},
   "outputs": [
    {
     "data": {
      "text/html": [
       "<div>\n",
       "<style scoped>\n",
       "    .dataframe tbody tr th:only-of-type {\n",
       "        vertical-align: middle;\n",
       "    }\n",
       "\n",
       "    .dataframe tbody tr th {\n",
       "        vertical-align: top;\n",
       "    }\n",
       "\n",
       "    .dataframe thead th {\n",
       "        text-align: right;\n",
       "    }\n",
       "</style>\n",
       "<table border=\"1\" class=\"dataframe\">\n",
       "  <thead>\n",
       "    <tr style=\"text-align: right;\">\n",
       "      <th></th>\n",
       "      <th>value</th>\n",
       "      <th>name</th>\n",
       "      <th>category</th>\n",
       "      <th>motor</th>\n",
       "      <th>description</th>\n",
       "      <th>location</th>\n",
       "      <th>items</th>\n",
       "      <th>opportunity</th>\n",
       "    </tr>\n",
       "  </thead>\n",
       "  <tbody>\n",
       "    <tr>\n",
       "      <th>0</th>\n",
       "      <td>R$ 338.000</td>\n",
       "      <td>LAMBORGHINI AVENTADOR</td>\n",
       "      <td>USADO</td>\n",
       "      <td>Motor 1.8 16v</td>\n",
       "      <td>Ano 1993 - 55.286 km</td>\n",
       "      <td>Belo Horizonte - MG</td>\n",
       "      <td>[4 X 4, Câmera de estacionamento, Controle de ...</td>\n",
       "      <td>NaN</td>\n",
       "    </tr>\n",
       "    <tr>\n",
       "      <th>1</th>\n",
       "      <td>R$ 346.000</td>\n",
       "      <td>BMW M2</td>\n",
       "      <td>USADO</td>\n",
       "      <td>Motor 3.0 32v</td>\n",
       "      <td>Ano 2018 - 83.447 km</td>\n",
       "      <td>Belo Horizonte - MG</td>\n",
       "      <td>[Câmera de estacionamento, Controle de estabil...</td>\n",
       "      <td>NaN</td>\n",
       "    </tr>\n",
       "    <tr>\n",
       "      <th>2</th>\n",
       "      <td>R$ 480.000</td>\n",
       "      <td>ALFA</td>\n",
       "      <td>USADO</td>\n",
       "      <td>Motor 1.8 16v</td>\n",
       "      <td>Ano 2004 - 19.722 km</td>\n",
       "      <td>Rio de Janeiro - RJ</td>\n",
       "      <td>[Central multimídia, Bancos de couro, Rodas de...</td>\n",
       "      <td>NaN</td>\n",
       "    </tr>\n",
       "    <tr>\n",
       "      <th>3</th>\n",
       "      <td>R$ 133.000</td>\n",
       "      <td>PUECH</td>\n",
       "      <td>USADO</td>\n",
       "      <td>Motor Diesel V8</td>\n",
       "      <td>Ano 1992 - 34.335 km</td>\n",
       "      <td>São Paulo - SP</td>\n",
       "      <td>[Bancos de couro, Freios ABS, Rodas de liga, C...</td>\n",
       "      <td>NaN</td>\n",
       "    </tr>\n",
       "    <tr>\n",
       "      <th>4</th>\n",
       "      <td>R$ 175.000</td>\n",
       "      <td>LAMBORGHINI MURCIELAGO</td>\n",
       "      <td>USADO</td>\n",
       "      <td>Motor 1.0 8v</td>\n",
       "      <td>Ano 1991 - 464 km</td>\n",
       "      <td>Belo Horizonte - MG</td>\n",
       "      <td>[Central multimídia, Teto panorâmico, Sensor c...</td>\n",
       "      <td>NaN</td>\n",
       "    </tr>\n",
       "    <tr>\n",
       "      <th>5</th>\n",
       "      <td>R$ 239.000</td>\n",
       "      <td>ASTON MARTIN</td>\n",
       "      <td>USADO</td>\n",
       "      <td>Motor Diesel V6</td>\n",
       "      <td>Ano 2004 - 50.189 km</td>\n",
       "      <td>Belo Horizonte - MG</td>\n",
       "      <td>[Painel digital, Controle de tração, Teto pano...</td>\n",
       "      <td>OPORTUNIDADE</td>\n",
       "    </tr>\n",
       "    <tr>\n",
       "      <th>6</th>\n",
       "      <td>R$ 115.000</td>\n",
       "      <td>TVR</td>\n",
       "      <td>USADO</td>\n",
       "      <td>Motor 4.0 Turbo</td>\n",
       "      <td>Ano 2014 - 17.778 km</td>\n",
       "      <td>Belo Horizonte - MG</td>\n",
       "      <td>[4 X 4, Teto panorâmico, Central multimídia, C...</td>\n",
       "      <td>NaN</td>\n",
       "    </tr>\n",
       "    <tr>\n",
       "      <th>7</th>\n",
       "      <td>R$ 114.000</td>\n",
       "      <td>EXCALIBUR</td>\n",
       "      <td>USADO</td>\n",
       "      <td>Motor 3.0 32v</td>\n",
       "      <td>Ano 2009 - 81.251 km</td>\n",
       "      <td>Rio de Janeiro - RJ</td>\n",
       "      <td>[Painel digital, Câmbio automático, Sensor de ...</td>\n",
       "      <td>NaN</td>\n",
       "    </tr>\n",
       "    <tr>\n",
       "      <th>8</th>\n",
       "      <td>R$ 75.000</td>\n",
       "      <td>MCLAREN</td>\n",
       "      <td>NOVO</td>\n",
       "      <td>Motor Diesel</td>\n",
       "      <td>Ano 2019 - 0 km</td>\n",
       "      <td>São Paulo - SP</td>\n",
       "      <td>[Central multimídia, Câmera de estacionamento,...</td>\n",
       "      <td>NaN</td>\n",
       "    </tr>\n",
       "    <tr>\n",
       "      <th>9</th>\n",
       "      <td>R$ 117.000</td>\n",
       "      <td>TOYOTA</td>\n",
       "      <td>USADO</td>\n",
       "      <td>Motor 4.0 Turbo</td>\n",
       "      <td>Ano 1999 - 12.536 km</td>\n",
       "      <td>São Paulo - SP</td>\n",
       "      <td>[Bancos de couro, Freios ABS, Piloto automátic...</td>\n",
       "      <td>OPORTUNIDADE</td>\n",
       "    </tr>\n",
       "  </tbody>\n",
       "</table>\n",
       "</div>"
      ],
      "text/plain": [
       "        value                    name category            motor  \\\n",
       "0  R$ 338.000   LAMBORGHINI AVENTADOR    USADO    Motor 1.8 16v   \n",
       "1  R$ 346.000                  BMW M2    USADO    Motor 3.0 32v   \n",
       "2  R$ 480.000                    ALFA    USADO    Motor 1.8 16v   \n",
       "3  R$ 133.000                   PUECH    USADO  Motor Diesel V8   \n",
       "4  R$ 175.000  LAMBORGHINI MURCIELAGO    USADO     Motor 1.0 8v   \n",
       "5  R$ 239.000            ASTON MARTIN    USADO  Motor Diesel V6   \n",
       "6  R$ 115.000                     TVR    USADO  Motor 4.0 Turbo   \n",
       "7  R$ 114.000               EXCALIBUR    USADO    Motor 3.0 32v   \n",
       "8   R$ 75.000                 MCLAREN     NOVO     Motor Diesel   \n",
       "9  R$ 117.000                  TOYOTA    USADO  Motor 4.0 Turbo   \n",
       "\n",
       "            description             location  \\\n",
       "0  Ano 1993 - 55.286 km  Belo Horizonte - MG   \n",
       "1  Ano 2018 - 83.447 km  Belo Horizonte - MG   \n",
       "2  Ano 2004 - 19.722 km  Rio de Janeiro - RJ   \n",
       "3  Ano 1992 - 34.335 km       São Paulo - SP   \n",
       "4     Ano 1991 - 464 km  Belo Horizonte - MG   \n",
       "5  Ano 2004 - 50.189 km  Belo Horizonte - MG   \n",
       "6  Ano 2014 - 17.778 km  Belo Horizonte - MG   \n",
       "7  Ano 2009 - 81.251 km  Rio de Janeiro - RJ   \n",
       "8       Ano 2019 - 0 km       São Paulo - SP   \n",
       "9  Ano 1999 - 12.536 km       São Paulo - SP   \n",
       "\n",
       "                                               items   opportunity  \n",
       "0  [4 X 4, Câmera de estacionamento, Controle de ...           NaN  \n",
       "1  [Câmera de estacionamento, Controle de estabil...           NaN  \n",
       "2  [Central multimídia, Bancos de couro, Rodas de...           NaN  \n",
       "3  [Bancos de couro, Freios ABS, Rodas de liga, C...           NaN  \n",
       "4  [Central multimídia, Teto panorâmico, Sensor c...           NaN  \n",
       "5  [Painel digital, Controle de tração, Teto pano...  OPORTUNIDADE  \n",
       "6  [4 X 4, Teto panorâmico, Central multimídia, C...           NaN  \n",
       "7  [Painel digital, Câmbio automático, Sensor de ...           NaN  \n",
       "8  [Central multimídia, Câmera de estacionamento,...           NaN  \n",
       "9  [Bancos de couro, Freios ABS, Piloto automátic...  OPORTUNIDADE  "
      ]
     },
     "execution_count": 160,
     "metadata": {},
     "output_type": "execute_result"
    }
   ],
   "source": [
    "# Importando bibliotecas\n",
    "from urllib.request import urlopen, urlretrieve\n",
    "from bs4 import BeautifulSoup\n",
    "import pandas as pd\n",
    "\n",
    "#Declarando variável cards\n",
    "cards = []\n",
    "\n",
    "#Obtendo HTML\n",
    "response = urlopen('https://alura-site-scraping.herokuapp.com/index.php')\n",
    "html = response.read().decode('utf-8')\n",
    "soup = BeautifulSoup(html,'html.parser')\n",
    "\n",
    "#Obtendo as Tags de interesse\n",
    "anuncios = soup.find('div',{'id':'container-cards'}).findAll('div',class_='card')\n",
    "\n",
    "#Coletando as informações dos CARDS\n",
    "for anuncio in anuncios:\n",
    "    card = {}\n",
    "    \n",
    "    # Valor\n",
    "    card['value'] = anuncio.find('p', {'class': 'txt-value'}).getText()\n",
    "\n",
    "    # Informações\n",
    "    infos = anuncio.find('div',{'class':'body-card'}).findAll('p')\n",
    "    for info in infos:\n",
    "        card[info.get('class')[0].split('-')[-1]] = info.get_text()\n",
    "\n",
    "    # Acessorios\n",
    "    items = anuncio.find('div',{'class':'body-card'}).ul.findAll('li')\n",
    "    items.pop()\n",
    "    acessorios = []\n",
    "    for item in items:\n",
    "        acessorios.append(item.getText().replace('► ',''))\n",
    "    card['items'] = acessorios \n",
    "\n",
    "    #Adicionando resultado a lista cards\n",
    "    cards.append(card)\n",
    "    \n",
    "    # Imagens\n",
    "    image = anuncio.find('div',{'class':'image-card'}).img\n",
    "    nome_imagem = image.get('src').split('/')[-1]\n",
    "    urlretrieve(image.get('src'),'./output/img/' + nome_imagem)\n",
    "\n",
    "\n",
    "dataset = pd.DataFrame(cards)\n",
    "dataset.to_csv('./output/data/dataset.csv',sep=';', index=False,encoding='utf-8-sig')\n",
    "dataset"
   ]
  },
  {
   "cell_type": "markdown",
   "metadata": {},
   "source": [
    "# <font color=green>7. WEB SCRAPING DO SITE ALURA MOTORS - OBTENDO OS DADOS DE TODOS OS ANÚNCIOS DO SITE"
   ]
  },
  {
   "cell_type": "markdown",
   "metadata": {},
   "source": [
    "# 7.1. Identificando as informações no HTML"
   ]
  },
  {
   "cell_type": "code",
   "execution_count": 162,
   "metadata": {},
   "outputs": [
    {
     "data": {
      "text/plain": [
       "<span class=\"info-pages\">Página 1 de 25</span>"
      ]
     },
     "execution_count": 162,
     "metadata": {},
     "output_type": "execute_result"
    }
   ],
   "source": [
    "soup.find('span',{'class':'info-pages'})"
   ]
  },
  {
   "cell_type": "code",
   "execution_count": 163,
   "metadata": {
    "scrolled": true
   },
   "outputs": [
    {
     "data": {
      "text/plain": [
       "'Página 1 de 25'"
      ]
     },
     "execution_count": 163,
     "metadata": {},
     "output_type": "execute_result"
    }
   ],
   "source": [
    "soup.find('span',{'class':'info-pages'}).get_text()"
   ]
  },
  {
   "cell_type": "code",
   "execution_count": 165,
   "metadata": {},
   "outputs": [
    {
     "data": {
      "text/plain": [
       "'25'"
      ]
     },
     "execution_count": 165,
     "metadata": {},
     "output_type": "execute_result"
    }
   ],
   "source": [
    "soup.find('span',{'class':'info-pages'}).get_text().split()[-1]"
   ]
  },
  {
   "cell_type": "code",
   "execution_count": 166,
   "metadata": {},
   "outputs": [
    {
     "data": {
      "text/plain": [
       "25"
      ]
     },
     "execution_count": 166,
     "metadata": {},
     "output_type": "execute_result"
    }
   ],
   "source": [
    "int(soup.find('span',{'class':'info-pages'}).get_text().split()[-1])"
   ]
  },
  {
   "cell_type": "markdown",
   "metadata": {},
   "source": [
    "# 7.2. Criando uma rotina de scraping"
   ]
  },
  {
   "cell_type": "code",
   "execution_count": 167,
   "metadata": {
    "scrolled": true
   },
   "outputs": [
    {
     "data": {
      "text/html": [
       "<div>\n",
       "<style scoped>\n",
       "    .dataframe tbody tr th:only-of-type {\n",
       "        vertical-align: middle;\n",
       "    }\n",
       "\n",
       "    .dataframe tbody tr th {\n",
       "        vertical-align: top;\n",
       "    }\n",
       "\n",
       "    .dataframe thead th {\n",
       "        text-align: right;\n",
       "    }\n",
       "</style>\n",
       "<table border=\"1\" class=\"dataframe\">\n",
       "  <thead>\n",
       "    <tr style=\"text-align: right;\">\n",
       "      <th></th>\n",
       "      <th>value</th>\n",
       "      <th>name</th>\n",
       "      <th>category</th>\n",
       "      <th>motor</th>\n",
       "      <th>description</th>\n",
       "      <th>location</th>\n",
       "      <th>items</th>\n",
       "      <th>opportunity</th>\n",
       "    </tr>\n",
       "  </thead>\n",
       "  <tbody>\n",
       "    <tr>\n",
       "      <th>0</th>\n",
       "      <td>R$ 338.000</td>\n",
       "      <td>LAMBORGHINI AVENTADOR</td>\n",
       "      <td>USADO</td>\n",
       "      <td>Motor 1.8 16v</td>\n",
       "      <td>Ano 1993 - 55.286 km</td>\n",
       "      <td>Belo Horizonte - MG</td>\n",
       "      <td>[4 X 4, Câmera de estacionamento, Controle de ...</td>\n",
       "      <td>NaN</td>\n",
       "    </tr>\n",
       "    <tr>\n",
       "      <th>1</th>\n",
       "      <td>R$ 346.000</td>\n",
       "      <td>BMW M2</td>\n",
       "      <td>USADO</td>\n",
       "      <td>Motor 3.0 32v</td>\n",
       "      <td>Ano 2018 - 83.447 km</td>\n",
       "      <td>Belo Horizonte - MG</td>\n",
       "      <td>[Câmera de estacionamento, Controle de estabil...</td>\n",
       "      <td>NaN</td>\n",
       "    </tr>\n",
       "    <tr>\n",
       "      <th>2</th>\n",
       "      <td>R$ 480.000</td>\n",
       "      <td>ALFA</td>\n",
       "      <td>USADO</td>\n",
       "      <td>Motor 1.8 16v</td>\n",
       "      <td>Ano 2004 - 19.722 km</td>\n",
       "      <td>Rio de Janeiro - RJ</td>\n",
       "      <td>[Central multimídia, Bancos de couro, Rodas de...</td>\n",
       "      <td>NaN</td>\n",
       "    </tr>\n",
       "    <tr>\n",
       "      <th>3</th>\n",
       "      <td>R$ 133.000</td>\n",
       "      <td>PUECH</td>\n",
       "      <td>USADO</td>\n",
       "      <td>Motor Diesel V8</td>\n",
       "      <td>Ano 1992 - 34.335 km</td>\n",
       "      <td>São Paulo - SP</td>\n",
       "      <td>[Bancos de couro, Freios ABS, Rodas de liga, C...</td>\n",
       "      <td>NaN</td>\n",
       "    </tr>\n",
       "    <tr>\n",
       "      <th>4</th>\n",
       "      <td>R$ 175.000</td>\n",
       "      <td>LAMBORGHINI MURCIELAGO</td>\n",
       "      <td>USADO</td>\n",
       "      <td>Motor 1.0 8v</td>\n",
       "      <td>Ano 1991 - 464 km</td>\n",
       "      <td>Belo Horizonte - MG</td>\n",
       "      <td>[Central multimídia, Teto panorâmico, Sensor c...</td>\n",
       "      <td>NaN</td>\n",
       "    </tr>\n",
       "    <tr>\n",
       "      <th>...</th>\n",
       "      <td>...</td>\n",
       "      <td>...</td>\n",
       "      <td>...</td>\n",
       "      <td>...</td>\n",
       "      <td>...</td>\n",
       "      <td>...</td>\n",
       "      <td>...</td>\n",
       "      <td>...</td>\n",
       "    </tr>\n",
       "    <tr>\n",
       "      <th>241</th>\n",
       "      <td>R$ 489.000</td>\n",
       "      <td>SUV REAR TIRE</td>\n",
       "      <td>USADO</td>\n",
       "      <td>Motor 3.0 32v</td>\n",
       "      <td>Ano 1998 - 74.292 km</td>\n",
       "      <td>São Paulo - SP</td>\n",
       "      <td>[Câmera de estacionamento, Rodas de liga, Sens...</td>\n",
       "      <td>NaN</td>\n",
       "    </tr>\n",
       "    <tr>\n",
       "      <th>242</th>\n",
       "      <td>R$ 427.000</td>\n",
       "      <td>ANTIQUE</td>\n",
       "      <td>NOVO</td>\n",
       "      <td>Motor 2.0 16v</td>\n",
       "      <td>Ano 2019 - 0 km</td>\n",
       "      <td>Belo Horizonte - MG</td>\n",
       "      <td>[Bancos de couro, Freios ABS, Sensor de estaci...</td>\n",
       "      <td>NaN</td>\n",
       "    </tr>\n",
       "    <tr>\n",
       "      <th>243</th>\n",
       "      <td>R$ 203.000</td>\n",
       "      <td>SPORT</td>\n",
       "      <td>USADO</td>\n",
       "      <td>Motor 2.0 16v</td>\n",
       "      <td>Ano 2001 - 102.776 km</td>\n",
       "      <td>Belo Horizonte - MG</td>\n",
       "      <td>[Sensor crepuscular, Sensor de chuva, Vidros e...</td>\n",
       "      <td>NaN</td>\n",
       "    </tr>\n",
       "    <tr>\n",
       "      <th>244</th>\n",
       "      <td>R$ 474.000</td>\n",
       "      <td>IMPERIAL</td>\n",
       "      <td>USADO</td>\n",
       "      <td>Motor 1.8 16v</td>\n",
       "      <td>Ano 2011 - 101.787 km</td>\n",
       "      <td>Belo Horizonte - MG</td>\n",
       "      <td>[Painel digital, Travas elétricas, Sensor de c...</td>\n",
       "      <td>OPORTUNIDADE</td>\n",
       "    </tr>\n",
       "    <tr>\n",
       "      <th>245</th>\n",
       "      <td>R$ 366.000</td>\n",
       "      <td>KIA SPORTS CAR</td>\n",
       "      <td>USADO</td>\n",
       "      <td>Motor 3.0 32v</td>\n",
       "      <td>Ano 2001 - 88.564 km</td>\n",
       "      <td>Belo Horizonte - MG</td>\n",
       "      <td>[Sensor crepuscular, Bancos de couro, Sensor d...</td>\n",
       "      <td>NaN</td>\n",
       "    </tr>\n",
       "  </tbody>\n",
       "</table>\n",
       "<p>246 rows × 8 columns</p>\n",
       "</div>"
      ],
      "text/plain": [
       "          value                    name category            motor  \\\n",
       "0    R$ 338.000   LAMBORGHINI AVENTADOR    USADO    Motor 1.8 16v   \n",
       "1    R$ 346.000                  BMW M2    USADO    Motor 3.0 32v   \n",
       "2    R$ 480.000                    ALFA    USADO    Motor 1.8 16v   \n",
       "3    R$ 133.000                   PUECH    USADO  Motor Diesel V8   \n",
       "4    R$ 175.000  LAMBORGHINI MURCIELAGO    USADO     Motor 1.0 8v   \n",
       "..          ...                     ...      ...              ...   \n",
       "241  R$ 489.000           SUV REAR TIRE    USADO    Motor 3.0 32v   \n",
       "242  R$ 427.000                 ANTIQUE     NOVO    Motor 2.0 16v   \n",
       "243  R$ 203.000                   SPORT    USADO    Motor 2.0 16v   \n",
       "244  R$ 474.000                IMPERIAL    USADO    Motor 1.8 16v   \n",
       "245  R$ 366.000          KIA SPORTS CAR    USADO    Motor 3.0 32v   \n",
       "\n",
       "               description             location  \\\n",
       "0     Ano 1993 - 55.286 km  Belo Horizonte - MG   \n",
       "1     Ano 2018 - 83.447 km  Belo Horizonte - MG   \n",
       "2     Ano 2004 - 19.722 km  Rio de Janeiro - RJ   \n",
       "3     Ano 1992 - 34.335 km       São Paulo - SP   \n",
       "4        Ano 1991 - 464 km  Belo Horizonte - MG   \n",
       "..                     ...                  ...   \n",
       "241   Ano 1998 - 74.292 km       São Paulo - SP   \n",
       "242        Ano 2019 - 0 km  Belo Horizonte - MG   \n",
       "243  Ano 2001 - 102.776 km  Belo Horizonte - MG   \n",
       "244  Ano 2011 - 101.787 km  Belo Horizonte - MG   \n",
       "245   Ano 2001 - 88.564 km  Belo Horizonte - MG   \n",
       "\n",
       "                                                 items   opportunity  \n",
       "0    [4 X 4, Câmera de estacionamento, Controle de ...           NaN  \n",
       "1    [Câmera de estacionamento, Controle de estabil...           NaN  \n",
       "2    [Central multimídia, Bancos de couro, Rodas de...           NaN  \n",
       "3    [Bancos de couro, Freios ABS, Rodas de liga, C...           NaN  \n",
       "4    [Central multimídia, Teto panorâmico, Sensor c...           NaN  \n",
       "..                                                 ...           ...  \n",
       "241  [Câmera de estacionamento, Rodas de liga, Sens...           NaN  \n",
       "242  [Bancos de couro, Freios ABS, Sensor de estaci...           NaN  \n",
       "243  [Sensor crepuscular, Sensor de chuva, Vidros e...           NaN  \n",
       "244  [Painel digital, Travas elétricas, Sensor de c...  OPORTUNIDADE  \n",
       "245  [Sensor crepuscular, Bancos de couro, Sensor d...           NaN  \n",
       "\n",
       "[246 rows x 8 columns]"
      ]
     },
     "execution_count": 167,
     "metadata": {},
     "output_type": "execute_result"
    }
   ],
   "source": [
    "# Importando bibliotecas\n",
    "from urllib.request import urlopen, urlretrieve\n",
    "from bs4 import BeautifulSoup\n",
    "import pandas as pd\n",
    "\n",
    "#Declarando variável cards\n",
    "cards = []\n",
    "\n",
    "\n",
    "##Obtendo HTML e o total de paginas\n",
    "response = urlopen('https://alura-site-scraping.herokuapp.com/index.php')\n",
    "html = response.read().decode('utf-8')\n",
    "soup = BeautifulSoup(html,'html.parser')\n",
    "pages = int(soup.find('span',{'class':'info-pages'}).get_text().split()[-1])\n",
    "\n",
    "\n",
    "##interando por todas as paginas do site\n",
    "for i in range(pages):\n",
    "    ##Obtendo o HTML\n",
    "    response = urlopen('https://alura-site-scraping.herokuapp.com/index.php?page=' + str(i + 1))\n",
    "    html = response.read().decode('utf-8')\n",
    "    soup = BeautifulSoup(html,'html.parser')\n",
    "\n",
    "    \n",
    "    #Obtendo as Tags de interesse\n",
    "    anuncios = soup.find('div',{'id':'container-cards'}).findAll('div',class_='card')\n",
    "\n",
    "    #Coletando as informações dos CARDS\n",
    "    for anuncio in anuncios:\n",
    "        card = {}\n",
    "\n",
    "        # Valor\n",
    "        card['value'] = anuncio.find('p', {'class': 'txt-value'}).getText()\n",
    "\n",
    "        # Informações\n",
    "        infos = anuncio.find('div',{'class':'body-card'}).findAll('p')\n",
    "        for info in infos:\n",
    "            card[info.get('class')[0].split('-')[-1]] = info.get_text()\n",
    "\n",
    "        # Acessorios\n",
    "        items = anuncio.find('div',{'class':'body-card'}).ul.findAll('li')\n",
    "        items.pop()\n",
    "        acessorios = []\n",
    "        for item in items:\n",
    "            acessorios.append(item.getText().replace('► ',''))\n",
    "        card['items'] = acessorios \n",
    "\n",
    "        #Adicionando resultado a lista cards\n",
    "        cards.append(card)\n",
    "\n",
    "        # Imagens\n",
    "        image = anuncio.find('div',{'class':'image-card'}).img\n",
    "        nome_imagem = image.get('src').split('/')[-1]\n",
    "        urlretrieve(image.get('src'),'./output/img/' + nome_imagem)\n",
    "\n",
    "\n",
    "dataset = pd.DataFrame(cards)\n",
    "dataset.to_csv('./output/data/dataset.csv',sep=';', index=False,encoding='utf-8-sig')\n",
    "dataset"
   ]
  },
  {
   "cell_type": "markdown",
   "metadata": {},
   "source": [
    "# Curiosidades"
   ]
  },
  {
   "cell_type": "markdown",
   "metadata": {},
   "source": [
    "## Tratamento de texto"
   ]
  },
  {
   "cell_type": "code",
   "execution_count": null,
   "metadata": {
    "scrolled": true
   },
   "outputs": [],
   "source": [
    "exer = 'O\\ns@po\\nn#o\\tl@v@\\to\\npé'\n",
    "\n",
    "resp = ' '.join(exer.split()).replace('@','a').replace('#','ã')\n",
    "resp"
   ]
  },
  {
   "cell_type": "markdown",
   "metadata": {},
   "source": [
    "## acessando um conteúdo edificante do You Tube"
   ]
  },
  {
   "cell_type": "code",
   "execution_count": null,
   "metadata": {},
   "outputs": [],
   "source": [
    "tes = 'https://www.youtube.com/watch?v=H3UjY4hwpck&ab_channel=DivaDepress%C3%A3o'\n",
    "response= urlopen(tes)\n",
    "teste = response.read()\n",
    "\n",
    "teste = BeautifulSoup(teste,'html.parser')\n",
    "print(teste)"
   ]
  },
  {
   "cell_type": "code",
   "execution_count": null,
   "metadata": {},
   "outputs": [],
   "source": []
  }
 ],
 "metadata": {
  "colab": {
   "name": "Untitled12.ipynb",
   "provenance": [],
   "version": "0.3.2"
  },
  "kernelspec": {
   "display_name": "Python 3 (ipykernel)",
   "language": "python",
   "name": "python3"
  },
  "language_info": {
   "codemirror_mode": {
    "name": "ipython",
    "version": 3
   },
   "file_extension": ".py",
   "mimetype": "text/x-python",
   "name": "python",
   "nbconvert_exporter": "python",
   "pygments_lexer": "ipython3",
   "version": "3.9.7"
  }
 },
 "nbformat": 4,
 "nbformat_minor": 1
}
